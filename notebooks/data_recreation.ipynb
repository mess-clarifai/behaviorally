{
 "cells": [
  {
   "cell_type": "markdown",
   "metadata": {},
   "source": [
    "# Data Recreation\n",
    "\n",
    "---\n",
    "\n",
    ">   config info below"
   ]
  },
  {
   "cell_type": "markdown",
   "metadata": {},
   "source": [
    "## Overview\n",
    "\n",
    "Now that we have the specific requested images, I just want to reassemble the data and write it out to a _clean_ `.csv` file."
   ]
  },
  {
   "cell_type": "markdown",
   "metadata": {},
   "source": [
    "## Setup\n"
   ]
  },
  {
   "cell_type": "markdown",
   "metadata": {},
   "source": [
    "### Working Directory\n",
    "\n",
    "This just helps with using local imports from the larger project to the notebook."
   ]
  },
  {
   "cell_type": "code",
   "execution_count": 1,
   "metadata": {},
   "outputs": [
    {
     "name": "stdout",
     "output_type": "stream",
     "text": [
      "/Users/chrismessier/work/behaviorally\n"
     ]
    }
   ],
   "source": [
    "cd ../"
   ]
  },
  {
   "cell_type": "markdown",
   "metadata": {},
   "source": [
    "### Imports"
   ]
  },
  {
   "cell_type": "code",
   "execution_count": 2,
   "metadata": {},
   "outputs": [],
   "source": [
    "import os\n",
    "\n",
    "import numpy as np\n",
    "import pandas as pd\n",
    "import seaborn as sns\n",
    "from tqdm.notebook import tqdm\n",
    "from numpy import random as rng\n",
    "import matplotlib as mpl\n",
    "from matplotlib import pyplot as plt\n",
    "from google.protobuf.struct_pb2 import Struct\n",
    "from clarifai_grpc.channel.clarifai_channel import ClarifaiChannel\n",
    "from clarifai_grpc.grpc.api import resources_pb2, service_pb2, service_pb2_grpc\n",
    "from clarifai_grpc.grpc.api.status import status_pb2, status_code_pb2\n",
    "\n",
    "import processors\n",
    "import tools"
   ]
  },
  {
   "cell_type": "markdown",
   "metadata": {},
   "source": []
  },
  {
   "cell_type": "markdown",
   "metadata": {},
   "source": [
    "#### Config"
   ]
  },
  {
   "cell_type": "code",
   "execution_count": 3,
   "metadata": {},
   "outputs": [],
   "source": [
    "import warnings\n",
    "warnings.filterwarnings('ignore')"
   ]
  },
  {
   "cell_type": "code",
   "execution_count": 4,
   "metadata": {},
   "outputs": [],
   "source": [
    "# for replicability\n",
    "rng.seed(42)\n",
    "# rng.seed(304)"
   ]
  },
  {
   "cell_type": "code",
   "execution_count": 5,
   "metadata": {},
   "outputs": [],
   "source": [
    "%matplotlib inline\n",
    "\n",
    "mpl.rcParams['figure.figsize'] = (12, 9)\n",
    "\n",
    "sns.set(\n",
    "    style='darkgrid'\n",
    ")"
   ]
  },
  {
   "cell_type": "code",
   "execution_count": 6,
   "metadata": {},
   "outputs": [],
   "source": [
    "from config import KEY_METRICS,\\\n",
    "    KEY_CONDITIONALS,\\\n",
    "    TO_NORMALIZE,\\\n",
    "    ONS_ANALYSIS_JOB_NUMBERS,\\\n",
    "    IMAGES_OF_INTEREST"
   ]
  },
  {
   "cell_type": "code",
   "execution_count": 7,
   "metadata": {},
   "outputs": [],
   "source": [
    "N = 51  # sample size for images, keep LOW for dev"
   ]
  },
  {
   "cell_type": "markdown",
   "metadata": {},
   "source": [
    "#### Functions"
   ]
  },
  {
   "cell_type": "markdown",
   "metadata": {},
   "source": [
    "# Work"
   ]
  },
  {
   "cell_type": "markdown",
   "metadata": {},
   "source": [
    "## Plan\n",
    "\n",
    "Import the images of interest from Behaviorally. \n",
    "Load Tony's prediction results.\n",
    "Pare down to the results to the items of interest.\n",
    "Match with the IRI info, leaving out any cruft that was in previous iterations due to my matching attempts (aka upc)."
   ]
  },
  {
   "cell_type": "markdown",
   "metadata": {},
   "source": [
    "Use this as a demonstration of setting data delivery standards!"
   ]
  },
  {
   "cell_type": "code",
   "execution_count": 8,
   "metadata": {},
   "outputs": [],
   "source": [
    "ONS_OUTPUT = \"/Users/chrismessier/work/behaviorally/data/ONS_output_Tony_Round 1.xlsx\""
   ]
  },
  {
   "cell_type": "code",
   "execution_count": 9,
   "metadata": {},
   "outputs": [],
   "source": [
    "ons = pd.read_excel(ONS_OUTPUT)"
   ]
  },
  {
   "cell_type": "code",
   "execution_count": 10,
   "metadata": {},
   "outputs": [
    {
     "data": {
      "text/html": [
       "<div>\n",
       "<style scoped>\n",
       "    .dataframe tbody tr th:only-of-type {\n",
       "        vertical-align: middle;\n",
       "    }\n",
       "\n",
       "    .dataframe tbody tr th {\n",
       "        vertical-align: top;\n",
       "    }\n",
       "\n",
       "    .dataframe thead th {\n",
       "        text-align: right;\n",
       "    }\n",
       "</style>\n",
       "<table border=\"1\" class=\"dataframe\">\n",
       "  <thead>\n",
       "    <tr style=\"text-align: right;\">\n",
       "      <th></th>\n",
       "      <th>Image Name</th>\n",
       "      <th>Image ID</th>\n",
       "      <th>Raw ONS Line and Pack</th>\n",
       "    </tr>\n",
       "  </thead>\n",
       "  <tbody>\n",
       "    <tr>\n",
       "      <th>2313</th>\n",
       "      <td>AD090_PACK3C.jpg</td>\n",
       "      <td>PACK3C</td>\n",
       "      <td>82.0</td>\n",
       "    </tr>\n",
       "    <tr>\n",
       "      <th>315</th>\n",
       "      <td>AB474_LINE13.jpg</td>\n",
       "      <td>LINE13</td>\n",
       "      <td>82.0</td>\n",
       "    </tr>\n",
       "    <tr>\n",
       "      <th>2328</th>\n",
       "      <td>AD106_PACK1.jpg</td>\n",
       "      <td>PACK1</td>\n",
       "      <td>71.0</td>\n",
       "    </tr>\n",
       "  </tbody>\n",
       "</table>\n",
       "</div>"
      ],
      "text/plain": [
       "            Image Name Image ID  Raw ONS Line and Pack\n",
       "2313  AD090_PACK3C.jpg   PACK3C                   82.0\n",
       "315   AB474_LINE13.jpg   LINE13                   82.0\n",
       "2328   AD106_PACK1.jpg    PACK1                   71.0"
      ]
     },
     "execution_count": 10,
     "metadata": {},
     "output_type": "execute_result"
    }
   ],
   "source": [
    "ons.sample(3)"
   ]
  },
  {
   "cell_type": "markdown",
   "metadata": {},
   "source": [
    "## Images of Interest"
   ]
  },
  {
   "cell_type": "code",
   "execution_count": 11,
   "metadata": {},
   "outputs": [],
   "source": [
    "from config import IMAGES_OF_INTEREST"
   ]
  },
  {
   "cell_type": "code",
   "execution_count": 12,
   "metadata": {},
   "outputs": [
    {
     "name": "stdout",
     "output_type": "stream",
     "text": [
      "Total images of interest: 51\n",
      "\n"
     ]
    }
   ],
   "source": [
    "total_ioi = len(IMAGES_OF_INTEREST)\n",
    "\n",
    "print(f\"Total images of interest: {total_ioi}\", end=\"\\n\\n\")"
   ]
  },
  {
   "cell_type": "code",
   "execution_count": 13,
   "metadata": {},
   "outputs": [],
   "source": [
    "ons_ = ons[ons['Image Name'].isin(IMAGES_OF_INTEREST)].copy()"
   ]
  },
  {
   "cell_type": "code",
   "execution_count": 14,
   "metadata": {},
   "outputs": [],
   "source": [
    "nrows, ncols = ons_.shape"
   ]
  },
  {
   "cell_type": "code",
   "execution_count": 15,
   "metadata": {},
   "outputs": [],
   "source": [
    "missing_images = [x for x in IMAGES_OF_INTEREST if x not in ons['Image Name'].values]"
   ]
  },
  {
   "cell_type": "code",
   "execution_count": 16,
   "metadata": {},
   "outputs": [
    {
     "data": {
      "text/plain": [
       "['AD692_LINE1.png', 'L2115_LINE1.jpg', 'AD615_LINE1.jpg']"
      ]
     },
     "execution_count": 16,
     "metadata": {},
     "output_type": "execute_result"
    }
   ],
   "source": [
    "missing_images"
   ]
  },
  {
   "cell_type": "markdown",
   "metadata": {},
   "source": [
    "## Product Info\n",
    "\n",
    "I'm going to just use the _most_ recent data they've shared with us."
   ]
  },
  {
   "cell_type": "code",
   "execution_count": 17,
   "metadata": {},
   "outputs": [],
   "source": [
    "PRODUCT_INFO = \"/Users/chrismessier/work/behaviorally/data/[FINALIZED] IRI Data Product List_3.21.22.xlsx\""
   ]
  },
  {
   "cell_type": "code",
   "execution_count": 18,
   "metadata": {},
   "outputs": [],
   "source": [
    "products = pd.read_excel(PRODUCT_INFO, sheet_name='50 products')\n",
    "products.dropna(how='all', axis=0, inplace=True)\n",
    "products.drop(columns=['SKU #'], inplace=True)  # I'm keeping jobnumber as that's used by them internally, and the rest for data richness.\n"
   ]
  },
  {
   "cell_type": "markdown",
   "metadata": {},
   "source": [
    "Their team has been using the column 'Existing Images' as the ground truth."
   ]
  },
  {
   "cell_type": "code",
   "execution_count": 19,
   "metadata": {},
   "outputs": [
    {
     "data": {
      "text/html": [
       "<div>\n",
       "<style scoped>\n",
       "    .dataframe tbody tr th:only-of-type {\n",
       "        vertical-align: middle;\n",
       "    }\n",
       "\n",
       "    .dataframe tbody tr th {\n",
       "        vertical-align: top;\n",
       "    }\n",
       "\n",
       "    .dataframe thead th {\n",
       "        text-align: right;\n",
       "    }\n",
       "</style>\n",
       "<table border=\"1\" class=\"dataframe\">\n",
       "  <thead>\n",
       "    <tr style=\"text-align: right;\">\n",
       "      <th></th>\n",
       "      <th>JobNumber</th>\n",
       "      <th>Category</th>\n",
       "      <th>Product description</th>\n",
       "      <th>Variant</th>\n",
       "      <th>UPC</th>\n",
       "      <th>Existing Images</th>\n",
       "      <th>Scraped Online Images</th>\n",
       "    </tr>\n",
       "  </thead>\n",
       "  <tbody>\n",
       "    <tr>\n",
       "      <th>146</th>\n",
       "      <td>AB128.00</td>\n",
       "      <td>H/B - Beauty - Hair Care - Shampoo &amp; Conditioner</td>\n",
       "      <td>Vamousse Lice Treatment Complete Kit</td>\n",
       "      <td>Regular, Complete Kit, Shampoo</td>\n",
       "      <td>358962190407</td>\n",
       "      <td>NaN</td>\n",
       "      <td>NaN</td>\n",
       "    </tr>\n",
       "    <tr>\n",
       "      <th>169</th>\n",
       "      <td>L2402.00</td>\n",
       "      <td>H/B - Health - Feminine Care/Incontinence</td>\n",
       "      <td>One by Poise Panty Liners (2-in-1 Period &amp; Bla...</td>\n",
       "      <td>2 in 1 liners 50 ct, 2 in 1 pads 22 ct, 2 in 1...</td>\n",
       "      <td>36000534481</td>\n",
       "      <td>NaN</td>\n",
       "      <td>NaN</td>\n",
       "    </tr>\n",
       "    <tr>\n",
       "      <th>155</th>\n",
       "      <td>AD688.00</td>\n",
       "      <td>H/B - Beauty - Skin Care</td>\n",
       "      <td>Banana Boat Sport Ultra Sunscreen Lotion 8 Oz,...</td>\n",
       "      <td>sport ulta 50, kids sport 50, baby mineral 50</td>\n",
       "      <td>79656049725</td>\n",
       "      <td>NaN</td>\n",
       "      <td>NaN</td>\n",
       "    </tr>\n",
       "  </tbody>\n",
       "</table>\n",
       "</div>"
      ],
      "text/plain": [
       "    JobNumber                                          Category  \\\n",
       "146  AB128.00  H/B - Beauty - Hair Care - Shampoo & Conditioner   \n",
       "169  L2402.00         H/B - Health - Feminine Care/Incontinence   \n",
       "155  AD688.00                          H/B - Beauty - Skin Care   \n",
       "\n",
       "                                   Product description  \\\n",
       "146               Vamousse Lice Treatment Complete Kit   \n",
       "169  One by Poise Panty Liners (2-in-1 Period & Bla...   \n",
       "155  Banana Boat Sport Ultra Sunscreen Lotion 8 Oz,...   \n",
       "\n",
       "                                               Variant           UPC  \\\n",
       "146                     Regular, Complete Kit, Shampoo  358962190407   \n",
       "169  2 in 1 liners 50 ct, 2 in 1 pads 22 ct, 2 in 1...   36000534481   \n",
       "155      sport ulta 50, kids sport 50, baby mineral 50   79656049725   \n",
       "\n",
       "    Existing Images Scraped Online Images  \n",
       "146             NaN                   NaN  \n",
       "169             NaN                   NaN  \n",
       "155             NaN                   NaN  "
      ]
     },
     "execution_count": 19,
     "metadata": {},
     "output_type": "execute_result"
    }
   ],
   "source": [
    "products.sample(3)"
   ]
  },
  {
   "cell_type": "code",
   "execution_count": 20,
   "metadata": {},
   "outputs": [],
   "source": [
    "products_ = products[products['Existing Images'].isin(IMAGES_OF_INTEREST)]"
   ]
  },
  {
   "cell_type": "code",
   "execution_count": 32,
   "metadata": {},
   "outputs": [
    {
     "data": {
      "text/plain": [
       "(50, 7)"
      ]
     },
     "execution_count": 32,
     "metadata": {},
     "output_type": "execute_result"
    }
   ],
   "source": [
    "products_.shape"
   ]
  },
  {
   "cell_type": "code",
   "execution_count": 40,
   "metadata": {},
   "outputs": [],
   "source": [
    "upcs = products_['UPC'].astype(str).tolist()"
   ]
  },
  {
   "cell_type": "code",
   "execution_count": 41,
   "metadata": {},
   "outputs": [
    {
     "data": {
      "text/plain": [
       "['71990281519',\n",
       " '3024480008797',\n",
       " '613008748333',\n",
       " '87692006602',\n",
       " '8811051056',\n",
       " '12000012754',\n",
       " '48500022382',\n",
       " '43000043011',\n",
       " '786162002815',\n",
       " '881334009880',\n",
       " '762111453983',\n",
       " '82592720641',\n",
       " '31200034694',\n",
       " '087684001073',\n",
       " '49000000443',\n",
       " '12000206351',\n",
       " '12000001291',\n",
       " '70462035964',\n",
       " '34000002290',\n",
       " '7020054430',\n",
       " '2100030047',\n",
       " '20735110225',\n",
       " '21000658831',\n",
       " '4112907712',\n",
       " '5210004228',\n",
       " '44000050986',\n",
       " '2225266004',\n",
       " '028400598293',\n",
       " '1162002305',\n",
       " '22200954419',\n",
       " '41167066515',\n",
       " '841058013211',\n",
       " '761596818584',\n",
       " '11111124257',\n",
       " '36000534771',\n",
       " '35000985026',\n",
       " '300672039248',\n",
       " '885898000420',\n",
       " '46500017926',\n",
       " '35103131',\n",
       " '3320009994',\n",
       " '11027237',\n",
       " '13700824258',\n",
       " '35000973351',\n",
       " '24200043872',\n",
       " '36000494358',\n",
       " '300026995961',\n",
       " '19014610907',\n",
       " '148967228',\n",
       " '32700155858']"
      ]
     },
     "execution_count": 41,
     "metadata": {},
     "output_type": "execute_result"
    }
   ],
   "source": [
    "upcs"
   ]
  },
  {
   "cell_type": "code",
   "execution_count": 35,
   "metadata": {},
   "outputs": [],
   "source": [
    "img_upc_map = {}\n",
    "\n",
    "for i, row in products_.iterrows():\n",
    "    img_upc_map[row['Existing Images']] = row['UPC']\n"
   ]
  },
  {
   "cell_type": "markdown",
   "metadata": {},
   "source": [
    "## Report Data"
   ]
  },
  {
   "cell_type": "code",
   "execution_count": 22,
   "metadata": {},
   "outputs": [],
   "source": [
    "SALES_DATA = \"/Users/chrismessier/work/behaviorally/data/Behaviorally - Report 4.18.22[8].xlsx\""
   ]
  },
  {
   "cell_type": "markdown",
   "metadata": {},
   "source": [
    "Sales report data for the products here.\n"
   ]
  },
  {
   "cell_type": "code",
   "execution_count": 24,
   "metadata": {},
   "outputs": [],
   "source": [
    "d = pd.read_excel(SALES_DATA, sheet_name=None)"
   ]
  },
  {
   "cell_type": "code",
   "execution_count": 25,
   "metadata": {},
   "outputs": [],
   "source": [
    "report_dates = tools.infer_report_dates(range(1, 157))"
   ]
  },
  {
   "cell_type": "code",
   "execution_count": 26,
   "metadata": {},
   "outputs": [],
   "source": [
    "sales = processors.behaviorally_reports(SALES_DATA)"
   ]
  },
  {
   "cell_type": "code",
   "execution_count": 27,
   "metadata": {},
   "outputs": [],
   "source": [
    "sales['report_dates'] = sales['REPORT'].apply(lambda i: report_dates[int(i)-1])"
   ]
  },
  {
   "cell_type": "code",
   "execution_count": 29,
   "metadata": {},
   "outputs": [
    {
     "data": {
      "text/html": [
       "<div>\n",
       "<style scoped>\n",
       "    .dataframe tbody tr th:only-of-type {\n",
       "        vertical-align: middle;\n",
       "    }\n",
       "\n",
       "    .dataframe tbody tr th {\n",
       "        vertical-align: top;\n",
       "    }\n",
       "\n",
       "    .dataframe thead th {\n",
       "        text-align: right;\n",
       "    }\n",
       "</style>\n",
       "<table border=\"1\" class=\"dataframe\">\n",
       "  <thead>\n",
       "    <tr style=\"text-align: right;\">\n",
       "      <th></th>\n",
       "      <th>Product</th>\n",
       "      <th>Dollar Sales</th>\n",
       "      <th>Dollar Sales % Change vs YA</th>\n",
       "      <th>Unit Sales</th>\n",
       "      <th>Unit Sales % Change vs YA</th>\n",
       "      <th>Unit Share of Category</th>\n",
       "      <th>Unit Share of Category Year Ago</th>\n",
       "      <th>Unit Share of SubCategory</th>\n",
       "      <th>Unit Share of SubCategory Year Ago</th>\n",
       "      <th>Price per Unit</th>\n",
       "      <th>Price per Unit % Change vs YA</th>\n",
       "      <th>UPC 10 digit</th>\n",
       "      <th>Category Name</th>\n",
       "      <th>Sub-Category Name</th>\n",
       "      <th>Brand Name</th>\n",
       "      <th>REPORT</th>\n",
       "      <th>report_dates</th>\n",
       "    </tr>\n",
       "  </thead>\n",
       "  <tbody>\n",
       "    <tr>\n",
       "      <th>13</th>\n",
       "      <td>SOUR PATCH KIDS ASSORTED SOUR CHEWY CANDY PIEC...</td>\n",
       "      <td>NaN</td>\n",
       "      <td>NaN</td>\n",
       "      <td>NaN</td>\n",
       "      <td>NaN</td>\n",
       "      <td>NaN</td>\n",
       "      <td>NaN</td>\n",
       "      <td>NaN</td>\n",
       "      <td>NaN</td>\n",
       "      <td>NaN</td>\n",
       "      <td>NaN</td>\n",
       "      <td>0462035964</td>\n",
       "      <td>NON-CHOCOLATE CANDY</td>\n",
       "      <td>NON CHOCOLATE CHEWY CANDY</td>\n",
       "      <td>SOUR PATCH KIDS</td>\n",
       "      <td>30</td>\n",
       "      <td>2019-10-27</td>\n",
       "    </tr>\n",
       "  </tbody>\n",
       "</table>\n",
       "</div>"
      ],
      "text/plain": [
       "                                              Product Dollar Sales  \\\n",
       "13  SOUR PATCH KIDS ASSORTED SOUR CHEWY CANDY PIEC...          NaN   \n",
       "\n",
       "   Dollar Sales % Change vs YA Unit Sales Unit Sales % Change vs YA  \\\n",
       "13                         NaN        NaN                       NaN   \n",
       "\n",
       "   Unit Share of Category Unit Share of Category Year Ago  \\\n",
       "13                    NaN                             NaN   \n",
       "\n",
       "   Unit Share of SubCategory Unit Share of SubCategory Year Ago  \\\n",
       "13                       NaN                                NaN   \n",
       "\n",
       "   Price per Unit Price per Unit % Change vs YA UPC 10 digit  \\\n",
       "13            NaN                           NaN   0462035964   \n",
       "\n",
       "          Category Name          Sub-Category Name       Brand Name REPORT  \\\n",
       "13  NON-CHOCOLATE CANDY  NON CHOCOLATE CHEWY CANDY  SOUR PATCH KIDS     30   \n",
       "\n",
       "   report_dates  \n",
       "13   2019-10-27  "
      ]
     },
     "execution_count": 29,
     "metadata": {},
     "output_type": "execute_result"
    }
   ],
   "source": [
    "sales.sample(1)"
   ]
  },
  {
   "cell_type": "markdown",
   "metadata": {},
   "source": [
    "Obviously the upc mapping is just unavoidable."
   ]
  },
  {
   "cell_type": "markdown",
   "metadata": {},
   "source": []
  }
 ],
 "metadata": {
  "interpreter": {
   "hash": "5989d0768d935c7ff7e4731f453a8814b618c97145c1a2ccb8e17767eb008288"
  },
  "kernelspec": {
   "display_name": "Python 3.7.9 64-bit",
   "name": "python3"
  },
  "language_info": {
   "codemirror_mode": {
    "name": "ipython",
    "version": 3
   },
   "file_extension": ".py",
   "mimetype": "text/x-python",
   "name": "python",
   "nbconvert_exporter": "python",
   "pygments_lexer": "ipython3",
   "version": "3.7.9"
  },
  "orig_nbformat": 4
 },
 "nbformat": 4,
 "nbformat_minor": 2
}
