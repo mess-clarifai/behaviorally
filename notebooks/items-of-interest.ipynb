{
 "cells": [
  {
   "cell_type": "markdown",
   "metadata": {},
   "source": [
    "# Project Forensics\n",
    "\n",
    "---"
   ]
  },
  {
   "cell_type": "markdown",
   "metadata": {},
   "source": [
    "## Setup\n"
   ]
  },
  {
   "cell_type": "markdown",
   "metadata": {},
   "source": [
    "### Working Directory\n",
    "\n",
    "This just helps with using local imports from the larger project to the notebook."
   ]
  },
  {
   "cell_type": "code",
   "execution_count": 1,
   "metadata": {},
   "outputs": [
    {
     "name": "stdout",
     "output_type": "stream",
     "text": [
      "/Users/chrismessier/work/behaviorally\n"
     ]
    }
   ],
   "source": [
    "cd ../"
   ]
  },
  {
   "cell_type": "markdown",
   "metadata": {},
   "source": [
    "### Imports"
   ]
  },
  {
   "cell_type": "code",
   "execution_count": 2,
   "metadata": {},
   "outputs": [],
   "source": [
    "import pandas as pd\n",
    "import seaborn as sns\n",
    "from matplotlib import pyplot as plt"
   ]
  },
  {
   "cell_type": "code",
   "execution_count": 3,
   "metadata": {},
   "outputs": [],
   "source": [
    "import os\n",
    "\n",
    "from google.protobuf.struct_pb2 import Struct\n",
    "from clarifai_grpc.channel.clarifai_channel import ClarifaiChannel\n",
    "from clarifai_grpc.grpc.api import resources_pb2, service_pb2, service_pb2_grpc\n",
    "from clarifai_grpc.grpc.api.status import status_pb2, status_code_pb2"
   ]
  },
  {
   "cell_type": "markdown",
   "metadata": {},
   "source": [
    "#### Plotting Config"
   ]
  },
  {
   "cell_type": "code",
   "execution_count": 4,
   "metadata": {},
   "outputs": [],
   "source": [
    "%matplotlib inline\n",
    "sns.set(\n",
    "    style='darkgrid'\n",
    ")"
   ]
  },
  {
   "cell_type": "markdown",
   "metadata": {},
   "source": [
    "### Methods"
   ]
  },
  {
   "cell_type": "code",
   "execution_count": 5,
   "metadata": {},
   "outputs": [],
   "source": [
    "def load_spreadsheet(f):\n",
    "    pass"
   ]
  },
  {
   "cell_type": "markdown",
   "metadata": {},
   "source": [
    "### Client Initialization"
   ]
  },
  {
   "cell_type": "code",
   "execution_count": 6,
   "metadata": {},
   "outputs": [],
   "source": [
    "channel = ClarifaiChannel.get_json_channel()\n",
    "stub = service_pb2_grpc.V2Stub(channel)"
   ]
  },
  {
   "cell_type": "code",
   "execution_count": 7,
   "metadata": {},
   "outputs": [],
   "source": [
    "API_KEY = None"
   ]
  },
  {
   "cell_type": "code",
   "execution_count": 8,
   "metadata": {},
   "outputs": [],
   "source": [
    "metadata = (('authorization', f'Key {API_KEY}'),)  # key value referenced from config module"
   ]
  },
  {
   "cell_type": "markdown",
   "metadata": {},
   "source": [
    "## Analysis"
   ]
  },
  {
   "cell_type": "markdown",
   "metadata": {},
   "source": [
    "### Background"
   ]
  },
  {
   "cell_type": "markdown",
   "metadata": {},
   "source": [
    "### Spreadsheets"
   ]
  },
  {
   "cell_type": "code",
   "execution_count": 9,
   "metadata": {},
   "outputs": [],
   "source": [
    "doc_4 = '/Users/chrismessier/work/behaviorally/data/ONS_output_Tony_Round 1.xlsx'"
   ]
  },
  {
   "cell_type": "markdown",
   "metadata": {},
   "source": [
    "## Missing IRI Data\n",
    "\n",
    "Part of what was revealed on the 4/22 call with the client is that there were gaps in the coverage for what we _should_ be seeing.\n",
    "What we will take to be the ground-truth set of concepts-of-interest to be the set containing all of the items on the white rows of the '50 products' sheet of the [IRI Data Product List_3.21.22.xlsx spreadsheet](https://docs.google.com/spreadsheets/d/1HCsjUscUtgbhRXdIfxcJCENzz2ZhwicnJcwcEoZuoYw/edit?usp=sharing)."
   ]
  },
  {
   "cell_type": "code",
   "execution_count": 10,
   "metadata": {},
   "outputs": [],
   "source": [
    "# manual copy/paste from the spreadsheet.\n",
    "iri_job_numbers = [\n",
    "    \"AD905.00\",\n",
    "    \"AD112.00\",\n",
    "    \"AD456.00\",\n",
    "    \"L2362.00\",\n",
    "    \"AC296.00\",\n",
    "    \"AB031.00\",\n",
    "    \"AB220.00\",\n",
    "    \"L2310.00\",\n",
    "    \"AD386.00\",\n",
    "    \"AC808.00\",\n",
    "    \"L1874.00\",\n",
    "    \"AB653.00\",\n",
    "    \"AC904.00\",\n",
    "    \"AD411.00\",\n",
    "    \"AD387.00\",\n",
    "    \"AD474.00\",\n",
    "    \"AD719.00\",\n",
    "    \"AB111.00\",\n",
    "    \"AD517.00\",\n",
    "    \"L2403.00\",\n",
    "    \"AB219.00\",\n",
    "    \"AB474.00\",\n",
    "    \"AD230.00\",\n",
    "    \"AD457.00\",\n",
    "    \"AC624.00\",\n",
    "    \"AD087.00c\",\n",
    "    \"AD692.00\",\n",
    "    \"L1501.00\",\n",
    "    \"AD296.00\",\n",
    "    \"AD445.00\",\n",
    "    \"AB185.00\",\n",
    "    \"L2331.00\",\n",
    "    \"AD518.00\",\n",
    "    \"AD216.00\",\n",
    "    \"AD275.00\",\n",
    "    \"AD145.00\",\n",
    "    # \"AB759.00\",  # accidentally added due to highlighting mix-up\n",
    "    \"AD513.00\",\n",
    "    \"AD324.00\",\n",
    "    \"AC870.00\",\n",
    "    \"AC856.00\",\n",
    "    \"AD672.00\",\n",
    "    \"AB249.00\",\n",
    "    \"L2115.00\",\n",
    "    \"AD083.00\",\n",
    "    \"AD615.00\",\n",
    "    \"AD507.00\",\n",
    "    \"AD644.00\",\n",
    "    \"AD697.00\",\n",
    "    \"AD437.00\",\n",
    "    \"AC638.00\",\n",
    "    \"AD549.00\",\n",
    "]"
   ]
  },
  {
   "cell_type": "code",
   "execution_count": 11,
   "metadata": {},
   "outputs": [],
   "source": [
    "clean_iri_job_numbers = [s.split('.')[0] for s in iri_job_numbers]"
   ]
  },
  {
   "cell_type": "code",
   "execution_count": 12,
   "metadata": {},
   "outputs": [
    {
     "data": {
      "text/plain": [
       "['AD905',\n",
       " 'AD112',\n",
       " 'AD456',\n",
       " 'L2362',\n",
       " 'AC296',\n",
       " 'AB031',\n",
       " 'AB220',\n",
       " 'L2310',\n",
       " 'AD386',\n",
       " 'AC808',\n",
       " 'L1874',\n",
       " 'AB653',\n",
       " 'AC904',\n",
       " 'AD411',\n",
       " 'AD387',\n",
       " 'AD474',\n",
       " 'AD719',\n",
       " 'AB111',\n",
       " 'AD517',\n",
       " 'L2403',\n",
       " 'AB219',\n",
       " 'AB474',\n",
       " 'AD230',\n",
       " 'AD457',\n",
       " 'AC624',\n",
       " 'AD087',\n",
       " 'AD692',\n",
       " 'L1501',\n",
       " 'AD296',\n",
       " 'AD445',\n",
       " 'AB185',\n",
       " 'L2331',\n",
       " 'AD518',\n",
       " 'AD216',\n",
       " 'AD275',\n",
       " 'AD145',\n",
       " 'AD513',\n",
       " 'AD324',\n",
       " 'AC870',\n",
       " 'AC856',\n",
       " 'AD672',\n",
       " 'AB249',\n",
       " 'L2115',\n",
       " 'AD083',\n",
       " 'AD615',\n",
       " 'AD507',\n",
       " 'AD644',\n",
       " 'AD697',\n",
       " 'AD437',\n",
       " 'AC638',\n",
       " 'AD549']"
      ]
     },
     "execution_count": 12,
     "metadata": {},
     "output_type": "execute_result"
    }
   ],
   "source": [
    "clean_iri_job_numbers"
   ]
  },
  {
   "cell_type": "code",
   "execution_count": 13,
   "metadata": {},
   "outputs": [],
   "source": [
    "# bringing this back in, for convenience.\n",
    "target_sheet = 'ONS_output_Tony'\n",
    "ons_results = pd.read_excel(doc_4, sheet_name=target_sheet)"
   ]
  },
  {
   "cell_type": "code",
   "execution_count": 14,
   "metadata": {},
   "outputs": [],
   "source": [
    "clean_ons_job_numbers = [s.split('_')[0] for s in ons_results['Image Name'].values] "
   ]
  },
  {
   "cell_type": "code",
   "execution_count": 15,
   "metadata": {},
   "outputs": [],
   "source": [
    "ons_jobs_set = set(clean_ons_job_numbers)\n",
    "iri_jobs_set = set(clean_iri_job_numbers)"
   ]
  },
  {
   "cell_type": "code",
   "execution_count": 16,
   "metadata": {},
   "outputs": [],
   "source": [
    "# NOTE this is how you get all items in the union but not intersection of two sets\n",
    "# h/t: https://stackoverflow.com/a/29947893\n",
    "# diff = ons_jobs_set.symmetric_difference(iri_jobs_set)\n",
    "# len(diff)"
   ]
  },
  {
   "cell_type": "code",
   "execution_count": 17,
   "metadata": {},
   "outputs": [
    {
     "name": "stdout",
     "output_type": "stream",
     "text": [
      "There are 536 total unique job_numbers in Tony's data.\n"
     ]
    }
   ],
   "source": [
    "print(f\"\"\"There are {len(ons_jobs_set)} total unique job_numbers in Tony's data.\"\"\")"
   ]
  },
  {
   "cell_type": "markdown",
   "metadata": {},
   "source": [
    "### Writing\n",
    "\n",
    "In order to share this conveniently, I'm going to write all of it to a file(s). "
   ]
  },
  {
   "cell_type": "code",
   "execution_count": 20,
   "metadata": {},
   "outputs": [],
   "source": [
    "with open('data/JobNumbers.yaml', 'w') as f:\n",
    "    f.write('JobNumber:'+'\\n')\n",
    "    for x in iri_jobs_set:\n",
    "        f.write('  - '+x+'\\n')\n"
   ]
  },
  {
   "cell_type": "code",
   "execution_count": 19,
   "metadata": {},
   "outputs": [
    {
     "name": "stdout",
     "output_type": "stream",
     "text": [
      "L2115 is MISSING\n"
     ]
    }
   ],
   "source": [
    "for x in iri_jobs_set:\n",
    "    if x in ons_jobs_set:\n",
    "        pass\n",
    "    else:\n",
    "        print(x, \"is MISSING\")"
   ]
  },
  {
   "cell_type": "markdown",
   "metadata": {},
   "source": []
  }
 ],
 "metadata": {
  "interpreter": {
   "hash": "5989d0768d935c7ff7e4731f453a8814b618c97145c1a2ccb8e17767eb008288"
  },
  "kernelspec": {
   "display_name": "Python 3.7.9 64-bit",
   "name": "python3"
  },
  "language_info": {
   "codemirror_mode": {
    "name": "ipython",
    "version": 3
   },
   "file_extension": ".py",
   "mimetype": "text/x-python",
   "name": "python",
   "nbconvert_exporter": "python",
   "pygments_lexer": "ipython3",
   "version": "3.7.9"
  },
  "orig_nbformat": 4
 },
 "nbformat": 4,
 "nbformat_minor": 2
}
