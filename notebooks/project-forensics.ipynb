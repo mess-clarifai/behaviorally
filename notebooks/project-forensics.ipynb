{
 "cells": [
  {
   "cell_type": "markdown",
   "metadata": {},
   "source": [
    "# Project Forensics\n",
    "\n",
    "---"
   ]
  },
  {
   "cell_type": "markdown",
   "metadata": {},
   "source": [
    "## Setup\n"
   ]
  },
  {
   "cell_type": "markdown",
   "metadata": {},
   "source": [
    "### Working Directory\n",
    "\n",
    "This just helps with using local imports from the larger project to the notebook."
   ]
  },
  {
   "cell_type": "code",
   "execution_count": 1,
   "metadata": {},
   "outputs": [
    {
     "name": "stdout",
     "output_type": "stream",
     "text": [
      "/Users/chrismessier/work/behaviorally\n"
     ]
    }
   ],
   "source": [
    "cd ../"
   ]
  },
  {
   "cell_type": "markdown",
   "metadata": {},
   "source": [
    "### Imports"
   ]
  },
  {
   "cell_type": "code",
   "execution_count": 2,
   "metadata": {},
   "outputs": [],
   "source": [
    "import pandas as pd\n",
    "import seaborn as sns"
   ]
  },
  {
   "cell_type": "code",
   "execution_count": 3,
   "metadata": {},
   "outputs": [],
   "source": [
    "import os\n",
    "\n",
    "from google.protobuf.struct_pb2 import Struct\n",
    "from clarifai_grpc.channel.clarifai_channel import ClarifaiChannel\n",
    "from clarifai_grpc.grpc.api import resources_pb2, service_pb2, service_pb2_grpc\n",
    "from clarifai_grpc.grpc.api.status import status_pb2, status_code_pb2"
   ]
  },
  {
   "cell_type": "markdown",
   "metadata": {},
   "source": [
    "#### Plotting Config"
   ]
  },
  {
   "cell_type": "code",
   "execution_count": 4,
   "metadata": {},
   "outputs": [],
   "source": [
    "%matplotlib inline\n",
    "sns.set(\n",
    "    style='darkgrid'\n",
    ")"
   ]
  },
  {
   "cell_type": "markdown",
   "metadata": {},
   "source": [
    "### Methods"
   ]
  },
  {
   "cell_type": "code",
   "execution_count": 5,
   "metadata": {},
   "outputs": [],
   "source": [
    "def load_spreadsheet(f):\n",
    "    pass"
   ]
  },
  {
   "cell_type": "markdown",
   "metadata": {},
   "source": [
    "### Client Initialization"
   ]
  },
  {
   "cell_type": "code",
   "execution_count": 6,
   "metadata": {},
   "outputs": [],
   "source": [
    "channel = ClarifaiChannel.get_json_channel()\n",
    "stub = service_pb2_grpc.V2Stub(channel)"
   ]
  },
  {
   "cell_type": "code",
   "execution_count": 7,
   "metadata": {},
   "outputs": [],
   "source": [
    "API_KEY = None"
   ]
  },
  {
   "cell_type": "code",
   "execution_count": 8,
   "metadata": {},
   "outputs": [],
   "source": [
    "metadata = (('authorization', f'Key {API_KEY}'),)  # key value referenced from config module"
   ]
  },
  {
   "cell_type": "markdown",
   "metadata": {},
   "source": [
    "## Analysis"
   ]
  },
  {
   "cell_type": "markdown",
   "metadata": {},
   "source": [
    "### Background"
   ]
  },
  {
   "cell_type": "markdown",
   "metadata": {},
   "source": [
    "### Spreadsheets"
   ]
  },
  {
   "cell_type": "markdown",
   "metadata": {},
   "source": [
    "There were three spreadsheets shared with me, which I have uploaded to the following Google Sheets:\n",
    "\n",
    "- [[BEHAVIORALLY] ONS Validation_dcs_processed_v1.3.xlsx](https://docs.google.com/spreadsheets/d/12aDefcKhb9-LSILRo0t5ttLLxvxfe81ft-MYJhLbVYk/edit?usp=sharing)\n",
    "- [[BEHAVIORALLY] IRI Data Product List_3.21.22.xlsx](https://docs.google.com/spreadsheets/d/1HCsjUscUtgbhRXdIfxcJCENzz2ZhwicnJcwcEoZuoYw/edit#gid=1323785198)\n",
    "- [[BEHAVIORALLY] Behaviorally - Report 4.18.22[8].xlsx](https://docs.google.com/spreadsheets/d/169Bu7yhN6tuTpAgQAr2BV-l8MBxCwEpvAVkR2PDjZBA/edit?usp=sharing)\n",
    "\n",
    "As well as one `.eml` file:\n",
    "\n",
    "- 'data/Re- Respondent database request.eml'\n",
    "\n",
    "Upon quick inspection, the `.eml` file appears to be email records.\n",
    "I saw the name \"Durga\" which was also the name of one of the correspondents on the email chain Bryan forwarded to me as well.\n",
    "I've been told to ignore this file for the time being."
   ]
  },
  {
   "cell_type": "code",
   "execution_count": 9,
   "metadata": {},
   "outputs": [],
   "source": [
    "doc_1 = '/Users/chrismessier/work/behaviorally/data/Behaviorally - Report 4.18.22[8].xlsx'\n",
    "doc_2 = '/Users/chrismessier/work/behaviorally/data/IRI Data Product List_3.21.22.xlsx'\n",
    "doc_3 = '/Users/chrismessier/work/behaviorally/data/ONS Validation_dcs_processed_v1.3.xlsx'"
   ]
  },
  {
   "cell_type": "code",
   "execution_count": 10,
   "metadata": {},
   "outputs": [],
   "source": [
    "d = pd.read_excel(doc_3, sheet_name=None)  # coerce it to parse all sheets and return a dict"
   ]
  },
  {
   "cell_type": "markdown",
   "metadata": {},
   "source": [
    "After checking on this the 'Report' spreadsheet, isn't super well organized by sheets, as it's just incremental integers.\n",
    "I will need to dig into the structure a bit...\n",
    "\n",
    "After looking into the sheets, each of these is a report.\n",
    "In each sheet there's more information on the associated report.\n",
    "What's more important though, is the information I got from Bryan about the project."
   ]
  },
  {
   "cell_type": "markdown",
   "metadata": {},
   "source": [
    "There are two files of interest, [`doc_1`](https://docs.google.com/spreadsheets/d/12aDefcKhb9-LSILRo0t5ttLLxvxfe81ft-MYJhLbVYk/edit?usp=sharing)"
   ]
  },
  {
   "cell_type": "markdown",
   "metadata": {},
   "source": [
    "Suddenly, a wild spreadsheet appeared!\n",
    "\n",
    "> [ONS_output_Tony_Round 1.xlsx](https://docs.google.com/spreadsheets/d/1ft-XNY-UQbcVsivONW7Ig9byVTxBkRHJ/edit?usp=sharing&ouid=116368867705255658120&rtpof=true&sd=true)\n",
    "\n",
    "Which was downloaded locally, and can be set..."
   ]
  },
  {
   "cell_type": "code",
   "execution_count": 11,
   "metadata": {},
   "outputs": [],
   "source": [
    "doc_4 = '/Users/chrismessier/work/behaviorally/data/ONS_output_Tony_Round 1.xlsx'"
   ]
  },
  {
   "cell_type": "markdown",
   "metadata": {},
   "source": [
    "These are the results that @tony(?) got when running the model(s) for Behaviorally.\n",
    "What is of interest is a correlation between these scores, and the revenue(?) that can be found somewhere in [these](https://docs.google.com/spreadsheets/d/169Bu7yhN6tuTpAgQAr2BV-l8MBxCwEpvAVkR2PDjZBA/edit?usp=sharing) reports.\n",
    "I'm going to start with getting the scores in first..."
   ]
  },
  {
   "cell_type": "markdown",
   "metadata": {},
   "source": [
    "The scores are contained in [this spreadsheet](https://docs.google.com/spreadsheets/d/1qJ4lYdJzrzfmzTB2v7BVMAzO3XZZXcpX/edit?usp=sharing&ouid=116368867705255658120&rtpof=true&sd=true).\n",
    "\n",
    "According to @bryan there is only one sheet of interest, `'ONS_output_Tony'`, so we will simply parse it accordingly: no need for a fancy-pants parser. 😒\n"
   ]
  },
  {
   "cell_type": "markdown",
   "metadata": {},
   "source": [
    "### `ONS_output_Tony_Round 1.xlsx:ONS_output_Tony` "
   ]
  },
  {
   "cell_type": "code",
   "execution_count": 12,
   "metadata": {},
   "outputs": [],
   "source": [
    "# @mess: @bryan, seeing as this may be the first time you are reviewing my work in this, I want to work flow explicit.  \n",
    "# I'm going to be using non-descript 'df' locally for testing, once a snippet/script is complete, that will be abstracted into a function/method/object at the top of the notebook.\n",
    "# The purpose of this is to provide easy 'breadcrumbs' for future iterations, which should always involve moving these completed snippets to stand-alone modules.\n",
    "# It is at this point that documentation standards _should_ be enforced, but we're nowhere near that point...\n",
    "\n",
    "target_sheet = 'ONS_output_Tony'\n",
    "\n",
    "df = pd.read_excel(doc_4, sheet_name=target_sheet)\n",
    "\n"
   ]
  },
  {
   "cell_type": "code",
   "execution_count": 13,
   "metadata": {},
   "outputs": [
    {
     "data": {
      "text/html": [
       "<div>\n",
       "<style scoped>\n",
       "    .dataframe tbody tr th:only-of-type {\n",
       "        vertical-align: middle;\n",
       "    }\n",
       "\n",
       "    .dataframe tbody tr th {\n",
       "        vertical-align: top;\n",
       "    }\n",
       "\n",
       "    .dataframe thead th {\n",
       "        text-align: right;\n",
       "    }\n",
       "</style>\n",
       "<table border=\"1\" class=\"dataframe\">\n",
       "  <thead>\n",
       "    <tr style=\"text-align: right;\">\n",
       "      <th></th>\n",
       "      <th>Image Name</th>\n",
       "      <th>Image ID</th>\n",
       "      <th>Raw ONS Line and Pack</th>\n",
       "    </tr>\n",
       "  </thead>\n",
       "  <tbody>\n",
       "    <tr>\n",
       "      <th>0</th>\n",
       "      <td>AB005_LINE1A.jpg</td>\n",
       "      <td>LINE1A</td>\n",
       "      <td>45.0</td>\n",
       "    </tr>\n",
       "    <tr>\n",
       "      <th>1</th>\n",
       "      <td>AB005_LINE1B.jpg</td>\n",
       "      <td>LINE1B</td>\n",
       "      <td>67.0</td>\n",
       "    </tr>\n",
       "    <tr>\n",
       "      <th>2</th>\n",
       "      <td>AB005_LINE2A.jpg</td>\n",
       "      <td>LINE2A</td>\n",
       "      <td>77.0</td>\n",
       "    </tr>\n",
       "    <tr>\n",
       "      <th>3</th>\n",
       "      <td>AB005_LINE2B.jpg</td>\n",
       "      <td>LINE2B</td>\n",
       "      <td>51.0</td>\n",
       "    </tr>\n",
       "    <tr>\n",
       "      <th>4</th>\n",
       "      <td>AB005_LINE3A.jpg</td>\n",
       "      <td>LINE3A</td>\n",
       "      <td>47.0</td>\n",
       "    </tr>\n",
       "  </tbody>\n",
       "</table>\n",
       "</div>"
      ],
      "text/plain": [
       "         Image Name Image ID  Raw ONS Line and Pack\n",
       "0  AB005_LINE1A.jpg   LINE1A                   45.0\n",
       "1  AB005_LINE1B.jpg   LINE1B                   67.0\n",
       "2  AB005_LINE2A.jpg   LINE2A                   77.0\n",
       "3  AB005_LINE2B.jpg   LINE2B                   51.0\n",
       "4  AB005_LINE3A.jpg   LINE3A                   47.0"
      ]
     },
     "execution_count": 13,
     "metadata": {},
     "output_type": "execute_result"
    }
   ],
   "source": [
    "df.head()"
   ]
  },
  {
   "cell_type": "code",
   "execution_count": 14,
   "metadata": {},
   "outputs": [
    {
     "data": {
      "text/plain": [
       "(4758, 3)"
      ]
     },
     "execution_count": 14,
     "metadata": {},
     "output_type": "execute_result"
    }
   ],
   "source": [
    "df.shape"
   ]
  },
  {
   "cell_type": "code",
   "execution_count": 15,
   "metadata": {},
   "outputs": [
    {
     "data": {
      "text/html": [
       "<div>\n",
       "<style scoped>\n",
       "    .dataframe tbody tr th:only-of-type {\n",
       "        vertical-align: middle;\n",
       "    }\n",
       "\n",
       "    .dataframe tbody tr th {\n",
       "        vertical-align: top;\n",
       "    }\n",
       "\n",
       "    .dataframe thead th {\n",
       "        text-align: right;\n",
       "    }\n",
       "</style>\n",
       "<table border=\"1\" class=\"dataframe\">\n",
       "  <thead>\n",
       "    <tr style=\"text-align: right;\">\n",
       "      <th></th>\n",
       "      <th>Image Name</th>\n",
       "      <th>Image ID</th>\n",
       "      <th>Raw ONS Line and Pack</th>\n",
       "    </tr>\n",
       "  </thead>\n",
       "  <tbody>\n",
       "    <tr>\n",
       "      <th>count</th>\n",
       "      <td>4758</td>\n",
       "      <td>4758</td>\n",
       "      <td>4758.000000</td>\n",
       "    </tr>\n",
       "    <tr>\n",
       "      <th>unique</th>\n",
       "      <td>4758</td>\n",
       "      <td>324</td>\n",
       "      <td>NaN</td>\n",
       "    </tr>\n",
       "    <tr>\n",
       "      <th>top</th>\n",
       "      <td>AB005_LINE1A.jpg</td>\n",
       "      <td>LINE1</td>\n",
       "      <td>NaN</td>\n",
       "    </tr>\n",
       "    <tr>\n",
       "      <th>freq</th>\n",
       "      <td>1</td>\n",
       "      <td>363</td>\n",
       "      <td>NaN</td>\n",
       "    </tr>\n",
       "    <tr>\n",
       "      <th>mean</th>\n",
       "      <td>NaN</td>\n",
       "      <td>NaN</td>\n",
       "      <td>49.146490</td>\n",
       "    </tr>\n",
       "    <tr>\n",
       "      <th>std</th>\n",
       "      <td>NaN</td>\n",
       "      <td>NaN</td>\n",
       "      <td>24.925337</td>\n",
       "    </tr>\n",
       "    <tr>\n",
       "      <th>min</th>\n",
       "      <td>NaN</td>\n",
       "      <td>NaN</td>\n",
       "      <td>1.000000</td>\n",
       "    </tr>\n",
       "    <tr>\n",
       "      <th>25%</th>\n",
       "      <td>NaN</td>\n",
       "      <td>NaN</td>\n",
       "      <td>27.000000</td>\n",
       "    </tr>\n",
       "    <tr>\n",
       "      <th>50%</th>\n",
       "      <td>NaN</td>\n",
       "      <td>NaN</td>\n",
       "      <td>50.000000</td>\n",
       "    </tr>\n",
       "    <tr>\n",
       "      <th>75%</th>\n",
       "      <td>NaN</td>\n",
       "      <td>NaN</td>\n",
       "      <td>72.000000</td>\n",
       "    </tr>\n",
       "    <tr>\n",
       "      <th>max</th>\n",
       "      <td>NaN</td>\n",
       "      <td>NaN</td>\n",
       "      <td>96.000000</td>\n",
       "    </tr>\n",
       "  </tbody>\n",
       "</table>\n",
       "</div>"
      ],
      "text/plain": [
       "              Image Name Image ID  Raw ONS Line and Pack\n",
       "count               4758     4758            4758.000000\n",
       "unique              4758      324                    NaN\n",
       "top     AB005_LINE1A.jpg    LINE1                    NaN\n",
       "freq                   1      363                    NaN\n",
       "mean                 NaN      NaN              49.146490\n",
       "std                  NaN      NaN              24.925337\n",
       "min                  NaN      NaN               1.000000\n",
       "25%                  NaN      NaN              27.000000\n",
       "50%                  NaN      NaN              50.000000\n",
       "75%                  NaN      NaN              72.000000\n",
       "max                  NaN      NaN              96.000000"
      ]
     },
     "execution_count": 15,
     "metadata": {},
     "output_type": "execute_result"
    }
   ],
   "source": [
    "df.describe(include='all')"
   ]
  },
  {
   "cell_type": "markdown",
   "metadata": {},
   "source": [
    "The columns are fairly self explanatory; but it is worth being explicit.\n",
    "\n",
    "- `Image Name`: the image file provided as an input for inference.\n",
    "- `Image ID`: the type of image, where\n",
    "    - 'LINE' is series of different items are arranged in a line, and\n",
    "    - 'PACK' is a single item, but the image may contain multiple instances of that item. \n",
    "- `Raw ONS Line and Pack`: the 'output' score from - control yourself, @mess, some boxes need to remain opaque! - whatever process there is.\n",
    "\n",
    "From my conversation w/ @bryan there's a little more information that can be surfaced.\n",
    "The `Image Name` values are actually a concatenation of the implied \"_Item ID_\" and the existing (hopefully...) `Image ID`."
   ]
  },
  {
   "cell_type": "markdown",
   "metadata": {},
   "source": [
    "#### An aside on convention\n",
    "\n",
    ">A quick note here, but I've tried to adhear to these naming conventions when it comes to client spreadsheets and the manipulation thereof.\n",
    ">For original column names, I try to keep them as-is from the customer.\n",
    ">For any generated columns, I always adhear to the local variable naming convention; and Clarifai is the wild west, I defer to PEP8 and use snake case.\n",
    ">An example of which can be seen below."
   ]
  },
  {
   "cell_type": "code",
   "execution_count": 16,
   "metadata": {},
   "outputs": [],
   "source": [
    "df['item_id'] = df['Image Name'].apply(lambda s: s.split('_')[0])  # retrieving the first item of the concatenated Image Name"
   ]
  },
  {
   "cell_type": "code",
   "execution_count": 17,
   "metadata": {},
   "outputs": [
    {
     "data": {
      "text/html": [
       "<div>\n",
       "<style scoped>\n",
       "    .dataframe tbody tr th:only-of-type {\n",
       "        vertical-align: middle;\n",
       "    }\n",
       "\n",
       "    .dataframe tbody tr th {\n",
       "        vertical-align: top;\n",
       "    }\n",
       "\n",
       "    .dataframe thead th {\n",
       "        text-align: right;\n",
       "    }\n",
       "</style>\n",
       "<table border=\"1\" class=\"dataframe\">\n",
       "  <thead>\n",
       "    <tr style=\"text-align: right;\">\n",
       "      <th></th>\n",
       "      <th>Image Name</th>\n",
       "      <th>Image ID</th>\n",
       "      <th>Raw ONS Line and Pack</th>\n",
       "      <th>item_id</th>\n",
       "    </tr>\n",
       "  </thead>\n",
       "  <tbody>\n",
       "    <tr>\n",
       "      <th>0</th>\n",
       "      <td>AB005_LINE1A.jpg</td>\n",
       "      <td>LINE1A</td>\n",
       "      <td>45.0</td>\n",
       "      <td>AB005</td>\n",
       "    </tr>\n",
       "    <tr>\n",
       "      <th>1</th>\n",
       "      <td>AB005_LINE1B.jpg</td>\n",
       "      <td>LINE1B</td>\n",
       "      <td>67.0</td>\n",
       "      <td>AB005</td>\n",
       "    </tr>\n",
       "    <tr>\n",
       "      <th>2</th>\n",
       "      <td>AB005_LINE2A.jpg</td>\n",
       "      <td>LINE2A</td>\n",
       "      <td>77.0</td>\n",
       "      <td>AB005</td>\n",
       "    </tr>\n",
       "    <tr>\n",
       "      <th>3</th>\n",
       "      <td>AB005_LINE2B.jpg</td>\n",
       "      <td>LINE2B</td>\n",
       "      <td>51.0</td>\n",
       "      <td>AB005</td>\n",
       "    </tr>\n",
       "    <tr>\n",
       "      <th>4</th>\n",
       "      <td>AB005_LINE3A.jpg</td>\n",
       "      <td>LINE3A</td>\n",
       "      <td>47.0</td>\n",
       "      <td>AB005</td>\n",
       "    </tr>\n",
       "  </tbody>\n",
       "</table>\n",
       "</div>"
      ],
      "text/plain": [
       "         Image Name Image ID  Raw ONS Line and Pack item_id\n",
       "0  AB005_LINE1A.jpg   LINE1A                   45.0   AB005\n",
       "1  AB005_LINE1B.jpg   LINE1B                   67.0   AB005\n",
       "2  AB005_LINE2A.jpg   LINE2A                   77.0   AB005\n",
       "3  AB005_LINE2B.jpg   LINE2B                   51.0   AB005\n",
       "4  AB005_LINE3A.jpg   LINE3A                   47.0   AB005"
      ]
     },
     "execution_count": 17,
     "metadata": {},
     "output_type": "execute_result"
    }
   ],
   "source": [
    "df.head()"
   ]
  },
  {
   "cell_type": "code",
   "execution_count": 18,
   "metadata": {},
   "outputs": [
    {
     "data": {
      "text/plain": [
       "536"
      ]
     },
     "execution_count": 18,
     "metadata": {},
     "output_type": "execute_result"
    }
   ],
   "source": [
    "# sns.countplot(data=df, x='item_id');  # this isn't that helpful, given the high cardinality. see below.\n",
    "df['item_id'].nunique()"
   ]
  },
  {
   "cell_type": "markdown",
   "metadata": {},
   "source": [
    "What is the distribution of the ONS scores?"
   ]
  },
  {
   "cell_type": "code",
   "execution_count": 19,
   "metadata": {},
   "outputs": [
    {
     "data": {
      "text/plain": [
       "<seaborn.axisgrid.FacetGrid at 0x12c4b9fd0>"
      ]
     },
     "execution_count": 19,
     "metadata": {},
     "output_type": "execute_result"
    },
    {
     "data": {
      "image/png": "[encoded data removed]",
      "text/plain": [
       "<Figure size 360x360 with 1 Axes>"
      ]
     },
     "metadata": {},
     "output_type": "display_data"
    }
   ],
   "source": [
    "sns.displot(data=df, x='Raw ONS Line and Pack')"
   ]
  },
  {
   "cell_type": "markdown",
   "metadata": {},
   "source": [
    "It looks like a multi-modal distribution, censored outside the interval $[0, 100]$."
   ]
  },
  {
   "cell_type": "markdown",
   "metadata": {},
   "source": [
    "### `Behaviorally - Report 4.18.22[8].xlsx`"
   ]
  },
  {
   "cell_type": "markdown",
   "metadata": {},
   "source": [
    "This spreadsheet contains a set of reports, on each sheet therein there is an individual \"report\".\n",
    "The reports correspond to some time interval, and are indexed with incremented integers.\n",
    "On each sheet, there is also what looks like a screen shot of some information.\n",
    "I will include a screenshot of this below:\n",
    "\n",
    "![](./assets/image1.png)"
   ]
  },
  {
   "cell_type": "markdown",
   "metadata": {},
   "source": []
  }
 ],
 "metadata": {
  "interpreter": {
   "hash": "5989d0768d935c7ff7e4731f453a8814b618c97145c1a2ccb8e17767eb008288"
  },
  "kernelspec": {
   "display_name": "Python 3.7.9 64-bit",
   "name": "python3"
  },
  "language_info": {
   "codemirror_mode": {
    "name": "ipython",
    "version": 3
   },
   "file_extension": ".py",
   "mimetype": "text/x-python",
   "name": "python",
   "nbconvert_exporter": "python",
   "pygments_lexer": "ipython3",
   "version": "3.7.9"
  },
  "orig_nbformat": 4
 },
 "nbformat": 4,
 "nbformat_minor": 2
}
