{
 "cells": [
  {
   "cell_type": "markdown",
   "metadata": {},
   "source": [
    "# Project Forensics\n",
    "\n",
    "---"
   ]
  },
  {
   "cell_type": "markdown",
   "metadata": {},
   "source": [
    "## Setup\n"
   ]
  },
  {
   "cell_type": "markdown",
   "metadata": {},
   "source": [
    "### Working Directory\n",
    "\n",
    "This just helps with using local imports from the larger project to the notebook."
   ]
  },
  {
   "cell_type": "code",
   "execution_count": 1,
   "metadata": {},
   "outputs": [
    {
     "name": "stdout",
     "output_type": "stream",
     "text": [
      "/Users/chrismessier/work/behaviorally\n"
     ]
    }
   ],
   "source": [
    "cd ../"
   ]
  },
  {
   "cell_type": "markdown",
   "metadata": {},
   "source": [
    "### Imports"
   ]
  },
  {
   "cell_type": "code",
   "execution_count": 2,
   "metadata": {},
   "outputs": [],
   "source": [
    "import pandas as pd\n",
    "import seaborn as sns"
   ]
  },
  {
   "cell_type": "code",
   "execution_count": 3,
   "metadata": {},
   "outputs": [],
   "source": [
    "import os\n",
    "\n",
    "from google.protobuf.struct_pb2 import Struct\n",
    "from clarifai_grpc.channel.clarifai_channel import ClarifaiChannel\n",
    "from clarifai_grpc.grpc.api import resources_pb2, service_pb2, service_pb2_grpc\n",
    "from clarifai_grpc.grpc.api.status import status_pb2, status_code_pb2"
   ]
  },
  {
   "cell_type": "markdown",
   "metadata": {},
   "source": [
    "#### Plotting Config"
   ]
  },
  {
   "cell_type": "code",
   "execution_count": 4,
   "metadata": {},
   "outputs": [],
   "source": [
    "%matplotlib inline\n",
    "sns.set(\n",
    "    style='darkgrid'\n",
    ")"
   ]
  },
  {
   "cell_type": "markdown",
   "metadata": {},
   "source": [
    "### Methods"
   ]
  },
  {
   "cell_type": "code",
   "execution_count": 5,
   "metadata": {},
   "outputs": [],
   "source": [
    "def load_spreadsheet(f):\n",
    "    pass"
   ]
  },
  {
   "cell_type": "markdown",
   "metadata": {},
   "source": [
    "### Client Initialization"
   ]
  },
  {
   "cell_type": "code",
   "execution_count": 6,
   "metadata": {},
   "outputs": [],
   "source": [
    "channel = ClarifaiChannel.get_json_channel()\n",
    "stub = service_pb2_grpc.V2Stub(channel)"
   ]
  },
  {
   "cell_type": "code",
   "execution_count": 7,
   "metadata": {},
   "outputs": [],
   "source": [
    "API_KEY = None"
   ]
  },
  {
   "cell_type": "code",
   "execution_count": 8,
   "metadata": {},
   "outputs": [],
   "source": [
    "metadata = (('authorization', f'Key {API_KEY}'),)  # key value referenced from config module"
   ]
  },
  {
   "cell_type": "markdown",
   "metadata": {},
   "source": [
    "## Analysis"
   ]
  },
  {
   "cell_type": "markdown",
   "metadata": {},
   "source": [
    "### Background"
   ]
  },
  {
   "cell_type": "markdown",
   "metadata": {},
   "source": [
    "### Spreadsheets"
   ]
  },
  {
   "cell_type": "markdown",
   "metadata": {},
   "source": [
    "There were three spreadsheets shared with me, which I have uploaded to the following Google Sheets:\n",
    "\n",
    "- [[BEHAVIORALLY] ONS Validation_dcs_processed_v1.3.xlsx](https://docs.google.com/spreadsheets/d/12aDefcKhb9-LSILRo0t5ttLLxvxfe81ft-MYJhLbVYk/edit?usp=sharing)\n",
    "- [[BEHAVIORALLY] IRI Data Product List_3.21.22.xlsx](https://docs.google.com/spreadsheets/d/1HCsjUscUtgbhRXdIfxcJCENzz2ZhwicnJcwcEoZuoYw/edit#gid=1323785198)\n",
    "- [[BEHAVIORALLY] Behaviorally - Report 4.18.22[8].xlsx](https://docs.google.com/spreadsheets/d/169Bu7yhN6tuTpAgQAr2BV-l8MBxCwEpvAVkR2PDjZBA/edit?usp=sharing)\n",
    "\n",
    "As well as one `.eml` file:\n",
    "\n",
    "- 'data/Re- Respondent database request.eml'\n",
    "\n",
    "Upon quick inspection, the `.eml` file appears to be email records.\n",
    "I saw the name \"Durga\" which was also the name of one of the correspondents on the email chain Bryan forwarded to me as well.\n",
    "I've been told to ignore this file for the time being."
   ]
  },
  {
   "cell_type": "code",
   "execution_count": 9,
   "metadata": {},
   "outputs": [],
   "source": [
    "doc_1 = '/Users/chrismessier/work/behaviorally/data/Behaviorally - Report 4.18.22[8].xlsx'\n",
    "doc_2 = '/Users/chrismessier/work/behaviorally/data/IRI Data Product List_3.21.22.xlsx'\n",
    "doc_3 = '/Users/chrismessier/work/behaviorally/data/ONS Validation_dcs_processed_v1.3.xlsx'"
   ]
  },
  {
   "cell_type": "code",
   "execution_count": 10,
   "metadata": {},
   "outputs": [],
   "source": [
    "d = pd.read_excel(doc_3, sheet_name=None)  # coerce it to parse all sheets and return a dict"
   ]
  },
  {
   "cell_type": "markdown",
   "metadata": {},
   "source": [
    "After checking on this the 'Report' spreadsheet, isn't super well organized by sheets, as it's just incremental integers.\n",
    "I will need to dig into the structure a bit...\n",
    "\n",
    "After looking into the sheets, each of these is a report.\n",
    "In each sheet there's more information on the associated report.\n",
    "What's more important though, is the information I got from Bryan about the project."
   ]
  },
  {
   "cell_type": "markdown",
   "metadata": {},
   "source": [
    "There are two files of interest, [`doc_1`](https://docs.google.com/spreadsheets/d/12aDefcKhb9-LSILRo0t5ttLLxvxfe81ft-MYJhLbVYk/edit?usp=sharing)"
   ]
  },
  {
   "cell_type": "markdown",
   "metadata": {},
   "source": [
    "Suddenly, a wild spreadsheet appeared!\n",
    "\n",
    "> [ONS_output_Tony_Round 1.xlsx](https://docs.google.com/spreadsheets/d/1ft-XNY-UQbcVsivONW7Ig9byVTxBkRHJ/edit?usp=sharing&ouid=116368867705255658120&rtpof=true&sd=true)\n",
    "\n",
    "Which was downloaded locally, and can be set..."
   ]
  },
  {
   "cell_type": "code",
   "execution_count": 11,
   "metadata": {},
   "outputs": [],
   "source": [
    "doc_4 = '/Users/chrismessier/work/behaviorally/data/ONS_output_Tony_Round 1.xlsx'"
   ]
  },
  {
   "cell_type": "markdown",
   "metadata": {},
   "source": [
    "These are the results that @tony(?) got when running the model(s) for Behaviorally.\n",
    "What is of interest is a correlation between these scores, and the revenue(?) that can be found somewhere in [these](https://docs.google.com/spreadsheets/d/169Bu7yhN6tuTpAgQAr2BV-l8MBxCwEpvAVkR2PDjZBA/edit?usp=sharing) reports.\n",
    "I'm going to start with getting the scores in first..."
   ]
  },
  {
   "cell_type": "markdown",
   "metadata": {},
   "source": [
    "The scores are contained in [this spreadsheet](https://docs.google.com/spreadsheets/d/1qJ4lYdJzrzfmzTB2v7BVMAzO3XZZXcpX/edit?usp=sharing&ouid=116368867705255658120&rtpof=true&sd=true).\n",
    "\n",
    "According to @bryan there is only one sheet of interest, `'ONS_output_Tony'`, so we will simply parse it accordingly: no need for a fancy-pants parser. 😒\n"
   ]
  },
  {
   "cell_type": "markdown",
   "metadata": {},
   "source": [
    "### `ONS_output_Tony_Round 1.xlsx:ONS_output_Tony` "
   ]
  },
  {
   "cell_type": "code",
   "execution_count": 12,
   "metadata": {},
   "outputs": [],
   "source": [
    "# @mess: @bryan, seeing as this may be the first time you are reviewing my work in this, I want to work flow explicit.  \n",
    "# I'm going to be using non-descript 'df' locally for testing, once a snippet/script is complete, that will be abstracted into a function/method/object at the top of the notebook.\n",
    "# The purpose of this is to provide easy 'breadcrumbs' for future iterations, which should always involve moving these completed snippets to stand-alone modules.\n",
    "# It is at this point that documentation standards _should_ be enforced, but we're nowhere near that point...\n",
    "\n",
    "target_sheet = 'ONS_output_Tony'\n",
    "\n",
    "df = pd.read_excel(doc_4, sheet_name=target_sheet)\n"
   ]
  },
  {
   "cell_type": "code",
   "execution_count": 13,
   "metadata": {},
   "outputs": [
    {
     "data": {
      "text/html": [
       "<div>\n",
       "<style scoped>\n",
       "    .dataframe tbody tr th:only-of-type {\n",
       "        vertical-align: middle;\n",
       "    }\n",
       "\n",
       "    .dataframe tbody tr th {\n",
       "        vertical-align: top;\n",
       "    }\n",
       "\n",
       "    .dataframe thead th {\n",
       "        text-align: right;\n",
       "    }\n",
       "</style>\n",
       "<table border=\"1\" class=\"dataframe\">\n",
       "  <thead>\n",
       "    <tr style=\"text-align: right;\">\n",
       "      <th></th>\n",
       "      <th>Image Name</th>\n",
       "      <th>Image ID</th>\n",
       "      <th>Raw ONS Line and Pack</th>\n",
       "    </tr>\n",
       "  </thead>\n",
       "  <tbody>\n",
       "    <tr>\n",
       "      <th>0</th>\n",
       "      <td>AB005_LINE1A.jpg</td>\n",
       "      <td>LINE1A</td>\n",
       "      <td>45.0</td>\n",
       "    </tr>\n",
       "    <tr>\n",
       "      <th>1</th>\n",
       "      <td>AB005_LINE1B.jpg</td>\n",
       "      <td>LINE1B</td>\n",
       "      <td>67.0</td>\n",
       "    </tr>\n",
       "    <tr>\n",
       "      <th>2</th>\n",
       "      <td>AB005_LINE2A.jpg</td>\n",
       "      <td>LINE2A</td>\n",
       "      <td>77.0</td>\n",
       "    </tr>\n",
       "    <tr>\n",
       "      <th>3</th>\n",
       "      <td>AB005_LINE2B.jpg</td>\n",
       "      <td>LINE2B</td>\n",
       "      <td>51.0</td>\n",
       "    </tr>\n",
       "    <tr>\n",
       "      <th>4</th>\n",
       "      <td>AB005_LINE3A.jpg</td>\n",
       "      <td>LINE3A</td>\n",
       "      <td>47.0</td>\n",
       "    </tr>\n",
       "  </tbody>\n",
       "</table>\n",
       "</div>"
      ],
      "text/plain": [
       "         Image Name Image ID  Raw ONS Line and Pack\n",
       "0  AB005_LINE1A.jpg   LINE1A                   45.0\n",
       "1  AB005_LINE1B.jpg   LINE1B                   67.0\n",
       "2  AB005_LINE2A.jpg   LINE2A                   77.0\n",
       "3  AB005_LINE2B.jpg   LINE2B                   51.0\n",
       "4  AB005_LINE3A.jpg   LINE3A                   47.0"
      ]
     },
     "execution_count": 13,
     "metadata": {},
     "output_type": "execute_result"
    }
   ],
   "source": [
    "df.head()"
   ]
  },
  {
   "cell_type": "code",
   "execution_count": 14,
   "metadata": {},
   "outputs": [
    {
     "data": {
      "text/plain": [
       "(4758, 3)"
      ]
     },
     "execution_count": 14,
     "metadata": {},
     "output_type": "execute_result"
    }
   ],
   "source": [
    "df.shape"
   ]
  },
  {
   "cell_type": "code",
   "execution_count": 15,
   "metadata": {},
   "outputs": [
    {
     "data": {
      "text/html": [
       "<div>\n",
       "<style scoped>\n",
       "    .dataframe tbody tr th:only-of-type {\n",
       "        vertical-align: middle;\n",
       "    }\n",
       "\n",
       "    .dataframe tbody tr th {\n",
       "        vertical-align: top;\n",
       "    }\n",
       "\n",
       "    .dataframe thead th {\n",
       "        text-align: right;\n",
       "    }\n",
       "</style>\n",
       "<table border=\"1\" class=\"dataframe\">\n",
       "  <thead>\n",
       "    <tr style=\"text-align: right;\">\n",
       "      <th></th>\n",
       "      <th>Image Name</th>\n",
       "      <th>Image ID</th>\n",
       "      <th>Raw ONS Line and Pack</th>\n",
       "    </tr>\n",
       "  </thead>\n",
       "  <tbody>\n",
       "    <tr>\n",
       "      <th>count</th>\n",
       "      <td>4758</td>\n",
       "      <td>4758</td>\n",
       "      <td>4758.000000</td>\n",
       "    </tr>\n",
       "    <tr>\n",
       "      <th>unique</th>\n",
       "      <td>4758</td>\n",
       "      <td>324</td>\n",
       "      <td>NaN</td>\n",
       "    </tr>\n",
       "    <tr>\n",
       "      <th>top</th>\n",
       "      <td>AB005_LINE1A.jpg</td>\n",
       "      <td>LINE1</td>\n",
       "      <td>NaN</td>\n",
       "    </tr>\n",
       "    <tr>\n",
       "      <th>freq</th>\n",
       "      <td>1</td>\n",
       "      <td>363</td>\n",
       "      <td>NaN</td>\n",
       "    </tr>\n",
       "    <tr>\n",
       "      <th>mean</th>\n",
       "      <td>NaN</td>\n",
       "      <td>NaN</td>\n",
       "      <td>49.146490</td>\n",
       "    </tr>\n",
       "    <tr>\n",
       "      <th>std</th>\n",
       "      <td>NaN</td>\n",
       "      <td>NaN</td>\n",
       "      <td>24.925337</td>\n",
       "    </tr>\n",
       "    <tr>\n",
       "      <th>min</th>\n",
       "      <td>NaN</td>\n",
       "      <td>NaN</td>\n",
       "      <td>1.000000</td>\n",
       "    </tr>\n",
       "    <tr>\n",
       "      <th>25%</th>\n",
       "      <td>NaN</td>\n",
       "      <td>NaN</td>\n",
       "      <td>27.000000</td>\n",
       "    </tr>\n",
       "    <tr>\n",
       "      <th>50%</th>\n",
       "      <td>NaN</td>\n",
       "      <td>NaN</td>\n",
       "      <td>50.000000</td>\n",
       "    </tr>\n",
       "    <tr>\n",
       "      <th>75%</th>\n",
       "      <td>NaN</td>\n",
       "      <td>NaN</td>\n",
       "      <td>72.000000</td>\n",
       "    </tr>\n",
       "    <tr>\n",
       "      <th>max</th>\n",
       "      <td>NaN</td>\n",
       "      <td>NaN</td>\n",
       "      <td>96.000000</td>\n",
       "    </tr>\n",
       "  </tbody>\n",
       "</table>\n",
       "</div>"
      ],
      "text/plain": [
       "              Image Name Image ID  Raw ONS Line and Pack\n",
       "count               4758     4758            4758.000000\n",
       "unique              4758      324                    NaN\n",
       "top     AB005_LINE1A.jpg    LINE1                    NaN\n",
       "freq                   1      363                    NaN\n",
       "mean                 NaN      NaN              49.146490\n",
       "std                  NaN      NaN              24.925337\n",
       "min                  NaN      NaN               1.000000\n",
       "25%                  NaN      NaN              27.000000\n",
       "50%                  NaN      NaN              50.000000\n",
       "75%                  NaN      NaN              72.000000\n",
       "max                  NaN      NaN              96.000000"
      ]
     },
     "execution_count": 15,
     "metadata": {},
     "output_type": "execute_result"
    }
   ],
   "source": [
    "df.describe(include='all')"
   ]
  },
  {
   "cell_type": "markdown",
   "metadata": {},
   "source": [
    "The columns are fairly self explanatory; but it is worth being explicit.\n",
    "\n",
    "- `Image Name`: the image file provided as an input for inference.\n",
    "- `Image ID`: the type of image, where\n",
    "    - 'LINE' is series of different items are arranged in a line, and\n",
    "    - 'PACK' is a single item, but the image may contain multiple instances of that item. \n",
    "- `Raw ONS Line and Pack`: the 'output' score from - control yourself, @mess, some boxes need to remain opaque! - whatever process there is.\n",
    "\n",
    "From my conversation w/ @bryan there's a little more information that can be surfaced.\n",
    "The `Image Name` values are actually a concatenation of the implied \"_Item ID_\" and the existing (hopefully...) `Image ID`."
   ]
  },
  {
   "cell_type": "markdown",
   "metadata": {},
   "source": [
    "#### An aside on convention\n",
    "\n",
    ">A quick note here, but I've tried to adhear to these naming conventions when it comes to client spreadsheets and the manipulation thereof.\n",
    ">For original column names, I try to keep them as-is from the customer.\n",
    ">For any generated columns, I always adhear to the local variable naming convention; and Clarifai is the wild west, I defer to PEP8 and use snake case.\n",
    ">An example of which can be seen below."
   ]
  },
  {
   "cell_type": "code",
   "execution_count": 16,
   "metadata": {},
   "outputs": [],
   "source": [
    "df['item_id'] = df['Image Name'].apply(lambda s: s.split('_')[0])  # retrieving the first item of the concatenated Image Name"
   ]
  },
  {
   "cell_type": "code",
   "execution_count": 17,
   "metadata": {},
   "outputs": [
    {
     "data": {
      "text/html": [
       "<div>\n",
       "<style scoped>\n",
       "    .dataframe tbody tr th:only-of-type {\n",
       "        vertical-align: middle;\n",
       "    }\n",
       "\n",
       "    .dataframe tbody tr th {\n",
       "        vertical-align: top;\n",
       "    }\n",
       "\n",
       "    .dataframe thead th {\n",
       "        text-align: right;\n",
       "    }\n",
       "</style>\n",
       "<table border=\"1\" class=\"dataframe\">\n",
       "  <thead>\n",
       "    <tr style=\"text-align: right;\">\n",
       "      <th></th>\n",
       "      <th>Image Name</th>\n",
       "      <th>Image ID</th>\n",
       "      <th>Raw ONS Line and Pack</th>\n",
       "      <th>item_id</th>\n",
       "    </tr>\n",
       "  </thead>\n",
       "  <tbody>\n",
       "    <tr>\n",
       "      <th>0</th>\n",
       "      <td>AB005_LINE1A.jpg</td>\n",
       "      <td>LINE1A</td>\n",
       "      <td>45.0</td>\n",
       "      <td>AB005</td>\n",
       "    </tr>\n",
       "    <tr>\n",
       "      <th>1</th>\n",
       "      <td>AB005_LINE1B.jpg</td>\n",
       "      <td>LINE1B</td>\n",
       "      <td>67.0</td>\n",
       "      <td>AB005</td>\n",
       "    </tr>\n",
       "    <tr>\n",
       "      <th>2</th>\n",
       "      <td>AB005_LINE2A.jpg</td>\n",
       "      <td>LINE2A</td>\n",
       "      <td>77.0</td>\n",
       "      <td>AB005</td>\n",
       "    </tr>\n",
       "    <tr>\n",
       "      <th>3</th>\n",
       "      <td>AB005_LINE2B.jpg</td>\n",
       "      <td>LINE2B</td>\n",
       "      <td>51.0</td>\n",
       "      <td>AB005</td>\n",
       "    </tr>\n",
       "    <tr>\n",
       "      <th>4</th>\n",
       "      <td>AB005_LINE3A.jpg</td>\n",
       "      <td>LINE3A</td>\n",
       "      <td>47.0</td>\n",
       "      <td>AB005</td>\n",
       "    </tr>\n",
       "  </tbody>\n",
       "</table>\n",
       "</div>"
      ],
      "text/plain": [
       "         Image Name Image ID  Raw ONS Line and Pack item_id\n",
       "0  AB005_LINE1A.jpg   LINE1A                   45.0   AB005\n",
       "1  AB005_LINE1B.jpg   LINE1B                   67.0   AB005\n",
       "2  AB005_LINE2A.jpg   LINE2A                   77.0   AB005\n",
       "3  AB005_LINE2B.jpg   LINE2B                   51.0   AB005\n",
       "4  AB005_LINE3A.jpg   LINE3A                   47.0   AB005"
      ]
     },
     "execution_count": 17,
     "metadata": {},
     "output_type": "execute_result"
    }
   ],
   "source": [
    "df.head()"
   ]
  },
  {
   "cell_type": "code",
   "execution_count": 18,
   "metadata": {},
   "outputs": [
    {
     "data": {
      "text/plain": [
       "536"
      ]
     },
     "execution_count": 18,
     "metadata": {},
     "output_type": "execute_result"
    }
   ],
   "source": [
    "# sns.countplot(data=df, x='item_id');  # this isn't that helpful, given the high cardinality. see below.\n",
    "df['item_id'].nunique()"
   ]
  },
  {
   "cell_type": "markdown",
   "metadata": {},
   "source": [
    "What is the distribution of the ONS scores?"
   ]
  },
  {
   "cell_type": "code",
   "execution_count": 19,
   "metadata": {},
   "outputs": [
    {
     "data": {
      "text/plain": [
       "<seaborn.axisgrid.FacetGrid at 0x126c329d0>"
      ]
     },
     "execution_count": 19,
     "metadata": {},
     "output_type": "execute_result"
    },
    {
     "data": {
      "image/png": "[encoded data removed]",
      "text/plain": [
       "<Figure size 360x360 with 1 Axes>"
      ]
     },
     "metadata": {},
     "output_type": "display_data"
    }
   ],
   "source": [
    "sns.displot(data=df, x='Raw ONS Line and Pack')"
   ]
  },
  {
   "cell_type": "markdown",
   "metadata": {},
   "source": [
    "It looks like a multi-modal distribution, censored outside the interval $[0, 100]$."
   ]
  },
  {
   "cell_type": "code",
   "execution_count": 20,
   "metadata": {},
   "outputs": [],
   "source": [
    "results = df.copy()"
   ]
  },
  {
   "cell_type": "markdown",
   "metadata": {},
   "source": [
    "### `Behaviorally - Report 4.18.22[8].xlsx`"
   ]
  },
  {
   "cell_type": "markdown",
   "metadata": {},
   "source": [
    "This spreadsheet contains a set of reports, on each sheet therein there is an individual \"report\".\n",
    "The reports correspond to some time interval, and are indexed with incremented integers.\n",
    "On each sheet, there is also what looks like a screen shot of some information.\n",
    "I will include a screenshot of this below:\n",
    "\n",
    "![Behaviorally report spreadsheet, upper left-hand corner](./assets/image1.jpeg)\n",
    "\n",
    "This actually seems to be the only source of time information, so we'll need to go back through and update this manually; mapping the integer-indices to the report dates.\n",
    "For now I'll just work with the integer information."
   ]
  },
  {
   "cell_type": "markdown",
   "metadata": {},
   "source": [
    "The problem with that screenshot-labeling scheme that Behaviorally is using is that it creates the offset with the rows which needs to be accounted for.\n",
    "First, I'm going to check to see if the offset is consistent.\n",
    "\n",
    "This is important to note: there's actually a starting sheet that has information on the reports across the different sheets; but I'm going to ignore it for now.\n",
    "\n",
    "After \"sampling\" 12 different sheets (I flicked my mouse across the slider on Google sheets and _tried_ to select randomly), I can confidently say that aside from the `'Index'` sheet, the offset for the headers is constant: 8 rows (see screenshot above, as well)."
   ]
  },
  {
   "cell_type": "code",
   "execution_count": 21,
   "metadata": {},
   "outputs": [],
   "source": [
    "def process_behaviorally_reports(doc, row_offset=7):\n",
    "    d = pd.read_excel(doc, sheet_name=None)\n",
    "    assert 'Index' in d.keys(), f\"This doesn't look like the right type of spreadsheet: {doc}\"\n",
    "    _ = d.pop('Index')  # hack way to get rid of the index table\n",
    "\n",
    "    for k, df in d.items():\n",
    "        # _ = df.dropna(axis=0, inplace=True)  # this will still leave the conversion artifacts like \"Unamed: 0\"\n",
    "        df.columns = df.iloc[row_offset-1].values\n",
    "        _df = df.iloc[row_offset:,].copy()  # using -1 to try and preserve the headers\n",
    "        d[k] = _df\n",
    "\n",
    "    return d\n"
   ]
  },
  {
   "cell_type": "code",
   "execution_count": 22,
   "metadata": {},
   "outputs": [
    {
     "data": {
      "text/html": [
       "<div>\n",
       "<style scoped>\n",
       "    .dataframe tbody tr th:only-of-type {\n",
       "        vertical-align: middle;\n",
       "    }\n",
       "\n",
       "    .dataframe tbody tr th {\n",
       "        vertical-align: top;\n",
       "    }\n",
       "\n",
       "    .dataframe thead th {\n",
       "        text-align: right;\n",
       "    }\n",
       "</style>\n",
       "<table border=\"1\" class=\"dataframe\">\n",
       "  <thead>\n",
       "    <tr style=\"text-align: right;\">\n",
       "      <th></th>\n",
       "      <th>Product</th>\n",
       "      <th>Dollar Sales</th>\n",
       "      <th>Dollar Sales % Change vs YA</th>\n",
       "      <th>Unit Sales</th>\n",
       "      <th>Unit Sales % Change vs YA</th>\n",
       "      <th>Unit Share of Category</th>\n",
       "      <th>Unit Share of Category Year Ago</th>\n",
       "      <th>Unit Share of SubCategory</th>\n",
       "      <th>Unit Share of SubCategory Year Ago</th>\n",
       "      <th>Price per Unit</th>\n",
       "      <th>Price per Unit % Change vs YA</th>\n",
       "      <th>UPC 10 digit</th>\n",
       "      <th>Category Name</th>\n",
       "      <th>Sub-Category Name</th>\n",
       "      <th>Brand Name</th>\n",
       "    </tr>\n",
       "  </thead>\n",
       "  <tbody>\n",
       "    <tr>\n",
       "      <th>11</th>\n",
       "      <td>MCCORMICK ROSEMARY SEASONING LEAF .62 OZ - 005...</td>\n",
       "      <td>3018.131058</td>\n",
       "      <td>NaN</td>\n",
       "      <td>967.173377</td>\n",
       "      <td>NaN</td>\n",
       "      <td>0.003934</td>\n",
       "      <td>NaN</td>\n",
       "      <td>0.005991</td>\n",
       "      <td>NaN</td>\n",
       "      <td>3.120569</td>\n",
       "      <td>NaN</td>\n",
       "      <td>5210004228</td>\n",
       "      <td>SPICES/SEASONINGS</td>\n",
       "      <td>SPICE/SEASONING - NO SALT/PEPPER</td>\n",
       "      <td>MCCORMICK</td>\n",
       "    </tr>\n",
       "  </tbody>\n",
       "</table>\n",
       "</div>"
      ],
      "text/plain": [
       "                                              Product Dollar Sales  \\\n",
       "11  MCCORMICK ROSEMARY SEASONING LEAF .62 OZ - 005...  3018.131058   \n",
       "\n",
       "   Dollar Sales % Change vs YA  Unit Sales Unit Sales % Change vs YA  \\\n",
       "11                         NaN  967.173377                       NaN   \n",
       "\n",
       "   Unit Share of Category Unit Share of Category Year Ago  \\\n",
       "11               0.003934                             NaN   \n",
       "\n",
       "   Unit Share of SubCategory Unit Share of SubCategory Year Ago  \\\n",
       "11                  0.005991                                NaN   \n",
       "\n",
       "   Price per Unit Price per Unit % Change vs YA UPC 10 digit  \\\n",
       "11       3.120569                           NaN   5210004228   \n",
       "\n",
       "        Category Name                 Sub-Category Name Brand Name  \n",
       "11  SPICES/SEASONINGS  SPICE/SEASONING - NO SALT/PEPPER  MCCORMICK  "
      ]
     },
     "execution_count": 22,
     "metadata": {},
     "output_type": "execute_result"
    }
   ],
   "source": [
    "d = process_behaviorally_reports(doc_1)\n",
    "\n",
    "for k in d.keys():\n",
    "    break\n",
    "\n",
    "d[k].sample()\n"
   ]
  },
  {
   "cell_type": "markdown",
   "metadata": {},
   "source": [
    "There's a problem here: there's no direct mapping from the sales figures to the images.\n",
    "Likely the shortest path is from the `'UPC 10 digit'` (easy-to-use unique value) to the `JobNumber` column in the IRI spreadsheet."
   ]
  },
  {
   "cell_type": "code",
   "execution_count": 23,
   "metadata": {},
   "outputs": [],
   "source": [
    "iri = pd.read_excel(doc_2, sheet_name='Full List', )"
   ]
  },
  {
   "cell_type": "markdown",
   "metadata": {},
   "source": [
    "The UPC values are being read in as integers, and the leading zeroes are being trimmed, as the values are being converted to integers.\n",
    "\n",
    "After checking the docs, passing in `dtype='object'` should bypass the conversion."
   ]
  },
  {
   "cell_type": "code",
   "execution_count": 24,
   "metadata": {},
   "outputs": [],
   "source": [
    "iri = pd.read_excel(doc_2, sheet_name='Full List', dtype='object')"
   ]
  },
  {
   "cell_type": "code",
   "execution_count": 25,
   "metadata": {},
   "outputs": [
    {
     "data": {
      "text/html": [
       "<div>\n",
       "<style scoped>\n",
       "    .dataframe tbody tr th:only-of-type {\n",
       "        vertical-align: middle;\n",
       "    }\n",
       "\n",
       "    .dataframe tbody tr th {\n",
       "        vertical-align: top;\n",
       "    }\n",
       "\n",
       "    .dataframe thead th {\n",
       "        text-align: right;\n",
       "    }\n",
       "</style>\n",
       "<table border=\"1\" class=\"dataframe\">\n",
       "  <thead>\n",
       "    <tr style=\"text-align: right;\">\n",
       "      <th></th>\n",
       "      <th>JobNumber</th>\n",
       "      <th>Category</th>\n",
       "      <th>Product description</th>\n",
       "      <th>Variant</th>\n",
       "      <th>SKU #</th>\n",
       "      <th>UPC</th>\n",
       "    </tr>\n",
       "  </thead>\n",
       "  <tbody>\n",
       "    <tr>\n",
       "      <th>0</th>\n",
       "      <td>AB238.00</td>\n",
       "      <td>ALCOHOLIC BEV - Beer</td>\n",
       "      <td>Cass Fresh Individual Beer</td>\n",
       "      <td>355mL can and 500mL bottle</td>\n",
       "      <td>NaN</td>\n",
       "      <td>1002334</td>\n",
       "    </tr>\n",
       "    <tr>\n",
       "      <th>1</th>\n",
       "      <td>AC156.00</td>\n",
       "      <td>ALCOHOLIC BEV - Beer</td>\n",
       "      <td>Lagunitas IPA Beer , 6pk/ 12 fl oz bottles</td>\n",
       "      <td>IPA, Hazy Wonder IPA, DayTime IPA</td>\n",
       "      <td>NaN</td>\n",
       "      <td>723830000094</td>\n",
       "    </tr>\n",
       "    <tr>\n",
       "      <th>2</th>\n",
       "      <td>AC195.00</td>\n",
       "      <td>ALCOHOLIC BEV - Beer</td>\n",
       "      <td>Modelo Cantarito Style Cerveza, 12 Fl. Oz Cans...</td>\n",
       "      <td>Hint of Grapefruit Orange &amp; Lime</td>\n",
       "      <td>NaN</td>\n",
       "      <td>33544001011</td>\n",
       "    </tr>\n",
       "    <tr>\n",
       "      <th>3</th>\n",
       "      <td>AD055.00</td>\n",
       "      <td>ALCOHOLIC BEV - Beer</td>\n",
       "      <td>Labatt Blue Light Mixer Pack</td>\n",
       "      <td>Lime, Grapefruit and Blood Orange</td>\n",
       "      <td>NaN</td>\n",
       "      <td>\\n271463122-2</td>\n",
       "    </tr>\n",
       "    <tr>\n",
       "      <th>4</th>\n",
       "      <td>AD190.00</td>\n",
       "      <td>ALCOHOLIC BEV - Beer</td>\n",
       "      <td>Blue Moon Light Sky 12 pack, 12 fl oz cans</td>\n",
       "      <td>Tropical Wheat</td>\n",
       "      <td>NaN</td>\n",
       "      <td>71990095925</td>\n",
       "    </tr>\n",
       "    <tr>\n",
       "      <th>...</th>\n",
       "      <td>...</td>\n",
       "      <td>...</td>\n",
       "      <td>...</td>\n",
       "      <td>...</td>\n",
       "      <td>...</td>\n",
       "      <td>...</td>\n",
       "    </tr>\n",
       "    <tr>\n",
       "      <th>222</th>\n",
       "      <td>AD272.00</td>\n",
       "      <td>PET PRODUCTS - Dog &amp; Cat Supplies &amp; Accessories</td>\n",
       "      <td>Clump &amp; Seal AbsorbX quick absorbing clumping ...</td>\n",
       "      <td>NaN</td>\n",
       "      <td>288682443</td>\n",
       "      <td>33200002079</td>\n",
       "    </tr>\n",
       "    <tr>\n",
       "      <th>223</th>\n",
       "      <td>NaN</td>\n",
       "      <td>NaN</td>\n",
       "      <td>NaN</td>\n",
       "      <td>NaN</td>\n",
       "      <td>NaN</td>\n",
       "      <td>NaN</td>\n",
       "    </tr>\n",
       "    <tr>\n",
       "      <th>224</th>\n",
       "      <td>AB100.00</td>\n",
       "      <td>PET PRODUCTS - Dog &amp; Cat Treats</td>\n",
       "      <td>Blue Health Bars Original for dogs of all size...</td>\n",
       "      <td>Baked with bacon, egg &amp; cheese, baked with app...</td>\n",
       "      <td>43710163</td>\n",
       "      <td>840243106332</td>\n",
       "    </tr>\n",
       "    <tr>\n",
       "      <th>225</th>\n",
       "      <td>AD214.00</td>\n",
       "      <td>PET PRODUCTS - Dog &amp; Cat Treats</td>\n",
       "      <td>Delectables Lickable Treat Stew for cats 1.4 oz</td>\n",
       "      <td>Stew with Chicken &amp; Tuna, Bisque with tun and ...</td>\n",
       "      <td>305537145</td>\n",
       "      <td>728925404832</td>\n",
       "    </tr>\n",
       "    <tr>\n",
       "      <th>226</th>\n",
       "      <td>AD549.00</td>\n",
       "      <td>PET PRODUCTS - Dog &amp; Cat Treats</td>\n",
       "      <td>Hartz Oinkies Smoked Pig Skin twists</td>\n",
       "      <td>Tender treats Real Chicken, Real Smoked Flavor...</td>\n",
       "      <td>140960937</td>\n",
       "      <td>32700155858</td>\n",
       "    </tr>\n",
       "  </tbody>\n",
       "</table>\n",
       "<p>227 rows × 6 columns</p>\n",
       "</div>"
      ],
      "text/plain": [
       "    JobNumber                                         Category  \\\n",
       "0    AB238.00                             ALCOHOLIC BEV - Beer   \n",
       "1    AC156.00                             ALCOHOLIC BEV - Beer   \n",
       "2    AC195.00                             ALCOHOLIC BEV - Beer   \n",
       "3    AD055.00                             ALCOHOLIC BEV - Beer   \n",
       "4    AD190.00                             ALCOHOLIC BEV - Beer   \n",
       "..        ...                                              ...   \n",
       "222  AD272.00  PET PRODUCTS - Dog & Cat Supplies & Accessories   \n",
       "223       NaN                                              NaN   \n",
       "224  AB100.00                  PET PRODUCTS - Dog & Cat Treats   \n",
       "225  AD214.00                  PET PRODUCTS - Dog & Cat Treats   \n",
       "226  AD549.00                  PET PRODUCTS - Dog & Cat Treats   \n",
       "\n",
       "                                   Product description  \\\n",
       "0                           Cass Fresh Individual Beer   \n",
       "1           Lagunitas IPA Beer , 6pk/ 12 fl oz bottles   \n",
       "2    Modelo Cantarito Style Cerveza, 12 Fl. Oz Cans...   \n",
       "3                         Labatt Blue Light Mixer Pack   \n",
       "4           Blue Moon Light Sky 12 pack, 12 fl oz cans   \n",
       "..                                                 ...   \n",
       "222  Clump & Seal AbsorbX quick absorbing clumping ...   \n",
       "223                                                NaN   \n",
       "224  Blue Health Bars Original for dogs of all size...   \n",
       "225    Delectables Lickable Treat Stew for cats 1.4 oz   \n",
       "226               Hartz Oinkies Smoked Pig Skin twists   \n",
       "\n",
       "                                               Variant      SKU #  \\\n",
       "0                           355mL can and 500mL bottle        NaN   \n",
       "1                    IPA, Hazy Wonder IPA, DayTime IPA        NaN   \n",
       "2                     Hint of Grapefruit Orange & Lime        NaN   \n",
       "3                    Lime, Grapefruit and Blood Orange        NaN   \n",
       "4                                       Tropical Wheat        NaN   \n",
       "..                                                 ...        ...   \n",
       "222                                                NaN  288682443   \n",
       "223                                                NaN        NaN   \n",
       "224  Baked with bacon, egg & cheese, baked with app...   43710163   \n",
       "225  Stew with Chicken & Tuna, Bisque with tun and ...  305537145   \n",
       "226  Tender treats Real Chicken, Real Smoked Flavor...  140960937   \n",
       "\n",
       "                  UPC  \n",
       "0             1002334  \n",
       "1        723830000094  \n",
       "2         33544001011  \n",
       "3     \\n271463122-2    \n",
       "4         71990095925  \n",
       "..                ...  \n",
       "222       33200002079  \n",
       "223               NaN  \n",
       "224      840243106332  \n",
       "225      728925404832  \n",
       "226       32700155858  \n",
       "\n",
       "[227 rows x 6 columns]"
      ]
     },
     "execution_count": 25,
     "metadata": {},
     "output_type": "execute_result"
    }
   ],
   "source": [
    "iri[iri['SKU #'] != None]"
   ]
  },
  {
   "cell_type": "markdown",
   "metadata": {},
   "source": [
    "It wasn't _my_ conversion error, it was _THEIR_ conversion error!\n",
    "Checking the original spread sheet, the original values were trimmed from the start.\n",
    "\n",
    "I'm going to assume the only zeros that were trimmed were leading zeroes, and given that the corresponding field is `'UPC 10 digit'`, I think padding it should be fairly easy.\n"
   ]
  },
  {
   "cell_type": "code",
   "execution_count": 26,
   "metadata": {},
   "outputs": [],
   "source": [
    "iri = iri[~pd.isna(iri['JobNumber'])]  # if it doesn't have a JobNumber, it's of no use here!"
   ]
  },
  {
   "cell_type": "code",
   "execution_count": 27,
   "metadata": {},
   "outputs": [],
   "source": [
    "iri['trimmed_job_number'] = iri['JobNumber'].apply(lambda x: x.split('.')[0])"
   ]
  },
  {
   "cell_type": "code",
   "execution_count": 28,
   "metadata": {},
   "outputs": [
    {
     "data": {
      "text/html": [
       "<div>\n",
       "<style scoped>\n",
       "    .dataframe tbody tr th:only-of-type {\n",
       "        vertical-align: middle;\n",
       "    }\n",
       "\n",
       "    .dataframe tbody tr th {\n",
       "        vertical-align: top;\n",
       "    }\n",
       "\n",
       "    .dataframe thead th {\n",
       "        text-align: right;\n",
       "    }\n",
       "</style>\n",
       "<table border=\"1\" class=\"dataframe\">\n",
       "  <thead>\n",
       "    <tr style=\"text-align: right;\">\n",
       "      <th></th>\n",
       "      <th>JobNumber</th>\n",
       "      <th>Category</th>\n",
       "      <th>Product description</th>\n",
       "      <th>Variant</th>\n",
       "      <th>SKU #</th>\n",
       "      <th>UPC</th>\n",
       "      <th>trimmed_job_number</th>\n",
       "    </tr>\n",
       "  </thead>\n",
       "  <tbody>\n",
       "    <tr>\n",
       "      <th>0</th>\n",
       "      <td>AB238.00</td>\n",
       "      <td>ALCOHOLIC BEV - Beer</td>\n",
       "      <td>Cass Fresh Individual Beer</td>\n",
       "      <td>355mL can and 500mL bottle</td>\n",
       "      <td>NaN</td>\n",
       "      <td>1002334</td>\n",
       "      <td>AB238</td>\n",
       "    </tr>\n",
       "    <tr>\n",
       "      <th>1</th>\n",
       "      <td>AC156.00</td>\n",
       "      <td>ALCOHOLIC BEV - Beer</td>\n",
       "      <td>Lagunitas IPA Beer , 6pk/ 12 fl oz bottles</td>\n",
       "      <td>IPA, Hazy Wonder IPA, DayTime IPA</td>\n",
       "      <td>NaN</td>\n",
       "      <td>723830000094</td>\n",
       "      <td>AC156</td>\n",
       "    </tr>\n",
       "    <tr>\n",
       "      <th>2</th>\n",
       "      <td>AC195.00</td>\n",
       "      <td>ALCOHOLIC BEV - Beer</td>\n",
       "      <td>Modelo Cantarito Style Cerveza, 12 Fl. Oz Cans...</td>\n",
       "      <td>Hint of Grapefruit Orange &amp; Lime</td>\n",
       "      <td>NaN</td>\n",
       "      <td>33544001011</td>\n",
       "      <td>AC195</td>\n",
       "    </tr>\n",
       "    <tr>\n",
       "      <th>3</th>\n",
       "      <td>AD055.00</td>\n",
       "      <td>ALCOHOLIC BEV - Beer</td>\n",
       "      <td>Labatt Blue Light Mixer Pack</td>\n",
       "      <td>Lime, Grapefruit and Blood Orange</td>\n",
       "      <td>NaN</td>\n",
       "      <td>\\n271463122-2</td>\n",
       "      <td>AD055</td>\n",
       "    </tr>\n",
       "    <tr>\n",
       "      <th>4</th>\n",
       "      <td>AD190.00</td>\n",
       "      <td>ALCOHOLIC BEV - Beer</td>\n",
       "      <td>Blue Moon Light Sky 12 pack, 12 fl oz cans</td>\n",
       "      <td>Tropical Wheat</td>\n",
       "      <td>NaN</td>\n",
       "      <td>71990095925</td>\n",
       "      <td>AD190</td>\n",
       "    </tr>\n",
       "  </tbody>\n",
       "</table>\n",
       "</div>"
      ],
      "text/plain": [
       "  JobNumber              Category  \\\n",
       "0  AB238.00  ALCOHOLIC BEV - Beer   \n",
       "1  AC156.00  ALCOHOLIC BEV - Beer   \n",
       "2  AC195.00  ALCOHOLIC BEV - Beer   \n",
       "3  AD055.00  ALCOHOLIC BEV - Beer   \n",
       "4  AD190.00  ALCOHOLIC BEV - Beer   \n",
       "\n",
       "                                 Product description  \\\n",
       "0                         Cass Fresh Individual Beer   \n",
       "1         Lagunitas IPA Beer , 6pk/ 12 fl oz bottles   \n",
       "2  Modelo Cantarito Style Cerveza, 12 Fl. Oz Cans...   \n",
       "3                       Labatt Blue Light Mixer Pack   \n",
       "4         Blue Moon Light Sky 12 pack, 12 fl oz cans   \n",
       "\n",
       "                             Variant SKU #               UPC  \\\n",
       "0         355mL can and 500mL bottle   NaN           1002334   \n",
       "1  IPA, Hazy Wonder IPA, DayTime IPA   NaN      723830000094   \n",
       "2   Hint of Grapefruit Orange & Lime   NaN       33544001011   \n",
       "3  Lime, Grapefruit and Blood Orange   NaN   \\n271463122-2     \n",
       "4                     Tropical Wheat   NaN       71990095925   \n",
       "\n",
       "  trimmed_job_number  \n",
       "0              AB238  \n",
       "1              AC156  \n",
       "2              AC195  \n",
       "3              AD055  \n",
       "4              AD190  "
      ]
     },
     "execution_count": 28,
     "metadata": {},
     "output_type": "execute_result"
    }
   ],
   "source": [
    "iri.head()"
   ]
  },
  {
   "cell_type": "code",
   "execution_count": 29,
   "metadata": {},
   "outputs": [
    {
     "name": "stdout",
     "output_type": "stream",
     "text": [
      "723830000094\n"
     ]
    }
   ],
   "source": [
    "for i, row in iri.iterrows():\n",
    "    upc = str(row['UPC'])\n",
    "\n",
    "    l = len(upc)\n",
    "\n",
    "    if l > 10:\n",
    "        print(upc)\n",
    "        break\n"
   ]
  },
  {
   "cell_type": "markdown",
   "metadata": {},
   "source": [
    "#### Coming Back\n",
    "\n",
    "Jumping back into this, I want to sketch the plan for the data manipulation:\n",
    "\n",
    "- Really, what's needed is the getting a mapping from the UPC codes in the Behaviorally report back to the item codes - JobNumber - from the IRI document.\n",
    "\n",
    "The main loop will require iterating through the reports though; which we luckily have from `process_behaviorally_reports`."
   ]
  },
  {
   "cell_type": "code",
   "execution_count": 30,
   "metadata": {},
   "outputs": [],
   "source": [
    "reports = process_behaviorally_reports(doc_1)"
   ]
  },
  {
   "cell_type": "code",
   "execution_count": 31,
   "metadata": {},
   "outputs": [],
   "source": [
    "df = reports['1']"
   ]
  },
  {
   "cell_type": "code",
   "execution_count": 32,
   "metadata": {},
   "outputs": [
    {
     "name": "stdout",
     "output_type": "stream",
     "text": [
      "2225266004 ['AD692']\n",
      "3320009994 ['AB249']\n"
     ]
    }
   ],
   "source": [
    "for i, row in df.iterrows():  # each row will correspond to an item. need to look up UPC 10 digit\n",
    "    upc = row['UPC 10 digit']\n",
    "    matches = iri[iri['UPC'] == upc]['trimmed_job_number'].values.tolist()\n",
    "    if matches:\n",
    "        print(upc, matches)\n",
    "     "
   ]
  },
  {
   "cell_type": "markdown",
   "metadata": {},
   "source": [
    "So there are only two perfect matches..."
   ]
  },
  {
   "cell_type": "code",
   "execution_count": 33,
   "metadata": {},
   "outputs": [
    {
     "name": "stdout",
     "output_type": "stream",
     "text": [
      "Product                               PEPSI COLA SODA REGULAR CALORIES PLASTIC BOTTL...\n",
      "Dollar Sales                                                            10160614.125055\n",
      "Dollar Sales % Change vs YA                                                   -0.037319\n",
      "Unit Sales                                                               5622407.385457\n",
      "Unit Sales % Change vs YA                                                     -0.084535\n",
      "Unit Share of Category                                                         2.455852\n",
      "Unit Share of Category Year Ago                                                2.381916\n",
      "Unit Share of SubCategory                                                      3.303385\n",
      "Unit Share of SubCategory Year Ago                                             3.198081\n",
      "Price per Unit                                                                 1.807164\n",
      "Price per Unit % Change vs YA                                                  0.051575\n",
      "UPC 10 digit                                                                 1200000129\n",
      "Category Name                                                      CARBONATED BEVERAGES\n",
      "Sub-Category Name                                                   REGULAR SOFT DRINKS\n",
      "Brand Name                                                                        PEPSI\n",
      "Name: 7, dtype: object\n"
     ]
    }
   ],
   "source": [
    "for i, row in df.iterrows():\n",
    "    print(row)\n",
    "    break"
   ]
  },
  {
   "cell_type": "code",
   "execution_count": 34,
   "metadata": {},
   "outputs": [],
   "source": [
    "from fuzzywuzzy import process"
   ]
  },
  {
   "cell_type": "code",
   "execution_count": 35,
   "metadata": {},
   "outputs": [
    {
     "name": "stdout",
     "output_type": "stream",
     "text": [
      "1300874833 613008748333 91\n"
     ]
    }
   ],
   "source": [
    "match, score = process.extractOne(upc, iri['UPC'].values)\n",
    "print(upc, match, score)"
   ]
  },
  {
   "cell_type": "code",
   "execution_count": 36,
   "metadata": {},
   "outputs": [],
   "source": [
    "# from collections import defaultdict\n",
    "# d = defaultdict(list)\n",
    "\n",
    "d = {}\n",
    "\n",
    "for i, row in df.iterrows():  # each row will correspond to an item. need to look up UPC 10 digit\n",
    "    upc = row['UPC 10 digit']\n",
    "    match, score = process.extractOne(upc, iri['UPC'].values)\n",
    "    # print(f\"'UPC 10 digit': {upc}, Fuzzy Match: {match}, {len(str(match))}-digit Score: {score}\")\n",
    "\n",
    "    # d[match].append(upc)\n",
    "    d[upc] = match\n",
    "\n",
    "d = dict(d)    "
   ]
  },
  {
   "cell_type": "code",
   "execution_count": 37,
   "metadata": {},
   "outputs": [
    {
     "data": {
      "text/plain": [
       "{'1200000129': 12000001291,\n",
       " '2000001291': 12000001291,\n",
       " '4300004301': 43000043011,\n",
       " '1200020635': 12000206351,\n",
       " '5210004228': 5210004228,\n",
       " '3400000229': 34000002290,\n",
       " '0462035964': 70462035964,\n",
       " '4400005098': 44000050986,\n",
       " '2100065883': 21000658831,\n",
       " '4112907712': 4112907712,\n",
       " '2225266004': '2225266004',\n",
       " '2100030047': 2100030047,\n",
       " '7020054430': 7020054430,\n",
       " '2220095441': 22200954419,\n",
       " '4105801321': 841058013211,\n",
       " '1058013211': 841058013211,\n",
       " '3600053477': 36000534771,\n",
       " '3500098502': '35000985026',\n",
       " '5898000420': '885898000420',\n",
       " '3500097335': 35000973351,\n",
       " '3320009994': '3320009994',\n",
       " '1111112425': 11111124257,\n",
       " '1200001275': 12000012754,\n",
       " '1370082425': 13700824258,\n",
       " '1901461090': 19014610907,\n",
       " '2073511022': 20735110225,\n",
       " '3120003469': 31200034694,\n",
       " '3270015585': 32700155858,\n",
       " '3600049435': 36000494358,\n",
       " '4116706651': 41167066515,\n",
       " '4650001792': 46500017926,\n",
       " '4850002238': 48500022382,\n",
       " '4900000044': 49000000443,\n",
       " '8769200660': 87692006602,\n",
       " '7199028151': 71990281519,\n",
       " '8259272064': 82592720641,\n",
       " '8768400107': '087684001073',\n",
       " '0067203924': '300672039248',\n",
       " '0067642606': '300676426068',\n",
       " '0244800086': '3024480008797',\n",
       " '2448000860': '3024480008797',\n",
       " '6211145398': '762111453983',\n",
       " '8133400988': '881334009880',\n",
       " '8616200281': '786162002815',\n",
       " '1300874833': '613008748333'}"
      ]
     },
     "execution_count": 37,
     "metadata": {},
     "output_type": "execute_result"
    }
   ],
   "source": [
    "d"
   ]
  },
  {
   "cell_type": "markdown",
   "metadata": {},
   "source": [
    "There actually only seem to be a handful of _complete_ mismatches, but this may actually be okay, seeing as we really only need to worry about those items that were used in @tony's tests.\n",
    "So instead of looking up the upc of items in the reports, start with the inference, get the UPC from the JobNumber, and then look that UPC up in the reports."
   ]
  },
  {
   "cell_type": "markdown",
   "metadata": {},
   "source": []
  },
  {
   "cell_type": "code",
   "execution_count": 38,
   "metadata": {},
   "outputs": [
    {
     "data": {
      "text/html": [
       "<div>\n",
       "<style scoped>\n",
       "    .dataframe tbody tr th:only-of-type {\n",
       "        vertical-align: middle;\n",
       "    }\n",
       "\n",
       "    .dataframe tbody tr th {\n",
       "        vertical-align: top;\n",
       "    }\n",
       "\n",
       "    .dataframe thead th {\n",
       "        text-align: right;\n",
       "    }\n",
       "</style>\n",
       "<table border=\"1\" class=\"dataframe\">\n",
       "  <thead>\n",
       "    <tr style=\"text-align: right;\">\n",
       "      <th></th>\n",
       "      <th>Image Name</th>\n",
       "      <th>Image ID</th>\n",
       "      <th>Raw ONS Line and Pack</th>\n",
       "      <th>item_id</th>\n",
       "    </tr>\n",
       "  </thead>\n",
       "  <tbody>\n",
       "    <tr>\n",
       "      <th>0</th>\n",
       "      <td>AB005_LINE1A.jpg</td>\n",
       "      <td>LINE1A</td>\n",
       "      <td>45.0</td>\n",
       "      <td>AB005</td>\n",
       "    </tr>\n",
       "    <tr>\n",
       "      <th>1</th>\n",
       "      <td>AB005_LINE1B.jpg</td>\n",
       "      <td>LINE1B</td>\n",
       "      <td>67.0</td>\n",
       "      <td>AB005</td>\n",
       "    </tr>\n",
       "    <tr>\n",
       "      <th>2</th>\n",
       "      <td>AB005_LINE2A.jpg</td>\n",
       "      <td>LINE2A</td>\n",
       "      <td>77.0</td>\n",
       "      <td>AB005</td>\n",
       "    </tr>\n",
       "    <tr>\n",
       "      <th>3</th>\n",
       "      <td>AB005_LINE2B.jpg</td>\n",
       "      <td>LINE2B</td>\n",
       "      <td>51.0</td>\n",
       "      <td>AB005</td>\n",
       "    </tr>\n",
       "    <tr>\n",
       "      <th>4</th>\n",
       "      <td>AB005_LINE3A.jpg</td>\n",
       "      <td>LINE3A</td>\n",
       "      <td>47.0</td>\n",
       "      <td>AB005</td>\n",
       "    </tr>\n",
       "  </tbody>\n",
       "</table>\n",
       "</div>"
      ],
      "text/plain": [
       "         Image Name Image ID  Raw ONS Line and Pack item_id\n",
       "0  AB005_LINE1A.jpg   LINE1A                   45.0   AB005\n",
       "1  AB005_LINE1B.jpg   LINE1B                   67.0   AB005\n",
       "2  AB005_LINE2A.jpg   LINE2A                   77.0   AB005\n",
       "3  AB005_LINE2B.jpg   LINE2B                   51.0   AB005\n",
       "4  AB005_LINE3A.jpg   LINE3A                   47.0   AB005"
      ]
     },
     "execution_count": 38,
     "metadata": {},
     "output_type": "execute_result"
    }
   ],
   "source": [
    "results.head()"
   ]
  },
  {
   "cell_type": "code",
   "execution_count": 39,
   "metadata": {},
   "outputs": [],
   "source": [
    "# d = {}\n",
    "\n",
    "results['upc'] = None\n",
    "\n",
    "for i, row in results.iterrows():\n",
    "    item_id = row['item_id']\n",
    "    upc = iri[iri['trimmed_job_number'] == item_id]['UPC'].values.tolist()\n",
    "    if upc:\n",
    "        # d[item_id] = bool(upc)\n",
    "        results.loc[results['item_id']==item_id, 'upc'] = upc[0]\n",
    "    else:\n",
    "        results.loc[results['item_id']==item_id, 'upc'] = None\n",
    "\n"
   ]
  },
  {
   "cell_type": "code",
   "execution_count": 40,
   "metadata": {},
   "outputs": [
    {
     "data": {
      "text/html": [
       "<div>\n",
       "<style scoped>\n",
       "    .dataframe tbody tr th:only-of-type {\n",
       "        vertical-align: middle;\n",
       "    }\n",
       "\n",
       "    .dataframe tbody tr th {\n",
       "        vertical-align: top;\n",
       "    }\n",
       "\n",
       "    .dataframe thead th {\n",
       "        text-align: right;\n",
       "    }\n",
       "</style>\n",
       "<table border=\"1\" class=\"dataframe\">\n",
       "  <thead>\n",
       "    <tr style=\"text-align: right;\">\n",
       "      <th></th>\n",
       "      <th>Image Name</th>\n",
       "      <th>Image ID</th>\n",
       "      <th>Raw ONS Line and Pack</th>\n",
       "      <th>item_id</th>\n",
       "      <th>upc</th>\n",
       "    </tr>\n",
       "  </thead>\n",
       "  <tbody>\n",
       "    <tr>\n",
       "      <th>0</th>\n",
       "      <td>AB005_LINE1A.jpg</td>\n",
       "      <td>LINE1A</td>\n",
       "      <td>45.0</td>\n",
       "      <td>AB005</td>\n",
       "      <td>None</td>\n",
       "    </tr>\n",
       "    <tr>\n",
       "      <th>1</th>\n",
       "      <td>AB005_LINE1B.jpg</td>\n",
       "      <td>LINE1B</td>\n",
       "      <td>67.0</td>\n",
       "      <td>AB005</td>\n",
       "      <td>None</td>\n",
       "    </tr>\n",
       "    <tr>\n",
       "      <th>2</th>\n",
       "      <td>AB005_LINE2A.jpg</td>\n",
       "      <td>LINE2A</td>\n",
       "      <td>77.0</td>\n",
       "      <td>AB005</td>\n",
       "      <td>None</td>\n",
       "    </tr>\n",
       "    <tr>\n",
       "      <th>3</th>\n",
       "      <td>AB005_LINE2B.jpg</td>\n",
       "      <td>LINE2B</td>\n",
       "      <td>51.0</td>\n",
       "      <td>AB005</td>\n",
       "      <td>None</td>\n",
       "    </tr>\n",
       "    <tr>\n",
       "      <th>4</th>\n",
       "      <td>AB005_LINE3A.jpg</td>\n",
       "      <td>LINE3A</td>\n",
       "      <td>47.0</td>\n",
       "      <td>AB005</td>\n",
       "      <td>None</td>\n",
       "    </tr>\n",
       "  </tbody>\n",
       "</table>\n",
       "</div>"
      ],
      "text/plain": [
       "         Image Name Image ID  Raw ONS Line and Pack item_id   upc\n",
       "0  AB005_LINE1A.jpg   LINE1A                   45.0   AB005  None\n",
       "1  AB005_LINE1B.jpg   LINE1B                   67.0   AB005  None\n",
       "2  AB005_LINE2A.jpg   LINE2A                   77.0   AB005  None\n",
       "3  AB005_LINE2B.jpg   LINE2B                   51.0   AB005  None\n",
       "4  AB005_LINE3A.jpg   LINE3A                   47.0   AB005  None"
      ]
     },
     "execution_count": 40,
     "metadata": {},
     "output_type": "execute_result"
    }
   ],
   "source": [
    "results.head()"
   ]
  },
  {
   "cell_type": "code",
   "execution_count": 41,
   "metadata": {},
   "outputs": [
    {
     "data": {
      "text/plain": [
       "0.7831021437578815"
      ]
     },
     "execution_count": 41,
     "metadata": {},
     "output_type": "execute_result"
    }
   ],
   "source": [
    "sum(pd.isna(results['upc'])) / results.shape[0]"
   ]
  },
  {
   "cell_type": "code",
   "execution_count": 42,
   "metadata": {},
   "outputs": [],
   "source": [
    "orig_results = results.copy()\n",
    "results = results[~pd.isna(results['upc'])].copy()"
   ]
  },
  {
   "cell_type": "code",
   "execution_count": 43,
   "metadata": {},
   "outputs": [],
   "source": [
    "# sns.displot(data=trim_results, x='Raw ONS Line and Pack', hue='item_id', kind='kde')"
   ]
  },
  {
   "cell_type": "markdown",
   "metadata": {},
   "source": [
    "Kind of just a mess given the number of `item_id`'s"
   ]
  },
  {
   "cell_type": "markdown",
   "metadata": {},
   "source": [
    "### Correlations"
   ]
  },
  {
   "cell_type": "markdown",
   "metadata": {},
   "source": [
    "Now we get to the ultimate question: What are we correlating?\n",
    "\n",
    "> ONS vs. ???\n",
    "\n",
    "Obviously the \"independent\" variable will be the ONS scores, and I believe the \"dependent\" variable will be the the \"Dollar Sales\".\n",
    "I believe the results will need to be aggregated in order to make any sense, seeing as we have multiple variations on sales \n"
   ]
  },
  {
   "cell_type": "markdown",
   "metadata": {},
   "source": [
    "#### Aggregation"
   ]
  },
  {
   "cell_type": "markdown",
   "metadata": {},
   "source": [
    "##### Revenue reports"
   ]
  },
  {
   "cell_type": "code",
   "execution_count": 44,
   "metadata": {},
   "outputs": [],
   "source": [
    "# I'm redoing this because returning a dict isn't a useful as combining aggregating the dataframes \n",
    "\n",
    "def process_behaviorally_reports(doc, row_offset=7) -> pd.DataFrame:\n",
    "    d = pd.read_excel(doc, sheet_name=None)\n",
    "    assert 'Index' in d.keys(), f\"This doesn't look like the right type of spreadsheet: {doc}\"\n",
    "    _ = d.pop('Index')  # hack way to get rid of the index table\n",
    "\n",
    "    dfs = []\n",
    "\n",
    "    for k, df in d.items():\n",
    "        # _ = df.dropna(axis=0, inplace=True)  # this will still leave the conversion artifacts like \"Unamed: 0\"\n",
    "        df.columns = df.iloc[row_offset-1].values\n",
    "        _df = df.iloc[row_offset:,].copy()  # using -1 to try and preserve the headers\n",
    "        _df['REPORT'] = k\n",
    "        d[k] = _df\n",
    "\n",
    "        dfs.append(_df)\n",
    "\n",
    "\n",
    "    return pd.concat(dfs)\n"
   ]
  },
  {
   "cell_type": "code",
   "execution_count": 45,
   "metadata": {},
   "outputs": [],
   "source": [
    "reports = process_behaviorally_reports(doc_1)"
   ]
  },
  {
   "cell_type": "code",
   "execution_count": 46,
   "metadata": {},
   "outputs": [],
   "source": [
    "reports_agg = reports.groupby('UPC 10 digit')['Dollar Sales'].mean()"
   ]
  },
  {
   "cell_type": "code",
   "execution_count": 47,
   "metadata": {},
   "outputs": [
    {
     "data": {
      "text/plain": [
       "UPC 10 digit\n",
       "0067203924    6.690451e+05\n",
       "0067642606    4.386467e+05\n",
       "0244800086             NaN\n",
       "0462035964    5.976424e+00\n",
       "1058013211    1.043469e+02\n",
       "1111112425    8.337185e+05\n",
       "1200000129    1.051269e+07\n",
       "1200001275    6.515966e+05\n",
       "1200020635    4.500371e+05\n",
       "1300874833    1.828041e+05\n",
       "1370082425    2.607904e+05\n",
       "1901461090    1.022572e+06\n",
       "2000001291    1.615231e+03\n",
       "2073511022    2.601747e+05\n",
       "2100030047    1.453747e+05\n",
       "2100065883    3.064992e+06\n",
       "2220095441    5.216384e+04\n",
       "2225266004    4.723523e+05\n",
       "2448000860    1.071838e+02\n",
       "3120003469    9.698756e+05\n",
       "3270015585    7.572523e+04\n",
       "3320009994    1.361446e+04\n",
       "3400000229    2.214019e+06\n",
       "3500097335    7.740806e+05\n",
       "3500098502    1.453285e+05\n",
       "3600049435    5.521859e+05\n",
       "3600053477    1.766633e+05\n",
       "4105801321    7.755599e+04\n",
       "4112907712    6.681897e+05\n",
       "4116706651    2.175870e+05\n",
       "4300004301    2.251272e+05\n",
       "4400005098    1.427639e+06\n",
       "4650001792    1.791924e+04\n",
       "4850002238    1.394874e+06\n",
       "4900000044    2.067158e+07\n",
       "5210004228    5.558889e+04\n",
       "5898000420    4.667317e+01\n",
       "6211145398    5.347018e+04\n",
       "7020054430    5.219111e+04\n",
       "7199028151    3.674981e+05\n",
       "8133400988    1.129901e+05\n",
       "8259272064    8.203582e+05\n",
       "8616200281    1.185026e+06\n",
       "8768400107    1.847003e+06\n",
       "8769200660    2.843683e+05\n",
       "Name: Dollar Sales, dtype: float64"
      ]
     },
     "execution_count": 47,
     "metadata": {},
     "output_type": "execute_result"
    }
   ],
   "source": [
    "reports_agg"
   ]
  },
  {
   "cell_type": "markdown",
   "metadata": {},
   "source": [
    "##### ONS Scores"
   ]
  },
  {
   "cell_type": "markdown",
   "metadata": {},
   "source": [
    "Here I am going to get the mean ONS score by item first, as this is the easiest way to look into this."
   ]
  },
  {
   "cell_type": "code",
   "execution_count": 48,
   "metadata": {},
   "outputs": [],
   "source": [
    "results['upc'] = results['upc'].astype(str)"
   ]
  },
  {
   "cell_type": "code",
   "execution_count": 49,
   "metadata": {},
   "outputs": [],
   "source": [
    "results_agg = results.groupby('item_id').mean()"
   ]
  },
  {
   "cell_type": "code",
   "execution_count": 50,
   "metadata": {},
   "outputs": [
    {
     "data": {
      "text/html": [
       "<div>\n",
       "<style scoped>\n",
       "    .dataframe tbody tr th:only-of-type {\n",
       "        vertical-align: middle;\n",
       "    }\n",
       "\n",
       "    .dataframe tbody tr th {\n",
       "        vertical-align: top;\n",
       "    }\n",
       "\n",
       "    .dataframe thead th {\n",
       "        text-align: right;\n",
       "    }\n",
       "</style>\n",
       "<table border=\"1\" class=\"dataframe\">\n",
       "  <thead>\n",
       "    <tr style=\"text-align: right;\">\n",
       "      <th></th>\n",
       "      <th>Raw ONS Line and Pack</th>\n",
       "    </tr>\n",
       "    <tr>\n",
       "      <th>item_id</th>\n",
       "      <th></th>\n",
       "    </tr>\n",
       "  </thead>\n",
       "  <tbody>\n",
       "    <tr>\n",
       "      <th>AB012</th>\n",
       "      <td>21.666667</td>\n",
       "    </tr>\n",
       "    <tr>\n",
       "      <th>AB018</th>\n",
       "      <td>7.000000</td>\n",
       "    </tr>\n",
       "    <tr>\n",
       "      <th>AB031</th>\n",
       "      <td>43.000000</td>\n",
       "    </tr>\n",
       "    <tr>\n",
       "      <th>AB052</th>\n",
       "      <td>9.000000</td>\n",
       "    </tr>\n",
       "    <tr>\n",
       "      <th>AB111</th>\n",
       "      <td>44.500000</td>\n",
       "    </tr>\n",
       "    <tr>\n",
       "      <th>...</th>\n",
       "      <td>...</td>\n",
       "    </tr>\n",
       "    <tr>\n",
       "      <th>L2344</th>\n",
       "      <td>37.500000</td>\n",
       "    </tr>\n",
       "    <tr>\n",
       "      <th>L2362</th>\n",
       "      <td>37.000000</td>\n",
       "    </tr>\n",
       "    <tr>\n",
       "      <th>L2387</th>\n",
       "      <td>44.250000</td>\n",
       "    </tr>\n",
       "    <tr>\n",
       "      <th>L2402</th>\n",
       "      <td>52.000000</td>\n",
       "    </tr>\n",
       "    <tr>\n",
       "      <th>L2403</th>\n",
       "      <td>42.500000</td>\n",
       "    </tr>\n",
       "  </tbody>\n",
       "</table>\n",
       "<p>138 rows × 1 columns</p>\n",
       "</div>"
      ],
      "text/plain": [
       "         Raw ONS Line and Pack\n",
       "item_id                       \n",
       "AB012                21.666667\n",
       "AB018                 7.000000\n",
       "AB031                43.000000\n",
       "AB052                 9.000000\n",
       "AB111                44.500000\n",
       "...                        ...\n",
       "L2344                37.500000\n",
       "L2362                37.000000\n",
       "L2387                44.250000\n",
       "L2402                52.000000\n",
       "L2403                42.500000\n",
       "\n",
       "[138 rows x 1 columns]"
      ]
     },
     "execution_count": 50,
     "metadata": {},
     "output_type": "execute_result"
    }
   ],
   "source": [
    "results_agg"
   ]
  },
  {
   "cell_type": "code",
   "execution_count": 51,
   "metadata": {},
   "outputs": [],
   "source": [
    "results_agg['Dollar Sales'] = None"
   ]
  },
  {
   "cell_type": "markdown",
   "metadata": {},
   "source": [
    "I just need a way to go from UPC 10 digit to JobNumber.\n",
    "This is where the fuzzy matching will be needed for the upc:10-digit upc correspondence.\n"
   ]
  },
  {
   "cell_type": "code",
   "execution_count": 52,
   "metadata": {},
   "outputs": [],
   "source": [
    "from tqdm.notebook import tqdm"
   ]
  },
  {
   "cell_type": "code",
   "execution_count": 53,
   "metadata": {},
   "outputs": [
    {
     "data": {
      "application/vnd.jupyter.widget-view+json": {
       "model_id": "ff3b013fa0214dbda0c25280dcbaca5a",
       "version_major": 2,
       "version_minor": 0
      },
      "text/plain": [
       "  0%|          | 0/7176 [00:00<?, ?it/s]"
      ]
     },
     "metadata": {},
     "output_type": "display_data"
    }
   ],
   "source": [
    "## This certainly ain't optimal...\n",
    "\n",
    "# from collections import defaultdict\n",
    "# d = defaultdict(list)\n",
    "\n",
    "d = {}\n",
    "\n",
    "pbar = tqdm(reports.iterrows(), total=reports.shape[0])\n",
    "\n",
    "for i, row in pbar:  # each row will correspond to an item. need to look up UPC 10 digit\n",
    "    upc = row['UPC 10 digit']\n",
    "    match, score = process.extractOne(upc, results['upc'].unique())\n",
    "    # print(f\"'UPC 10 digit': {upc}, Fuzzy Match: {match}, {len(str(match))}-digit Score: {score}\")\n",
    "\n",
    "    dollar_sales = reports_agg.loc[upc]\n",
    "\n",
    "    item_id = results.loc[results['upc'] == match, 'item_id'].values[0]  # should all be the same\n",
    "    # print(item_id, results_agg.loc[item_id, 'Raw ONS Line and Pack'])\n",
    "\n",
    "    results_agg.loc[item_id, 'Dollar Sales'] = dollar_sales\n",
    "\n",
    "    # d[match].append(upc)\n",
    "    d[upc] = match\n",
    "\n",
    "d = dict(d)    "
   ]
  },
  {
   "cell_type": "code",
   "execution_count": 55,
   "metadata": {},
   "outputs": [],
   "source": [
    "results_agg = results_agg[~pd.isna(results_agg['Dollar Sales'])]"
   ]
  },
  {
   "cell_type": "code",
   "execution_count": 57,
   "metadata": {},
   "outputs": [
    {
     "data": {
      "text/html": [
       "<div>\n",
       "<style scoped>\n",
       "    .dataframe tbody tr th:only-of-type {\n",
       "        vertical-align: middle;\n",
       "    }\n",
       "\n",
       "    .dataframe tbody tr th {\n",
       "        vertical-align: top;\n",
       "    }\n",
       "\n",
       "    .dataframe thead th {\n",
       "        text-align: right;\n",
       "    }\n",
       "</style>\n",
       "<table border=\"1\" class=\"dataframe\">\n",
       "  <thead>\n",
       "    <tr style=\"text-align: right;\">\n",
       "      <th></th>\n",
       "      <th>Raw ONS Line and Pack</th>\n",
       "      <th>Dollar Sales</th>\n",
       "    </tr>\n",
       "    <tr>\n",
       "      <th>item_id</th>\n",
       "      <th></th>\n",
       "      <th></th>\n",
       "    </tr>\n",
       "  </thead>\n",
       "  <tbody>\n",
       "    <tr>\n",
       "      <th>AB031</th>\n",
       "      <td>43.000000</td>\n",
       "      <td>651596.601427</td>\n",
       "    </tr>\n",
       "    <tr>\n",
       "      <th>AB111</th>\n",
       "      <td>44.500000</td>\n",
       "      <td>5.976424</td>\n",
       "    </tr>\n",
       "    <tr>\n",
       "      <th>AB185</th>\n",
       "      <td>16.583333</td>\n",
       "      <td>217586.965257</td>\n",
       "    </tr>\n",
       "    <tr>\n",
       "      <th>AB219</th>\n",
       "      <td>57.500000</td>\n",
       "      <td>145374.730695</td>\n",
       "    </tr>\n",
       "    <tr>\n",
       "      <th>AB220</th>\n",
       "      <td>21.600000</td>\n",
       "      <td>1394873.775889</td>\n",
       "    </tr>\n",
       "  </tbody>\n",
       "</table>\n",
       "</div>"
      ],
      "text/plain": [
       "         Raw ONS Line and Pack    Dollar Sales\n",
       "item_id                                       \n",
       "AB031                43.000000   651596.601427\n",
       "AB111                44.500000        5.976424\n",
       "AB185                16.583333   217586.965257\n",
       "AB219                57.500000   145374.730695\n",
       "AB220                21.600000  1394873.775889"
      ]
     },
     "execution_count": 57,
     "metadata": {},
     "output_type": "execute_result"
    }
   ],
   "source": [
    "results_agg.head()"
   ]
  },
  {
   "cell_type": "markdown",
   "metadata": {},
   "source": [
    "Looking at this now, there's obviously an issue here, because it doesn't take into account the scaling of the different ad-spends.\n",
    "Of course there won't be any meaningful correlation if we don't account for the scales, like with:\n",
    "\n",
    "| JobNumber | ONS | Dollar Sales |\n",
    "| --- | --- | --- |\n",
    "|L2331 | 33.071429 | 104.34687 |\n",
    "|L2362 | 37.000000 | 284368.348369 |\n",
    "|L2403 | 42.500000 | 52191.107084 |\n",
    "\n",
    "While I need to revisit the numbers, I want to make sure the correlation plots are done.\n"
   ]
  },
  {
   "cell_type": "code",
   "execution_count": 59,
   "metadata": {},
   "outputs": [
    {
     "data": {
      "text/plain": [
       "<seaborn.axisgrid.PairGrid at 0x126ccdcd0>"
      ]
     },
     "execution_count": 59,
     "metadata": {},
     "output_type": "execute_result"
    },
    {
     "data": {
      "image/png": "[encoded data removed]",
      "text/plain": [
       "<Figure size 360x360 with 6 Axes>"
      ]
     },
     "metadata": {},
     "output_type": "display_data"
    }
   ],
   "source": [
    "sns.pairplot(data=results_agg)"
   ]
  },
  {
   "cell_type": "code",
   "execution_count": null,
   "metadata": {},
   "outputs": [],
   "source": []
  },
  {
   "cell_type": "markdown",
   "metadata": {},
   "source": []
  }
 ],
 "metadata": {
  "interpreter": {
   "hash": "5989d0768d935c7ff7e4731f453a8814b618c97145c1a2ccb8e17767eb008288"
  },
  "kernelspec": {
   "display_name": "Python 3.7.9 64-bit",
   "name": "python3"
  },
  "language_info": {
   "codemirror_mode": {
    "name": "ipython",
    "version": 3
   },
   "file_extension": ".py",
   "mimetype": "text/x-python",
   "name": "python",
   "nbconvert_exporter": "python",
   "pygments_lexer": "ipython3",
   "version": "3.7.9"
  },
  "orig_nbformat": 4
 },
 "nbformat": 4,
 "nbformat_minor": 2
}
