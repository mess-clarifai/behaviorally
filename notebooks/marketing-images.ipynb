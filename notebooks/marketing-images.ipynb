{
 "cells": [
  {
   "cell_type": "markdown",
   "metadata": {},
   "source": [
    "# Marketing Images\n",
    "\n",
    "---"
   ]
  },
  {
   "cell_type": "markdown",
   "metadata": {},
   "source": [
    "## Overview\n",
    "\n",
    "Narrowing scope to those images of interest provided by @nisha on the Behaviorally.\n"
   ]
  },
  {
   "cell_type": "markdown",
   "metadata": {},
   "source": [
    "## Setup\n"
   ]
  },
  {
   "cell_type": "markdown",
   "metadata": {},
   "source": [
    "### Working Directory\n",
    "\n",
    "This just helps with using local imports from the larger project to the notebook."
   ]
  },
  {
   "cell_type": "code",
   "execution_count": 1,
   "metadata": {},
   "outputs": [
    {
     "name": "stdout",
     "output_type": "stream",
     "text": [
      "/Users/chrismessier/work/behaviorally\n"
     ]
    }
   ],
   "source": [
    "cd ../"
   ]
  },
  {
   "cell_type": "markdown",
   "metadata": {},
   "source": [
    "### Imports"
   ]
  },
  {
   "cell_type": "code",
   "execution_count": 2,
   "metadata": {},
   "outputs": [],
   "source": [
    "import os\n",
    "\n",
    "import numpy as np\n",
    "import pandas as pd\n",
    "import seaborn as sns\n",
    "from tqdm.notebook import tqdm\n",
    "from numpy import random as rng\n",
    "import matplotlib as mpl\n",
    "from matplotlib import pyplot as plt\n",
    "from google.protobuf.struct_pb2 import Struct\n",
    "from clarifai_grpc.channel.clarifai_channel import ClarifaiChannel\n",
    "from clarifai_grpc.grpc.api import resources_pb2, service_pb2, service_pb2_grpc\n",
    "from clarifai_grpc.grpc.api.status import status_pb2, status_code_pb2\n",
    "\n",
    "import processors\n",
    "import tools"
   ]
  },
  {
   "cell_type": "markdown",
   "metadata": {},
   "source": []
  },
  {
   "cell_type": "markdown",
   "metadata": {},
   "source": [
    "#### Config"
   ]
  },
  {
   "cell_type": "code",
   "execution_count": 3,
   "metadata": {},
   "outputs": [],
   "source": [
    "import warnings\n",
    "warnings.filterwarnings('ignore')"
   ]
  },
  {
   "cell_type": "code",
   "execution_count": 4,
   "metadata": {},
   "outputs": [],
   "source": [
    "# for replicability\n",
    "rng.seed(42)\n",
    "# rng.seed(304)"
   ]
  },
  {
   "cell_type": "code",
   "execution_count": 5,
   "metadata": {},
   "outputs": [],
   "source": [
    "%matplotlib inline\n",
    "\n",
    "mpl.rcParams['figure.figsize'] = (12, 9)\n",
    "\n",
    "sns.set(\n",
    "    style='darkgrid'\n",
    ")"
   ]
  },
  {
   "cell_type": "code",
   "execution_count": 6,
   "metadata": {},
   "outputs": [],
   "source": [
    "from config import KEY_METRICS,\\\n",
    "    KEY_CONDITIONALS,\\\n",
    "    TO_NORMALIZE,\\\n",
    "    ONS_ANALYSIS_JOB_NUMBERS,\\\n",
    "    IMAGES_OF_INTEREST"
   ]
  },
  {
   "cell_type": "code",
   "execution_count": 7,
   "metadata": {},
   "outputs": [],
   "source": [
    "N = 51  # sample size for images, keep LOW for dev"
   ]
  },
  {
   "cell_type": "markdown",
   "metadata": {},
   "source": [
    "#### Functions"
   ]
  },
  {
   "cell_type": "code",
   "execution_count": 8,
   "metadata": {},
   "outputs": [],
   "source": [
    "def plot_series(data, x, y, title=None, period_length=13):\n",
    "    g = sns.lineplot(\n",
    "        x=x,\n",
    "        y=y,\n",
    "        hue='Image ID', # hue='Brand Name', # hue=\"Image Name\",  # hue=\"Product\",\n",
    "        data=data,\n",
    "        legend=True\n",
    "    )\n",
    "\n",
    "    plt.title(title)\n",
    "    plt.xlim((0,156))  # for the items not just in single periods\n",
    "    plt.xlabel(x)\n",
    "    plt.ylabel(y)\n",
    "    plt.tight_layout()\n",
    "    plt.legend(bbox_to_anchor=(1.05, 1), loc=2, borderaxespad=0.)\n",
    "\n",
    "    g.set_xticks(range(data['report_dates'].nunique())) # <--- set the ticks first\n",
    "    g.set_xticklabels([t.strftime('%b %d, %Y') for t in data['report_dates'].unique()])\n",
    "\n",
    "    for i, label in enumerate(g.xaxis.get_ticklabels()):\n",
    "        if ((i+1) % period_length) == 0:\n",
    "            label.set_visible(True)\n",
    "        else:\n",
    "            label.set_visible(False)\n",
    "\n",
    "    plt.xticks(rotation=45)\n",
    "\n",
    "    plt.show()\n"
   ]
  },
  {
   "cell_type": "markdown",
   "metadata": {},
   "source": [
    "## Analysis"
   ]
  },
  {
   "cell_type": "markdown",
   "metadata": {},
   "source": [
    "We were provided some instructions by @nisha:\n",
    "\n",
    ">In the file below, we have now included one more column where we have added the names of the images linked to the UPC codes. This is column G, existing images.\n",
    ">\n",
    ">[Copy of IRI Data Product List_3.21.22.xlsx](https://nam12.safelinks.protection.outlook.com/ap/x-59584e83/?url=https%3A%2F%2Fbehav-my.sharepoint.com%2F%3Ax%3A%2Fg%2Fpersonal%2Fskye_guggino_behaviorally_com%2FETyxthcQfnNCjDWRYGpOyAUBTTWqgqR0PhscL_OcLCtz3w%3Fe%3DYxFLgH&data=05%7C01%7CNisha.Yadav%40behaviorally.com%7C26bd690bb01c4c12456508da28923aff%7C01c55d0a027b47dfa914b27f0803c8b4%7C0%7C0%7C637866905773423479%7CUnknown%7CTWFpbGZsb3d8eyJWIjoiMC4wLjAwMDAiLCJQIjoiV2luMzIiLCJBTiI6Ik1haWwiLCJXVCI6Mn0%3D%7C3000%7C%7C%7C&sdata=guPGh3h2T6WhrVY1a3JRqhhs%2FRU8cgquntzsShArcaE%3D&reserved=0)\n",
    ">\n",
    ">In column H, Scraped Online images, you will find names of image files scraped from the internet. Most of the images in this column match or are very similar to the images in column H. there are a few that are a bit different, 13 in all, and are highlighted in red.\n",
    ">\n",
    ">For the analysis you shared on Tuesday, please do another run where you filter by ONS scores for the images listed in column H. then, please apply another filter and take out the 13 red ones from column G.\n",
    ">\n",
    ">Now, as we were discussing on Tuesday, we not only need a correlation analysis, but also need a linear regression, to understand the relationship between the ONS and sales metrics from IRI. Once you have the clean file, would you run this as well?\n",
    ">\n",
    ">Thanks, ny\n"
   ]
  },
  {
   "cell_type": "markdown",
   "metadata": {},
   "source": [
    ">In the file below, we have now included one more column where we have added the names of the images linked to the UPC codes. This is column G, existing images.\n",
    "\n"
   ]
  },
  {
   "cell_type": "code",
   "execution_count": 9,
   "metadata": {},
   "outputs": [],
   "source": [
    "images_of_interest = IMAGES_OF_INTEREST"
   ]
  },
  {
   "cell_type": "code",
   "execution_count": 10,
   "metadata": {},
   "outputs": [
    {
     "data": {
      "text/plain": [
       "51"
      ]
     },
     "execution_count": 10,
     "metadata": {},
     "output_type": "execute_result"
    }
   ],
   "source": [
    "len(images_of_interest)"
   ]
  },
  {
   "cell_type": "code",
   "execution_count": 11,
   "metadata": {},
   "outputs": [],
   "source": [
    "data = \"/Users/chrismessier/work/behaviorally/data/behaviorally_merged_sales_data.csv\""
   ]
  },
  {
   "cell_type": "code",
   "execution_count": 12,
   "metadata": {},
   "outputs": [],
   "source": [
    "df = pd.read_csv(data, index_col=0)"
   ]
  },
  {
   "cell_type": "code",
   "execution_count": 13,
   "metadata": {},
   "outputs": [
    {
     "data": {
      "text/html": [
       "<div>\n",
       "<style scoped>\n",
       "    .dataframe tbody tr th:only-of-type {\n",
       "        vertical-align: middle;\n",
       "    }\n",
       "\n",
       "    .dataframe tbody tr th {\n",
       "        vertical-align: top;\n",
       "    }\n",
       "\n",
       "    .dataframe thead th {\n",
       "        text-align: right;\n",
       "    }\n",
       "</style>\n",
       "<table border=\"1\" class=\"dataframe\">\n",
       "  <thead>\n",
       "    <tr style=\"text-align: right;\">\n",
       "      <th></th>\n",
       "      <th>Image Name</th>\n",
       "      <th>Image ID</th>\n",
       "      <th>Raw ONS Line and Pack</th>\n",
       "      <th>job_number</th>\n",
       "      <th>upc</th>\n",
       "      <th>upc_10</th>\n",
       "      <th>UPC 10 digit</th>\n",
       "      <th>Product</th>\n",
       "      <th>Dollar Sales</th>\n",
       "      <th>Dollar Sales % Change vs YA</th>\n",
       "      <th>...</th>\n",
       "      <th>Unit Share of Category</th>\n",
       "      <th>Unit Share of Category Year Ago</th>\n",
       "      <th>Unit Share of SubCategory</th>\n",
       "      <th>Unit Share of SubCategory Year Ago</th>\n",
       "      <th>Price per Unit</th>\n",
       "      <th>Price per Unit % Change vs YA</th>\n",
       "      <th>Category Name</th>\n",
       "      <th>Sub-Category Name</th>\n",
       "      <th>Brand Name</th>\n",
       "      <th>REPORT</th>\n",
       "    </tr>\n",
       "  </thead>\n",
       "  <tbody>\n",
       "    <tr>\n",
       "      <th>154</th>\n",
       "      <td>AD112_PACK1B.jpg</td>\n",
       "      <td>PACK1B</td>\n",
       "      <td>15.0</td>\n",
       "      <td>AD112</td>\n",
       "      <td>3024480008797</td>\n",
       "      <td>244800086.0</td>\n",
       "      <td>244800086.0</td>\n",
       "      <td>REMY MARTIN 1738 ACCORD ROYAL REGULAR LIQUEUR ...</td>\n",
       "      <td>NaN</td>\n",
       "      <td>NaN</td>\n",
       "      <td>...</td>\n",
       "      <td>NaN</td>\n",
       "      <td>NaN</td>\n",
       "      <td>NaN</td>\n",
       "      <td>NaN</td>\n",
       "      <td>NaN</td>\n",
       "      <td>NaN</td>\n",
       "      <td>SPIRITS/LIQUOR</td>\n",
       "      <td>SPIRITS</td>\n",
       "      <td>REMY MARTIN 1738 ACCORD ROYAL</td>\n",
       "      <td>151.0</td>\n",
       "    </tr>\n",
       "  </tbody>\n",
       "</table>\n",
       "<p>1 rows × 22 columns</p>\n",
       "</div>"
      ],
      "text/plain": [
       "           Image Name Image ID  Raw ONS Line and Pack job_number  \\\n",
       "154  AD112_PACK1B.jpg   PACK1B                   15.0      AD112   \n",
       "\n",
       "               upc       upc_10  UPC 10 digit  \\\n",
       "154  3024480008797  244800086.0   244800086.0   \n",
       "\n",
       "                                               Product  Dollar Sales  \\\n",
       "154  REMY MARTIN 1738 ACCORD ROYAL REGULAR LIQUEUR ...           NaN   \n",
       "\n",
       "     Dollar Sales % Change vs YA  ...  Unit Share of Category  \\\n",
       "154                          NaN  ...                     NaN   \n",
       "\n",
       "     Unit Share of Category Year Ago  Unit Share of SubCategory  \\\n",
       "154                              NaN                        NaN   \n",
       "\n",
       "     Unit Share of SubCategory Year Ago  Price per Unit  \\\n",
       "154                                 NaN             NaN   \n",
       "\n",
       "     Price per Unit % Change vs YA   Category Name  Sub-Category Name  \\\n",
       "154                            NaN  SPIRITS/LIQUOR            SPIRITS   \n",
       "\n",
       "                        Brand Name REPORT  \n",
       "154  REMY MARTIN 1738 ACCORD ROYAL  151.0  \n",
       "\n",
       "[1 rows x 22 columns]"
      ]
     },
     "execution_count": 13,
     "metadata": {},
     "output_type": "execute_result"
    }
   ],
   "source": [
    "df.sample(1)"
   ]
  },
  {
   "cell_type": "code",
   "execution_count": 14,
   "metadata": {},
   "outputs": [],
   "source": [
    "df = df[df['Image Name'].isin(images_of_interest)].copy()"
   ]
  },
  {
   "cell_type": "code",
   "execution_count": 15,
   "metadata": {},
   "outputs": [],
   "source": [
    "df = df.infer_objects()"
   ]
  },
  {
   "cell_type": "code",
   "execution_count": 16,
   "metadata": {},
   "outputs": [
    {
     "name": "stdout",
     "output_type": "stream",
     "text": [
      "(7644, 22)\n"
     ]
    }
   ],
   "source": [
    "print(df.shape)"
   ]
  },
  {
   "cell_type": "code",
   "execution_count": null,
   "metadata": {},
   "outputs": [],
   "source": [
    "df"
   ]
  },
  {
   "cell_type": "code",
   "execution_count": 17,
   "metadata": {},
   "outputs": [],
   "source": [
    "df = df.dropna(subset=['REPORT']).copy()  # could this be dropping images?"
   ]
  },
  {
   "cell_type": "code",
   "execution_count": 18,
   "metadata": {},
   "outputs": [
    {
     "name": "stdout",
     "output_type": "stream",
     "text": [
      "(6240, 22)\n"
     ]
    }
   ],
   "source": [
    "print(df.shape)"
   ]
  },
  {
   "cell_type": "markdown",
   "metadata": {},
   "source": [
    "Seems as if there's about 1400 observations that were then dropped because there was no report date?"
   ]
  },
  {
   "cell_type": "code",
   "execution_count": null,
   "metadata": {},
   "outputs": [],
   "source": []
  },
  {
   "cell_type": "code",
   "execution_count": 19,
   "metadata": {},
   "outputs": [],
   "source": [
    "df['Report'] = df['REPORT'].astype(int)"
   ]
  },
  {
   "cell_type": "code",
   "execution_count": 20,
   "metadata": {},
   "outputs": [
    {
     "data": {
      "text/html": [
       "<div>\n",
       "<style scoped>\n",
       "    .dataframe tbody tr th:only-of-type {\n",
       "        vertical-align: middle;\n",
       "    }\n",
       "\n",
       "    .dataframe tbody tr th {\n",
       "        vertical-align: top;\n",
       "    }\n",
       "\n",
       "    .dataframe thead th {\n",
       "        text-align: right;\n",
       "    }\n",
       "</style>\n",
       "<table border=\"1\" class=\"dataframe\">\n",
       "  <thead>\n",
       "    <tr style=\"text-align: right;\">\n",
       "      <th></th>\n",
       "      <th>Image Name</th>\n",
       "      <th>Image ID</th>\n",
       "      <th>Raw ONS Line and Pack</th>\n",
       "      <th>job_number</th>\n",
       "      <th>upc</th>\n",
       "      <th>upc_10</th>\n",
       "      <th>UPC 10 digit</th>\n",
       "      <th>Product</th>\n",
       "      <th>Dollar Sales</th>\n",
       "      <th>Dollar Sales % Change vs YA</th>\n",
       "      <th>...</th>\n",
       "      <th>Unit Share of Category Year Ago</th>\n",
       "      <th>Unit Share of SubCategory</th>\n",
       "      <th>Unit Share of SubCategory Year Ago</th>\n",
       "      <th>Price per Unit</th>\n",
       "      <th>Price per Unit % Change vs YA</th>\n",
       "      <th>Category Name</th>\n",
       "      <th>Sub-Category Name</th>\n",
       "      <th>Brand Name</th>\n",
       "      <th>REPORT</th>\n",
       "      <th>Report</th>\n",
       "    </tr>\n",
       "  </thead>\n",
       "  <tbody>\n",
       "    <tr>\n",
       "      <th>249</th>\n",
       "      <td>AD513_LINE1.jpg</td>\n",
       "      <td>LINE1</td>\n",
       "      <td>30.0</td>\n",
       "      <td>AD513</td>\n",
       "      <td>35000985026</td>\n",
       "      <td>3.500099e+09</td>\n",
       "      <td>3.500099e+09</td>\n",
       "      <td>COLGATE RENEWAL COOL MINT ANTICAVITY ANTIGINGI...</td>\n",
       "      <td>536.369951</td>\n",
       "      <td>NaN</td>\n",
       "      <td>...</td>\n",
       "      <td>NaN</td>\n",
       "      <td>0.000435</td>\n",
       "      <td>NaN</td>\n",
       "      <td>7.99</td>\n",
       "      <td>NaN</td>\n",
       "      <td>TOOTHPASTE</td>\n",
       "      <td>TOOTHPASTE</td>\n",
       "      <td>COLGATE RENEWAL</td>\n",
       "      <td>94.0</td>\n",
       "      <td>94</td>\n",
       "    </tr>\n",
       "  </tbody>\n",
       "</table>\n",
       "<p>1 rows × 23 columns</p>\n",
       "</div>"
      ],
      "text/plain": [
       "          Image Name Image ID  Raw ONS Line and Pack job_number          upc  \\\n",
       "249  AD513_LINE1.jpg    LINE1                   30.0      AD513  35000985026   \n",
       "\n",
       "           upc_10  UPC 10 digit  \\\n",
       "249  3.500099e+09  3.500099e+09   \n",
       "\n",
       "                                               Product  Dollar Sales  \\\n",
       "249  COLGATE RENEWAL COOL MINT ANTICAVITY ANTIGINGI...    536.369951   \n",
       "\n",
       "     Dollar Sales % Change vs YA  ...  Unit Share of Category Year Ago  \\\n",
       "249                          NaN  ...                              NaN   \n",
       "\n",
       "     Unit Share of SubCategory  Unit Share of SubCategory Year Ago  \\\n",
       "249                   0.000435                                 NaN   \n",
       "\n",
       "     Price per Unit  Price per Unit % Change vs YA  Category Name  \\\n",
       "249            7.99                            NaN     TOOTHPASTE   \n",
       "\n",
       "     Sub-Category Name       Brand Name REPORT Report  \n",
       "249         TOOTHPASTE  COLGATE RENEWAL   94.0     94  \n",
       "\n",
       "[1 rows x 23 columns]"
      ]
     },
     "execution_count": 20,
     "metadata": {},
     "output_type": "execute_result"
    }
   ],
   "source": [
    "df.sample()"
   ]
  },
  {
   "cell_type": "code",
   "execution_count": 21,
   "metadata": {},
   "outputs": [
    {
     "data": {
      "text/plain": [
       "<function breakpoint>"
      ]
     },
     "execution_count": 21,
     "metadata": {},
     "output_type": "execute_result"
    }
   ],
   "source": [
    "breakpoint"
   ]
  },
  {
   "cell_type": "markdown",
   "metadata": {},
   "source": [
    "What 3 are missing?"
   ]
  },
  {
   "cell_type": "code",
   "execution_count": 22,
   "metadata": {},
   "outputs": [],
   "source": [
    "missing_images = [f for f in images_of_interest if f not in df['Image Name'].values.tolist()]"
   ]
  },
  {
   "cell_type": "code",
   "execution_count": 23,
   "metadata": {},
   "outputs": [
    {
     "data": {
      "text/plain": [
       "['AC296_LINE1.jpg',\n",
       " 'AD387_PACK1.jpg',\n",
       " 'AD692_LINE1.png',\n",
       " 'L1501_LINE1.jpg',\n",
       " 'AD296_PACK1.jpg',\n",
       " 'AD518_LINE1.jpg',\n",
       " 'AD672_LINE1.jpg',\n",
       " 'L2115_LINE1.jpg',\n",
       " 'AD615_LINE1.jpg',\n",
       " 'AD507_LINE1A.jpg',\n",
       " 'AD697_LINE1.jpg',\n",
       " 'AC638_PACK1.jpg']"
      ]
     },
     "execution_count": 23,
     "metadata": {},
     "output_type": "execute_result"
    }
   ],
   "source": [
    "missing_images"
   ]
  },
  {
   "cell_type": "code",
   "execution_count": 24,
   "metadata": {},
   "outputs": [
    {
     "ename": "SyntaxError",
     "evalue": "invalid syntax (1763773627.py, line 1)",
     "output_type": "error",
     "traceback": [
      "\u001b[0;36m  File \u001b[0;32m\"/var/folders/f0/lm_7rf3d5ps61msgmysz6bjr0000gn/T/ipykernel_65116/1763773627.py\"\u001b[0;36m, line \u001b[0;32m1\u001b[0m\n\u001b[0;31m    =\u001b[0m\n\u001b[0m    ^\u001b[0m\n\u001b[0;31mSyntaxError\u001b[0m\u001b[0;31m:\u001b[0m invalid syntax\n"
     ]
    }
   ],
   "source": [
    "="
   ]
  },
  {
   "cell_type": "markdown",
   "metadata": {},
   "source": [
    "These images are missing from our predicitons.\n",
    "The file `'L2115_LINE1.jpg'` is known to be missing, and examples have been provided by their team, however the other two were just identified now. "
   ]
  },
  {
   "cell_type": "code",
   "execution_count": null,
   "metadata": {},
   "outputs": [],
   "source": [
    "df.shape"
   ]
  },
  {
   "cell_type": "code",
   "execution_count": null,
   "metadata": {},
   "outputs": [],
   "source": [
    "df.sample(2)"
   ]
  },
  {
   "cell_type": "code",
   "execution_count": null,
   "metadata": {},
   "outputs": [],
   "source": [
    "df_norm = df[['Image Name'] + TO_NORMALIZE].copy()\n",
    "df_norm = df_norm.groupby('Image Name').transform(lambda x: (x - x.mean()) / x.std())\n",
    "\n",
    "# df_norm.dropna(axis=1, inplace=True)\n",
    "print(df_norm.shape)"
   ]
  },
  {
   "cell_type": "code",
   "execution_count": null,
   "metadata": {},
   "outputs": [],
   "source": [
    "df_norm.head()"
   ]
  },
  {
   "cell_type": "code",
   "execution_count": null,
   "metadata": {},
   "outputs": [],
   "source": [
    "columns_to_copy = ['Raw ONS Line and Pack', 'REPORT', 'Product']\n",
    "df_norm[columns_to_copy] = df.loc[:, columns_to_copy].copy()"
   ]
  },
  {
   "cell_type": "code",
   "execution_count": null,
   "metadata": {},
   "outputs": [],
   "source": [
    "df_norm.head()"
   ]
  },
  {
   "cell_type": "code",
   "execution_count": null,
   "metadata": {},
   "outputs": [],
   "source": [
    "from collections import defaultdict\n",
    "\n",
    "correlations = defaultdict(list)\n",
    "for report in df['REPORT'].unique():\n",
    "    df_ = df[df['REPORT'] == report].copy()\n",
    "    for x in TO_NORMALIZE:\n",
    "\n",
    "        R = df_['Raw ONS Line and Pack'].corr(df_[x])\n",
    "        correlations[x].append(R)\n"
   ]
  },
  {
   "cell_type": "code",
   "execution_count": null,
   "metadata": {},
   "outputs": [],
   "source": [
    "for k, v in correlations.items():\n",
    "    # print(k, len(v), v)\n",
    "    g = sns.displot(v, kind='kde')\n",
    "    m_ = max(g.ax.get_xbound())\n",
    "    g.ax.set_xbound((-1 * m_, m_))\n",
    "    plt.title(k)"
   ]
  },
  {
   "cell_type": "code",
   "execution_count": null,
   "metadata": {},
   "outputs": [],
   "source": [
    "plt.show()"
   ]
  },
  {
   "cell_type": "code",
   "execution_count": null,
   "metadata": {},
   "outputs": [],
   "source": [
    "x = 'Raw ONS Line and Pack'\n",
    "\n",
    "for y in TO_NORMALIZE:\n",
    "    title = f\"{y} Over Time\"\n",
    "    plt.title(title)\n",
    "    sns.lineplot(\n",
    "        data=df_norm,\n",
    "        x='REPORT',\n",
    "        y=y,\n",
    "        # hue='Product',\n",
    "        # style='Category Name',\n",
    "        legend=True\n",
    "    )\n",
    "    # sns.displot(x=x, data=correlations)\n",
    "    plt.show()\n"
   ]
  },
  {
   "cell_type": "markdown",
   "metadata": {},
   "source": [
    "Obviously now I want to show the effect of normalization."
   ]
  },
  {
   "cell_type": "code",
   "execution_count": null,
   "metadata": {},
   "outputs": [],
   "source": [
    "df.sample()"
   ]
  },
  {
   "cell_type": "markdown",
   "metadata": {},
   "source": []
  }
 ],
 "metadata": {
  "interpreter": {
   "hash": "5989d0768d935c7ff7e4731f453a8814b618c97145c1a2ccb8e17767eb008288"
  },
  "kernelspec": {
   "display_name": "Python 3.7.9 64-bit",
   "name": "python3"
  },
  "language_info": {
   "codemirror_mode": {
    "name": "ipython",
    "version": 3
   },
   "file_extension": ".py",
   "mimetype": "text/x-python",
   "name": "python",
   "nbconvert_exporter": "python",
   "pygments_lexer": "ipython3",
   "version": "3.7.9"
  },
  "orig_nbformat": 4
 },
 "nbformat": 4,
 "nbformat_minor": 2
}
