{
 "cells": [
  {
   "cell_type": "markdown",
   "metadata": {},
   "source": [
    "# Correlations\n",
    "\n",
    "---"
   ]
  },
  {
   "cell_type": "markdown",
   "metadata": {},
   "source": [
    "## Overview\n",
    "\n",
    "Now that I have some perspective, I can actually dive in here and get the data into a meaningful, and useful format.\n",
    "Ultimately the goal is to create a `DataFrame`, that can of course be written to a `.csv` file; or of course a series of `DataFrame`'s could be written to a `.xlsx` file.\n"
   ]
  },
  {
   "cell_type": "markdown",
   "metadata": {},
   "source": [
    "## Setup\n"
   ]
  },
  {
   "cell_type": "markdown",
   "metadata": {},
   "source": [
    "### Working Directory\n",
    "\n",
    "This just helps with using local imports from the larger project to the notebook."
   ]
  },
  {
   "cell_type": "code",
   "execution_count": 1,
   "metadata": {},
   "outputs": [
    {
     "name": "stdout",
     "output_type": "stream",
     "text": [
      "/Users/chrismessier/work/behaviorally\n"
     ]
    }
   ],
   "source": [
    "cd ../"
   ]
  },
  {
   "cell_type": "markdown",
   "metadata": {},
   "source": [
    "### Imports"
   ]
  },
  {
   "cell_type": "code",
   "execution_count": 2,
   "metadata": {},
   "outputs": [],
   "source": [
    "import os\n",
    "\n",
    "import numpy as np\n",
    "import pandas as pd\n",
    "import seaborn as sns\n",
    "from tqdm.notebook import tqdm\n",
    "from numpy import random as rng\n",
    "from matplotlib import pyplot as plt\n",
    "from google.protobuf.struct_pb2 import Struct\n",
    "from clarifai_grpc.channel.clarifai_channel import ClarifaiChannel\n",
    "from clarifai_grpc.grpc.api import resources_pb2, service_pb2, service_pb2_grpc\n",
    "from clarifai_grpc.grpc.api.status import status_pb2, status_code_pb2\n",
    "\n",
    "import processors\n",
    "import tools"
   ]
  },
  {
   "cell_type": "markdown",
   "metadata": {},
   "source": [
    "#### Plotting Config"
   ]
  },
  {
   "cell_type": "code",
   "execution_count": 3,
   "metadata": {},
   "outputs": [],
   "source": [
    "%matplotlib inline\n",
    "sns.set(\n",
    "    style='darkgrid'\n",
    ")"
   ]
  },
  {
   "cell_type": "code",
   "execution_count": 4,
   "metadata": {},
   "outputs": [],
   "source": [
    "from config import ONS_ANALYSIS_JOB_NUMBERS  # Job Numbers of interest for this"
   ]
  },
  {
   "cell_type": "markdown",
   "metadata": {},
   "source": [
    "## Analysis"
   ]
  },
  {
   "cell_type": "markdown",
   "metadata": {},
   "source": [
    "### Background"
   ]
  },
  {
   "cell_type": "markdown",
   "metadata": {},
   "source": [
    "Now that I have all of the information that I need for this analysis, I can finally string things together in a sensible manner; cleaning up was I had initially done in the [project-forensics.ipynb](./project-forensics.ipynb) file."
   ]
  },
  {
   "cell_type": "markdown",
   "metadata": {},
   "source": [
    "### Spreadsheets"
   ]
  },
  {
   "cell_type": "markdown",
   "metadata": {},
   "source": [
    "These will be needed later..."
   ]
  },
  {
   "cell_type": "code",
   "execution_count": 5,
   "metadata": {},
   "outputs": [],
   "source": [
    "doc_1 = '/Users/chrismessier/work/behaviorally/data/Behaviorally - Report 4.18.22[8].xlsx'\n",
    "doc_2 = '/Users/chrismessier/work/behaviorally/data/IRI Data Product List_3.21.22.xlsx'\n",
    "doc_3 = '/Users/chrismessier/work/behaviorally/data/ONS Validation_dcs_processed_v1.3.xlsx'"
   ]
  },
  {
   "cell_type": "markdown",
   "metadata": {},
   "source": [
    "This is the doc that has all of Tony's results.\n",
    "The first step: narrow this down to only the items of interest for the client (`ONS_ANALYSIS_JOB_NUMBERS`). "
   ]
  },
  {
   "cell_type": "code",
   "execution_count": 6,
   "metadata": {},
   "outputs": [],
   "source": [
    "doc_4 = '/Users/chrismessier/work/behaviorally/data/ONS_output_Tony_Round 1.xlsx'"
   ]
  },
  {
   "cell_type": "markdown",
   "metadata": {},
   "source": [
    "> Alot of the processing here is copied from [project-forensics.ipynb](notebooks/project-forensics.ipynb).\n",
    "> Check there for thorough explanations."
   ]
  },
  {
   "cell_type": "markdown",
   "metadata": {},
   "source": [
    "This here `df` dataframe will be my working data throughout this notebook."
   ]
  },
  {
   "cell_type": "code",
   "execution_count": 7,
   "metadata": {},
   "outputs": [],
   "source": [
    "target_sheet = 'ONS_output_Tony'\n",
    "\n",
    "df = pd.read_excel(doc_4, sheet_name=target_sheet)\n",
    "df['job_number'] = df['Image Name'].apply(lambda s: s.split('_')[0].strip())  # retrieving the first item of the concatenated Image Name\n"
   ]
  },
  {
   "cell_type": "markdown",
   "metadata": {},
   "source": [
    "Focus only on our items of interest."
   ]
  },
  {
   "cell_type": "code",
   "execution_count": 8,
   "metadata": {},
   "outputs": [],
   "source": [
    "df = df[df['job_number'].isin(ONS_ANALYSIS_JOB_NUMBERS)].copy() # .copy() ensures we're using a deepcopy"
   ]
  },
  {
   "cell_type": "markdown",
   "metadata": {},
   "source": [
    "Now we need the UPC codes."
   ]
  },
  {
   "cell_type": "code",
   "execution_count": 9,
   "metadata": {},
   "outputs": [],
   "source": [
    "iri_data = pd.read_excel(doc_2, sheet_name='50 products')\n",
    "iri_data.dropna(axis=0, how='all', inplace=True)\n",
    "iri_data.dropna(subset=['UPC'], how='all', inplace=True)"
   ]
  },
  {
   "cell_type": "code",
   "execution_count": 10,
   "metadata": {},
   "outputs": [
    {
     "data": {
      "text/html": [
       "<div>\n",
       "<style scoped>\n",
       "    .dataframe tbody tr th:only-of-type {\n",
       "        vertical-align: middle;\n",
       "    }\n",
       "\n",
       "    .dataframe tbody tr th {\n",
       "        vertical-align: top;\n",
       "    }\n",
       "\n",
       "    .dataframe thead th {\n",
       "        text-align: right;\n",
       "    }\n",
       "</style>\n",
       "<table border=\"1\" class=\"dataframe\">\n",
       "  <thead>\n",
       "    <tr style=\"text-align: right;\">\n",
       "      <th></th>\n",
       "      <th>JobNumber</th>\n",
       "      <th>Category</th>\n",
       "      <th>Product description</th>\n",
       "      <th>Variant</th>\n",
       "      <th>SKU #</th>\n",
       "      <th>UPC</th>\n",
       "    </tr>\n",
       "  </thead>\n",
       "  <tbody>\n",
       "    <tr>\n",
       "      <th>1</th>\n",
       "      <td>AB238.00</td>\n",
       "      <td>ALCOHOLIC BEV - Beer</td>\n",
       "      <td>Cass Fresh Individual Beer</td>\n",
       "      <td>355mL can and 500mL bottle</td>\n",
       "      <td>NaN</td>\n",
       "      <td>1002334</td>\n",
       "    </tr>\n",
       "    <tr>\n",
       "      <th>2</th>\n",
       "      <td>AC156.00</td>\n",
       "      <td>ALCOHOLIC BEV - Beer</td>\n",
       "      <td>Lagunitas IPA Beer , 6pk/ 12 fl oz bottles</td>\n",
       "      <td>IPA, Hazy Wonder IPA, DayTime IPA</td>\n",
       "      <td>NaN</td>\n",
       "      <td>723830000094</td>\n",
       "    </tr>\n",
       "  </tbody>\n",
       "</table>\n",
       "</div>"
      ],
      "text/plain": [
       "  JobNumber              Category                         Product description  \\\n",
       "1  AB238.00  ALCOHOLIC BEV - Beer                  Cass Fresh Individual Beer   \n",
       "2  AC156.00  ALCOHOLIC BEV - Beer  Lagunitas IPA Beer , 6pk/ 12 fl oz bottles   \n",
       "\n",
       "                             Variant SKU #           UPC  \n",
       "1         355mL can and 500mL bottle   NaN       1002334  \n",
       "2  IPA, Hazy Wonder IPA, DayTime IPA   NaN  723830000094  "
      ]
     },
     "execution_count": 10,
     "metadata": {},
     "output_type": "execute_result"
    }
   ],
   "source": [
    "iri_data.head(2)"
   ]
  },
  {
   "cell_type": "code",
   "execution_count": 11,
   "metadata": {},
   "outputs": [],
   "source": [
    "iri_data['job_number'] = iri_data['JobNumber'].apply(lambda s: s.split('.')[0])"
   ]
  },
  {
   "cell_type": "code",
   "execution_count": 12,
   "metadata": {},
   "outputs": [],
   "source": [
    "iri_data.drop_duplicates(subset=['job_number'], inplace=True)"
   ]
  },
  {
   "cell_type": "markdown",
   "metadata": {},
   "source": [
    "I just thought of this: I haven't checked to see if any of the iri data is missing!\n",
    "I may have really fucked things up here..."
   ]
  },
  {
   "cell_type": "code",
   "execution_count": 13,
   "metadata": {},
   "outputs": [],
   "source": [
    "for x in ONS_ANALYSIS_JOB_NUMBERS:\n",
    "    y = x in iri_data['job_number'].values.tolist()\n",
    "    if not y:\n",
    "        print(x, y)"
   ]
  },
  {
   "cell_type": "markdown",
   "metadata": {},
   "source": [
    "PHEW!\n",
    "\n",
    "Still, now I can reduce the IRI dataframe to only the job numbers of interest as well."
   ]
  },
  {
   "cell_type": "code",
   "execution_count": 14,
   "metadata": {},
   "outputs": [],
   "source": [
    "iri_data = iri_data[iri_data['job_number'].isin(ONS_ANALYSIS_JOB_NUMBERS)].copy() # .copy() ensures we're using a deepcopy"
   ]
  },
  {
   "cell_type": "code",
   "execution_count": 15,
   "metadata": {},
   "outputs": [
    {
     "data": {
      "text/plain": [
       "(51, 7)"
      ]
     },
     "execution_count": 15,
     "metadata": {},
     "output_type": "execute_result"
    }
   ],
   "source": [
    "iri_data.shape"
   ]
  },
  {
   "cell_type": "markdown",
   "metadata": {},
   "source": [
    "Why are there four extra rows...?\n",
    "There are only 51 JobNumbers of interest, but there are 55 rows here."
   ]
  },
  {
   "cell_type": "code",
   "execution_count": 16,
   "metadata": {},
   "outputs": [],
   "source": [
    "from collections import defaultdict\n",
    "\n",
    "d = defaultdict(list)\n",
    "\n",
    "for i, row in iri_data.iterrows():\n",
    "    d[row['job_number']].append(row['UPC'])\n",
    "\n",
    "\n",
    "issue_keys = []\n",
    "\n",
    "for k, v in d.items():\n",
    "    if len(v) > 1:\n",
    "        print(k, v)\n",
    "        issue_keys.append(k)"
   ]
  },
  {
   "cell_type": "code",
   "execution_count": 17,
   "metadata": {},
   "outputs": [
    {
     "data": {
      "text/html": [
       "<div>\n",
       "<style scoped>\n",
       "    .dataframe tbody tr th:only-of-type {\n",
       "        vertical-align: middle;\n",
       "    }\n",
       "\n",
       "    .dataframe tbody tr th {\n",
       "        vertical-align: top;\n",
       "    }\n",
       "\n",
       "    .dataframe thead th {\n",
       "        text-align: right;\n",
       "    }\n",
       "</style>\n",
       "<table border=\"1\" class=\"dataframe\">\n",
       "  <thead>\n",
       "    <tr style=\"text-align: right;\">\n",
       "      <th></th>\n",
       "      <th>JobNumber</th>\n",
       "      <th>Category</th>\n",
       "      <th>Product description</th>\n",
       "      <th>Variant</th>\n",
       "      <th>SKU #</th>\n",
       "      <th>UPC</th>\n",
       "      <th>job_number</th>\n",
       "    </tr>\n",
       "  </thead>\n",
       "  <tbody>\n",
       "  </tbody>\n",
       "</table>\n",
       "</div>"
      ],
      "text/plain": [
       "Empty DataFrame\n",
       "Columns: [JobNumber, Category, Product description, Variant, SKU #, UPC, job_number]\n",
       "Index: []"
      ]
     },
     "execution_count": 17,
     "metadata": {},
     "output_type": "execute_result"
    }
   ],
   "source": [
    "iri_data[iri_data['job_number'].isin(issue_keys)]"
   ]
  },
  {
   "cell_type": "code",
   "execution_count": 18,
   "metadata": {},
   "outputs": [],
   "source": [
    "# iri_data.dropna(subset=['UPC'], how='all', inplace=True)"
   ]
  },
  {
   "cell_type": "markdown",
   "metadata": {},
   "source": [
    "I was having a lot of problems with the `'UPC'` duplicate, and the problem was some errant whitespace in one of the values.\n",
    "I just swapped to `'job_number'` instead: that's what it's there for."
   ]
  },
  {
   "cell_type": "code",
   "execution_count": 19,
   "metadata": {},
   "outputs": [],
   "source": [
    "# iri_data.drop_duplicates(subset=['job_number'], inplace=True)"
   ]
  },
  {
   "cell_type": "code",
   "execution_count": 20,
   "metadata": {},
   "outputs": [
    {
     "data": {
      "text/html": [
       "<div>\n",
       "<style scoped>\n",
       "    .dataframe tbody tr th:only-of-type {\n",
       "        vertical-align: middle;\n",
       "    }\n",
       "\n",
       "    .dataframe tbody tr th {\n",
       "        vertical-align: top;\n",
       "    }\n",
       "\n",
       "    .dataframe thead th {\n",
       "        text-align: right;\n",
       "    }\n",
       "</style>\n",
       "<table border=\"1\" class=\"dataframe\">\n",
       "  <thead>\n",
       "    <tr style=\"text-align: right;\">\n",
       "      <th></th>\n",
       "      <th>JobNumber</th>\n",
       "      <th>Category</th>\n",
       "      <th>Product description</th>\n",
       "      <th>Variant</th>\n",
       "      <th>SKU #</th>\n",
       "      <th>UPC</th>\n",
       "      <th>job_number</th>\n",
       "    </tr>\n",
       "  </thead>\n",
       "  <tbody>\n",
       "    <tr>\n",
       "      <th>6</th>\n",
       "      <td>AD905.00</td>\n",
       "      <td>ALCOHOLIC BEV - Beer</td>\n",
       "      <td>Keystone Light Lager Beer, 15-pack, 12oz cans</td>\n",
       "      <td>NaN</td>\n",
       "      <td>NaN</td>\n",
       "      <td>71990281519</td>\n",
       "      <td>AD905</td>\n",
       "    </tr>\n",
       "    <tr>\n",
       "      <th>15</th>\n",
       "      <td>AD112.00</td>\n",
       "      <td>ALCOHOLIC BEV - Hard Liquors</td>\n",
       "      <td>Remy Martin Club Cognac 700ml</td>\n",
       "      <td>NaN</td>\n",
       "      <td>NaN</td>\n",
       "      <td>3024480008797</td>\n",
       "      <td>AD112</td>\n",
       "    </tr>\n",
       "  </tbody>\n",
       "</table>\n",
       "</div>"
      ],
      "text/plain": [
       "   JobNumber                      Category  \\\n",
       "6   AD905.00          ALCOHOLIC BEV - Beer   \n",
       "15  AD112.00  ALCOHOLIC BEV - Hard Liquors   \n",
       "\n",
       "                              Product description Variant SKU #  \\\n",
       "6   Keystone Light Lager Beer, 15-pack, 12oz cans     NaN   NaN   \n",
       "15                  Remy Martin Club Cognac 700ml     NaN   NaN   \n",
       "\n",
       "              UPC job_number  \n",
       "6     71990281519      AD905  \n",
       "15  3024480008797      AD112  "
      ]
     },
     "execution_count": 20,
     "metadata": {},
     "output_type": "execute_result"
    }
   ],
   "source": [
    "iri_data.head(2)"
   ]
  },
  {
   "cell_type": "markdown",
   "metadata": {},
   "source": [
    "Now that this table is all cleaned-up, I can map it back to the primary working data in `df` and continue on down the road of analysis."
   ]
  },
  {
   "cell_type": "code",
   "execution_count": 21,
   "metadata": {},
   "outputs": [
    {
     "data": {
      "text/html": [
       "<div>\n",
       "<style scoped>\n",
       "    .dataframe tbody tr th:only-of-type {\n",
       "        vertical-align: middle;\n",
       "    }\n",
       "\n",
       "    .dataframe tbody tr th {\n",
       "        vertical-align: top;\n",
       "    }\n",
       "\n",
       "    .dataframe thead th {\n",
       "        text-align: right;\n",
       "    }\n",
       "</style>\n",
       "<table border=\"1\" class=\"dataframe\">\n",
       "  <thead>\n",
       "    <tr style=\"text-align: right;\">\n",
       "      <th></th>\n",
       "      <th>Image Name</th>\n",
       "      <th>Image ID</th>\n",
       "      <th>Raw ONS Line and Pack</th>\n",
       "      <th>job_number</th>\n",
       "    </tr>\n",
       "  </thead>\n",
       "  <tbody>\n",
       "    <tr>\n",
       "      <th>33</th>\n",
       "      <td>AB031_LINE1.jpg</td>\n",
       "      <td>LINE1</td>\n",
       "      <td>42.0</td>\n",
       "      <td>AB031</td>\n",
       "    </tr>\n",
       "    <tr>\n",
       "      <th>34</th>\n",
       "      <td>AB031_LINE2.jpg</td>\n",
       "      <td>LINE2</td>\n",
       "      <td>48.0</td>\n",
       "      <td>AB031</td>\n",
       "    </tr>\n",
       "    <tr>\n",
       "      <th>35</th>\n",
       "      <td>AB031_LINE3.jpg</td>\n",
       "      <td>LINE3</td>\n",
       "      <td>42.0</td>\n",
       "      <td>AB031</td>\n",
       "    </tr>\n",
       "    <tr>\n",
       "      <th>36</th>\n",
       "      <td>AB031_LINE4.jpg</td>\n",
       "      <td>LINE4</td>\n",
       "      <td>40.0</td>\n",
       "      <td>AB031</td>\n",
       "    </tr>\n",
       "    <tr>\n",
       "      <th>82</th>\n",
       "      <td>AB111_LINE1.jpg</td>\n",
       "      <td>LINE1</td>\n",
       "      <td>45.0</td>\n",
       "      <td>AB111</td>\n",
       "    </tr>\n",
       "  </tbody>\n",
       "</table>\n",
       "</div>"
      ],
      "text/plain": [
       "         Image Name Image ID  Raw ONS Line and Pack job_number\n",
       "33  AB031_LINE1.jpg    LINE1                   42.0      AB031\n",
       "34  AB031_LINE2.jpg    LINE2                   48.0      AB031\n",
       "35  AB031_LINE3.jpg    LINE3                   42.0      AB031\n",
       "36  AB031_LINE4.jpg    LINE4                   40.0      AB031\n",
       "82  AB111_LINE1.jpg    LINE1                   45.0      AB111"
      ]
     },
     "execution_count": 21,
     "metadata": {},
     "output_type": "execute_result"
    }
   ],
   "source": [
    "df.head()"
   ]
  },
  {
   "cell_type": "code",
   "execution_count": 22,
   "metadata": {},
   "outputs": [],
   "source": [
    "df.loc[:, 'upc'] = None"
   ]
  },
  {
   "cell_type": "code",
   "execution_count": 23,
   "metadata": {},
   "outputs": [],
   "source": [
    "for i, row in iri_data.iterrows():\n",
    "    job_number = row['job_number']\n",
    "    upc = row['UPC']\n",
    "    df.loc[df['job_number'] == job_number, 'upc'] = upc"
   ]
  },
  {
   "cell_type": "code",
   "execution_count": 24,
   "metadata": {},
   "outputs": [
    {
     "data": {
      "text/html": [
       "<div>\n",
       "<style scoped>\n",
       "    .dataframe tbody tr th:only-of-type {\n",
       "        vertical-align: middle;\n",
       "    }\n",
       "\n",
       "    .dataframe tbody tr th {\n",
       "        vertical-align: top;\n",
       "    }\n",
       "\n",
       "    .dataframe thead th {\n",
       "        text-align: right;\n",
       "    }\n",
       "</style>\n",
       "<table border=\"1\" class=\"dataframe\">\n",
       "  <thead>\n",
       "    <tr style=\"text-align: right;\">\n",
       "      <th></th>\n",
       "      <th>Image Name</th>\n",
       "      <th>Image ID</th>\n",
       "      <th>Raw ONS Line and Pack</th>\n",
       "      <th>job_number</th>\n",
       "      <th>upc</th>\n",
       "    </tr>\n",
       "  </thead>\n",
       "  <tbody>\n",
       "    <tr>\n",
       "      <th>33</th>\n",
       "      <td>AB031_LINE1.jpg</td>\n",
       "      <td>LINE1</td>\n",
       "      <td>42.0</td>\n",
       "      <td>AB031</td>\n",
       "      <td>12000012754</td>\n",
       "    </tr>\n",
       "    <tr>\n",
       "      <th>34</th>\n",
       "      <td>AB031_LINE2.jpg</td>\n",
       "      <td>LINE2</td>\n",
       "      <td>48.0</td>\n",
       "      <td>AB031</td>\n",
       "      <td>12000012754</td>\n",
       "    </tr>\n",
       "    <tr>\n",
       "      <th>35</th>\n",
       "      <td>AB031_LINE3.jpg</td>\n",
       "      <td>LINE3</td>\n",
       "      <td>42.0</td>\n",
       "      <td>AB031</td>\n",
       "      <td>12000012754</td>\n",
       "    </tr>\n",
       "    <tr>\n",
       "      <th>36</th>\n",
       "      <td>AB031_LINE4.jpg</td>\n",
       "      <td>LINE4</td>\n",
       "      <td>40.0</td>\n",
       "      <td>AB031</td>\n",
       "      <td>12000012754</td>\n",
       "    </tr>\n",
       "    <tr>\n",
       "      <th>82</th>\n",
       "      <td>AB111_LINE1.jpg</td>\n",
       "      <td>LINE1</td>\n",
       "      <td>45.0</td>\n",
       "      <td>AB111</td>\n",
       "      <td>70462035964</td>\n",
       "    </tr>\n",
       "    <tr>\n",
       "      <th>...</th>\n",
       "      <td>...</td>\n",
       "      <td>...</td>\n",
       "      <td>...</td>\n",
       "      <td>...</td>\n",
       "      <td>...</td>\n",
       "    </tr>\n",
       "    <tr>\n",
       "      <th>4714</th>\n",
       "      <td>L2362_LINE3.jpg</td>\n",
       "      <td>LINE3</td>\n",
       "      <td>39.0</td>\n",
       "      <td>L2362</td>\n",
       "      <td>87692006602</td>\n",
       "    </tr>\n",
       "    <tr>\n",
       "      <th>4737</th>\n",
       "      <td>L2403_LINE1.jpg</td>\n",
       "      <td>LINE1</td>\n",
       "      <td>27.0</td>\n",
       "      <td>L2403</td>\n",
       "      <td>7020054430</td>\n",
       "    </tr>\n",
       "    <tr>\n",
       "      <th>4738</th>\n",
       "      <td>L2403_LINE2.jpg</td>\n",
       "      <td>LINE2</td>\n",
       "      <td>44.0</td>\n",
       "      <td>L2403</td>\n",
       "      <td>7020054430</td>\n",
       "    </tr>\n",
       "    <tr>\n",
       "      <th>4739</th>\n",
       "      <td>L2403_LINE3.jpg</td>\n",
       "      <td>LINE3</td>\n",
       "      <td>44.0</td>\n",
       "      <td>L2403</td>\n",
       "      <td>7020054430</td>\n",
       "    </tr>\n",
       "    <tr>\n",
       "      <th>4740</th>\n",
       "      <td>L2403_LINE4.jpg</td>\n",
       "      <td>LINE4</td>\n",
       "      <td>55.0</td>\n",
       "      <td>L2403</td>\n",
       "      <td>7020054430</td>\n",
       "    </tr>\n",
       "  </tbody>\n",
       "</table>\n",
       "<p>352 rows × 5 columns</p>\n",
       "</div>"
      ],
      "text/plain": [
       "           Image Name Image ID  Raw ONS Line and Pack job_number          upc\n",
       "33    AB031_LINE1.jpg    LINE1                   42.0      AB031  12000012754\n",
       "34    AB031_LINE2.jpg    LINE2                   48.0      AB031  12000012754\n",
       "35    AB031_LINE3.jpg    LINE3                   42.0      AB031  12000012754\n",
       "36    AB031_LINE4.jpg    LINE4                   40.0      AB031  12000012754\n",
       "82    AB111_LINE1.jpg    LINE1                   45.0      AB111  70462035964\n",
       "...               ...      ...                    ...        ...          ...\n",
       "4714  L2362_LINE3.jpg    LINE3                   39.0      L2362  87692006602\n",
       "4737  L2403_LINE1.jpg    LINE1                   27.0      L2403   7020054430\n",
       "4738  L2403_LINE2.jpg    LINE2                   44.0      L2403   7020054430\n",
       "4739  L2403_LINE3.jpg    LINE3                   44.0      L2403   7020054430\n",
       "4740  L2403_LINE4.jpg    LINE4                   55.0      L2403   7020054430\n",
       "\n",
       "[352 rows x 5 columns]"
      ]
     },
     "execution_count": 24,
     "metadata": {},
     "output_type": "execute_result"
    }
   ],
   "source": [
    "df"
   ]
  },
  {
   "cell_type": "markdown",
   "metadata": {},
   "source": [
    "### UPC Mapping"
   ]
  },
  {
   "cell_type": "markdown",
   "metadata": {},
   "source": [
    "This is where I have to figure out how the UPC mapping will be finalized.\n",
    "I'm thinking that I'll just repurpose what was done in [items-of-interest.ipynb](notebooks/items-of-interest.ipynb) again."
   ]
  },
  {
   "cell_type": "code",
   "execution_count": 25,
   "metadata": {},
   "outputs": [],
   "source": [
    "rng.seed(42)"
   ]
  },
  {
   "cell_type": "code",
   "execution_count": 26,
   "metadata": {},
   "outputs": [],
   "source": [
    "report = processors.sample_behaviorally_reports(doc_1)"
   ]
  },
  {
   "cell_type": "code",
   "execution_count": 27,
   "metadata": {},
   "outputs": [],
   "source": [
    "report_number = report['REPORT'].unique()"
   ]
  },
  {
   "cell_type": "code",
   "execution_count": 28,
   "metadata": {},
   "outputs": [],
   "source": [
    "report = report.infer_objects()"
   ]
  },
  {
   "cell_type": "markdown",
   "metadata": {},
   "source": [
    "There were complaints about an outlier value skewing the representational value of the plots.\n",
    "After reviewing the data, it's pretty obvious that Coca-Cola is the offender, with $18M in weekly sales, there's no wonder it's throwing things off.\n",
    "As a rough buffer against that, I'm just gonna go ahead and drop the row with the largest `'Dollar Sales'` value.  "
   ]
  },
  {
   "cell_type": "code",
   "execution_count": 29,
   "metadata": {},
   "outputs": [],
   "source": [
    "report = report.drop(report['Dollar Sales'].idxmax())"
   ]
  },
  {
   "cell_type": "code",
   "execution_count": 30,
   "metadata": {},
   "outputs": [
    {
     "data": {
      "text/plain": [
       "(45, 16)"
      ]
     },
     "execution_count": 30,
     "metadata": {},
     "output_type": "execute_result"
    }
   ],
   "source": [
    "report.shape"
   ]
  },
  {
   "cell_type": "code",
   "execution_count": 31,
   "metadata": {},
   "outputs": [
    {
     "data": {
      "text/html": [
       "<div>\n",
       "<style scoped>\n",
       "    .dataframe tbody tr th:only-of-type {\n",
       "        vertical-align: middle;\n",
       "    }\n",
       "\n",
       "    .dataframe tbody tr th {\n",
       "        vertical-align: top;\n",
       "    }\n",
       "\n",
       "    .dataframe thead th {\n",
       "        text-align: right;\n",
       "    }\n",
       "</style>\n",
       "<table border=\"1\" class=\"dataframe\">\n",
       "  <thead>\n",
       "    <tr style=\"text-align: right;\">\n",
       "      <th></th>\n",
       "      <th>Product</th>\n",
       "      <th>Dollar Sales</th>\n",
       "      <th>Dollar Sales % Change vs YA</th>\n",
       "      <th>Unit Sales</th>\n",
       "      <th>Unit Sales % Change vs YA</th>\n",
       "      <th>Unit Share of Category</th>\n",
       "      <th>Unit Share of Category Year Ago</th>\n",
       "      <th>Unit Share of SubCategory</th>\n",
       "      <th>Unit Share of SubCategory Year Ago</th>\n",
       "      <th>Price per Unit</th>\n",
       "      <th>Price per Unit % Change vs YA</th>\n",
       "      <th>UPC 10 digit</th>\n",
       "      <th>Category Name</th>\n",
       "      <th>Sub-Category Name</th>\n",
       "      <th>Brand Name</th>\n",
       "      <th>REPORT</th>\n",
       "    </tr>\n",
       "  </thead>\n",
       "  <tbody>\n",
       "    <tr>\n",
       "      <th>7</th>\n",
       "      <td>PEPSI COLA SODA REGULAR CALORIES PLASTIC BOTTL...</td>\n",
       "      <td>1.053024e+07</td>\n",
       "      <td>0.073827</td>\n",
       "      <td>5.530233e+06</td>\n",
       "      <td>0.041584</td>\n",
       "      <td>2.374186</td>\n",
       "      <td>2.045063</td>\n",
       "      <td>3.260978</td>\n",
       "      <td>2.830028</td>\n",
       "      <td>1.904122</td>\n",
       "      <td>0.030956</td>\n",
       "      <td>1200000129</td>\n",
       "      <td>CARBONATED BEVERAGES</td>\n",
       "      <td>REGULAR SOFT DRINKS</td>\n",
       "      <td>PEPSI</td>\n",
       "      <td>103</td>\n",
       "    </tr>\n",
       "    <tr>\n",
       "      <th>8</th>\n",
       "      <td>PEPSI COLA SODA REGULAR CALORIES PLASTIC BOTTL...</td>\n",
       "      <td>1.916534e+02</td>\n",
       "      <td>1.445339</td>\n",
       "      <td>9.538572e+01</td>\n",
       "      <td>1.534032</td>\n",
       "      <td>0.000041</td>\n",
       "      <td>0.000014</td>\n",
       "      <td>0.000056</td>\n",
       "      <td>0.000020</td>\n",
       "      <td>2.009246</td>\n",
       "      <td>-0.035001</td>\n",
       "      <td>2000001291</td>\n",
       "      <td>CARBONATED BEVERAGES</td>\n",
       "      <td>REGULAR SOFT DRINKS</td>\n",
       "      <td>PEPSI</td>\n",
       "      <td>103</td>\n",
       "    </tr>\n",
       "  </tbody>\n",
       "</table>\n",
       "</div>"
      ],
      "text/plain": [
       "                                             Product  Dollar Sales  \\\n",
       "7  PEPSI COLA SODA REGULAR CALORIES PLASTIC BOTTL...  1.053024e+07   \n",
       "8  PEPSI COLA SODA REGULAR CALORIES PLASTIC BOTTL...  1.916534e+02   \n",
       "\n",
       "   Dollar Sales % Change vs YA    Unit Sales  Unit Sales % Change vs YA  \\\n",
       "7                     0.073827  5.530233e+06                   0.041584   \n",
       "8                     1.445339  9.538572e+01                   1.534032   \n",
       "\n",
       "   Unit Share of Category  Unit Share of Category Year Ago  \\\n",
       "7                2.374186                         2.045063   \n",
       "8                0.000041                         0.000014   \n",
       "\n",
       "   Unit Share of SubCategory  Unit Share of SubCategory Year Ago  \\\n",
       "7                   3.260978                            2.830028   \n",
       "8                   0.000056                            0.000020   \n",
       "\n",
       "   Price per Unit  Price per Unit % Change vs YA UPC 10 digit  \\\n",
       "7        1.904122                       0.030956   1200000129   \n",
       "8        2.009246                      -0.035001   2000001291   \n",
       "\n",
       "          Category Name    Sub-Category Name Brand Name REPORT  \n",
       "7  CARBONATED BEVERAGES  REGULAR SOFT DRINKS      PEPSI    103  \n",
       "8  CARBONATED BEVERAGES  REGULAR SOFT DRINKS      PEPSI    103  "
      ]
     },
     "execution_count": 31,
     "metadata": {},
     "output_type": "execute_result"
    }
   ],
   "source": [
    "report.head(2)"
   ]
  },
  {
   "cell_type": "code",
   "execution_count": 32,
   "metadata": {},
   "outputs": [],
   "source": [
    "from fuzzywuzzy import process\n",
    "\n",
    "\n",
    "def __get_upc_mappings(a, b, threshold=75):\n",
    "    \"\"\" 2 dfs -> upc mappings\n",
    "    \"\"\"\n",
    "    d = {}\n",
    "\n",
    "    for i, row in a.iterrows():  # each row will correspond to an item. need to look up UPC 10 digit\n",
    "        upc = row['UPC 10 digit']\n",
    "        match, score = process.extractOne(upc, b['upc'].values)\n",
    "        \n",
    "        if score >= threshold:\n",
    "            # d[upc] = match   # I had these mixed up...\n",
    "            d[match] = upc\n",
    "\n",
    "    return d   \n"
   ]
  },
  {
   "cell_type": "code",
   "execution_count": 33,
   "metadata": {},
   "outputs": [],
   "source": [
    "d = __get_upc_mappings(report, df)"
   ]
  },
  {
   "cell_type": "code",
   "execution_count": 34,
   "metadata": {},
   "outputs": [],
   "source": [
    "import tools\n",
    "\n",
    "upc_to_ten, ten_to_upc = tools.get_upc_mappings(report, df)"
   ]
  },
  {
   "cell_type": "code",
   "execution_count": 35,
   "metadata": {},
   "outputs": [
    {
     "data": {
      "text/plain": [
       "41"
      ]
     },
     "execution_count": 35,
     "metadata": {},
     "output_type": "execute_result"
    }
   ],
   "source": [
    "len(upc_to_ten.keys())"
   ]
  },
  {
   "cell_type": "code",
   "execution_count": 36,
   "metadata": {},
   "outputs": [
    {
     "data": {
      "text/html": [
       "<div>\n",
       "<style scoped>\n",
       "    .dataframe tbody tr th:only-of-type {\n",
       "        vertical-align: middle;\n",
       "    }\n",
       "\n",
       "    .dataframe tbody tr th {\n",
       "        vertical-align: top;\n",
       "    }\n",
       "\n",
       "    .dataframe thead th {\n",
       "        text-align: right;\n",
       "    }\n",
       "</style>\n",
       "<table border=\"1\" class=\"dataframe\">\n",
       "  <thead>\n",
       "    <tr style=\"text-align: right;\">\n",
       "      <th></th>\n",
       "      <th>Image Name</th>\n",
       "      <th>Image ID</th>\n",
       "      <th>Raw ONS Line and Pack</th>\n",
       "      <th>job_number</th>\n",
       "      <th>upc</th>\n",
       "    </tr>\n",
       "  </thead>\n",
       "  <tbody>\n",
       "    <tr>\n",
       "      <th>33</th>\n",
       "      <td>AB031_LINE1.jpg</td>\n",
       "      <td>LINE1</td>\n",
       "      <td>42.0</td>\n",
       "      <td>AB031</td>\n",
       "      <td>12000012754</td>\n",
       "    </tr>\n",
       "    <tr>\n",
       "      <th>34</th>\n",
       "      <td>AB031_LINE2.jpg</td>\n",
       "      <td>LINE2</td>\n",
       "      <td>48.0</td>\n",
       "      <td>AB031</td>\n",
       "      <td>12000012754</td>\n",
       "    </tr>\n",
       "  </tbody>\n",
       "</table>\n",
       "</div>"
      ],
      "text/plain": [
       "         Image Name Image ID  Raw ONS Line and Pack job_number          upc\n",
       "33  AB031_LINE1.jpg    LINE1                   42.0      AB031  12000012754\n",
       "34  AB031_LINE2.jpg    LINE2                   48.0      AB031  12000012754"
      ]
     },
     "execution_count": 36,
     "metadata": {},
     "output_type": "execute_result"
    }
   ],
   "source": [
    "df.head(2)"
   ]
  },
  {
   "cell_type": "code",
   "execution_count": 37,
   "metadata": {},
   "outputs": [],
   "source": [
    "df['upc_10'] = df['upc'].apply(lambda k: upc_to_ten.get(k, None))"
   ]
  },
  {
   "cell_type": "code",
   "execution_count": 38,
   "metadata": {},
   "outputs": [
    {
     "data": {
      "text/html": [
       "<div>\n",
       "<style scoped>\n",
       "    .dataframe tbody tr th:only-of-type {\n",
       "        vertical-align: middle;\n",
       "    }\n",
       "\n",
       "    .dataframe tbody tr th {\n",
       "        vertical-align: top;\n",
       "    }\n",
       "\n",
       "    .dataframe thead th {\n",
       "        text-align: right;\n",
       "    }\n",
       "</style>\n",
       "<table border=\"1\" class=\"dataframe\">\n",
       "  <thead>\n",
       "    <tr style=\"text-align: right;\">\n",
       "      <th></th>\n",
       "      <th>Image Name</th>\n",
       "      <th>Image ID</th>\n",
       "      <th>Raw ONS Line and Pack</th>\n",
       "      <th>job_number</th>\n",
       "      <th>upc</th>\n",
       "      <th>upc_10</th>\n",
       "    </tr>\n",
       "  </thead>\n",
       "  <tbody>\n",
       "    <tr>\n",
       "      <th>33</th>\n",
       "      <td>AB031_LINE1.jpg</td>\n",
       "      <td>LINE1</td>\n",
       "      <td>42.0</td>\n",
       "      <td>AB031</td>\n",
       "      <td>12000012754</td>\n",
       "      <td>1200001275</td>\n",
       "    </tr>\n",
       "    <tr>\n",
       "      <th>34</th>\n",
       "      <td>AB031_LINE2.jpg</td>\n",
       "      <td>LINE2</td>\n",
       "      <td>48.0</td>\n",
       "      <td>AB031</td>\n",
       "      <td>12000012754</td>\n",
       "      <td>1200001275</td>\n",
       "    </tr>\n",
       "    <tr>\n",
       "      <th>35</th>\n",
       "      <td>AB031_LINE3.jpg</td>\n",
       "      <td>LINE3</td>\n",
       "      <td>42.0</td>\n",
       "      <td>AB031</td>\n",
       "      <td>12000012754</td>\n",
       "      <td>1200001275</td>\n",
       "    </tr>\n",
       "    <tr>\n",
       "      <th>36</th>\n",
       "      <td>AB031_LINE4.jpg</td>\n",
       "      <td>LINE4</td>\n",
       "      <td>40.0</td>\n",
       "      <td>AB031</td>\n",
       "      <td>12000012754</td>\n",
       "      <td>1200001275</td>\n",
       "    </tr>\n",
       "    <tr>\n",
       "      <th>82</th>\n",
       "      <td>AB111_LINE1.jpg</td>\n",
       "      <td>LINE1</td>\n",
       "      <td>45.0</td>\n",
       "      <td>AB111</td>\n",
       "      <td>70462035964</td>\n",
       "      <td>0462035964</td>\n",
       "    </tr>\n",
       "  </tbody>\n",
       "</table>\n",
       "</div>"
      ],
      "text/plain": [
       "         Image Name Image ID  Raw ONS Line and Pack job_number          upc  \\\n",
       "33  AB031_LINE1.jpg    LINE1                   42.0      AB031  12000012754   \n",
       "34  AB031_LINE2.jpg    LINE2                   48.0      AB031  12000012754   \n",
       "35  AB031_LINE3.jpg    LINE3                   42.0      AB031  12000012754   \n",
       "36  AB031_LINE4.jpg    LINE4                   40.0      AB031  12000012754   \n",
       "82  AB111_LINE1.jpg    LINE1                   45.0      AB111  70462035964   \n",
       "\n",
       "        upc_10  \n",
       "33  1200001275  \n",
       "34  1200001275  \n",
       "35  1200001275  \n",
       "36  1200001275  \n",
       "82  0462035964  "
      ]
     },
     "execution_count": 38,
     "metadata": {},
     "output_type": "execute_result"
    }
   ],
   "source": [
    "df.head()"
   ]
  },
  {
   "cell_type": "code",
   "execution_count": 39,
   "metadata": {},
   "outputs": [],
   "source": [
    "df['UPC 10 digit'] = df['upc_10'].copy()  # HACK this is super-stoopid. You need to brush up on pandas, dummy."
   ]
  },
  {
   "cell_type": "code",
   "execution_count": 40,
   "metadata": {},
   "outputs": [
    {
     "data": {
      "text/html": [
       "<div>\n",
       "<style scoped>\n",
       "    .dataframe tbody tr th:only-of-type {\n",
       "        vertical-align: middle;\n",
       "    }\n",
       "\n",
       "    .dataframe tbody tr th {\n",
       "        vertical-align: top;\n",
       "    }\n",
       "\n",
       "    .dataframe thead th {\n",
       "        text-align: right;\n",
       "    }\n",
       "</style>\n",
       "<table border=\"1\" class=\"dataframe\">\n",
       "  <thead>\n",
       "    <tr style=\"text-align: right;\">\n",
       "      <th></th>\n",
       "      <th>Image Name</th>\n",
       "      <th>Image ID</th>\n",
       "      <th>Raw ONS Line and Pack</th>\n",
       "      <th>job_number</th>\n",
       "      <th>upc</th>\n",
       "      <th>upc_10</th>\n",
       "      <th>UPC 10 digit</th>\n",
       "    </tr>\n",
       "  </thead>\n",
       "  <tbody>\n",
       "    <tr>\n",
       "      <th>33</th>\n",
       "      <td>AB031_LINE1.jpg</td>\n",
       "      <td>LINE1</td>\n",
       "      <td>42.0</td>\n",
       "      <td>AB031</td>\n",
       "      <td>12000012754</td>\n",
       "      <td>1200001275</td>\n",
       "      <td>1200001275</td>\n",
       "    </tr>\n",
       "    <tr>\n",
       "      <th>34</th>\n",
       "      <td>AB031_LINE2.jpg</td>\n",
       "      <td>LINE2</td>\n",
       "      <td>48.0</td>\n",
       "      <td>AB031</td>\n",
       "      <td>12000012754</td>\n",
       "      <td>1200001275</td>\n",
       "      <td>1200001275</td>\n",
       "    </tr>\n",
       "    <tr>\n",
       "      <th>35</th>\n",
       "      <td>AB031_LINE3.jpg</td>\n",
       "      <td>LINE3</td>\n",
       "      <td>42.0</td>\n",
       "      <td>AB031</td>\n",
       "      <td>12000012754</td>\n",
       "      <td>1200001275</td>\n",
       "      <td>1200001275</td>\n",
       "    </tr>\n",
       "    <tr>\n",
       "      <th>36</th>\n",
       "      <td>AB031_LINE4.jpg</td>\n",
       "      <td>LINE4</td>\n",
       "      <td>40.0</td>\n",
       "      <td>AB031</td>\n",
       "      <td>12000012754</td>\n",
       "      <td>1200001275</td>\n",
       "      <td>1200001275</td>\n",
       "    </tr>\n",
       "    <tr>\n",
       "      <th>82</th>\n",
       "      <td>AB111_LINE1.jpg</td>\n",
       "      <td>LINE1</td>\n",
       "      <td>45.0</td>\n",
       "      <td>AB111</td>\n",
       "      <td>70462035964</td>\n",
       "      <td>0462035964</td>\n",
       "      <td>0462035964</td>\n",
       "    </tr>\n",
       "  </tbody>\n",
       "</table>\n",
       "</div>"
      ],
      "text/plain": [
       "         Image Name Image ID  Raw ONS Line and Pack job_number          upc  \\\n",
       "33  AB031_LINE1.jpg    LINE1                   42.0      AB031  12000012754   \n",
       "34  AB031_LINE2.jpg    LINE2                   48.0      AB031  12000012754   \n",
       "35  AB031_LINE3.jpg    LINE3                   42.0      AB031  12000012754   \n",
       "36  AB031_LINE4.jpg    LINE4                   40.0      AB031  12000012754   \n",
       "82  AB111_LINE1.jpg    LINE1                   45.0      AB111  70462035964   \n",
       "\n",
       "        upc_10 UPC 10 digit  \n",
       "33  1200001275   1200001275  \n",
       "34  1200001275   1200001275  \n",
       "35  1200001275   1200001275  \n",
       "36  1200001275   1200001275  \n",
       "82  0462035964   0462035964  "
      ]
     },
     "execution_count": 40,
     "metadata": {},
     "output_type": "execute_result"
    }
   ],
   "source": [
    "df.head()"
   ]
  },
  {
   "cell_type": "code",
   "execution_count": 41,
   "metadata": {},
   "outputs": [],
   "source": [
    "df_ = df.merge(report, how='left', on='UPC 10 digit')"
   ]
  },
  {
   "cell_type": "markdown",
   "metadata": {},
   "source": [
    "Surprisingly, this actually looks good! "
   ]
  },
  {
   "cell_type": "code",
   "execution_count": 42,
   "metadata": {},
   "outputs": [
    {
     "data": {
      "text/html": [
       "<div>\n",
       "<style scoped>\n",
       "    .dataframe tbody tr th:only-of-type {\n",
       "        vertical-align: middle;\n",
       "    }\n",
       "\n",
       "    .dataframe tbody tr th {\n",
       "        vertical-align: top;\n",
       "    }\n",
       "\n",
       "    .dataframe thead th {\n",
       "        text-align: right;\n",
       "    }\n",
       "</style>\n",
       "<table border=\"1\" class=\"dataframe\">\n",
       "  <thead>\n",
       "    <tr style=\"text-align: right;\">\n",
       "      <th></th>\n",
       "      <th>Image Name</th>\n",
       "      <th>Image ID</th>\n",
       "      <th>Raw ONS Line and Pack</th>\n",
       "      <th>job_number</th>\n",
       "      <th>upc</th>\n",
       "      <th>upc_10</th>\n",
       "      <th>UPC 10 digit</th>\n",
       "      <th>Product</th>\n",
       "      <th>Dollar Sales</th>\n",
       "      <th>Dollar Sales % Change vs YA</th>\n",
       "      <th>...</th>\n",
       "      <th>Unit Share of Category</th>\n",
       "      <th>Unit Share of Category Year Ago</th>\n",
       "      <th>Unit Share of SubCategory</th>\n",
       "      <th>Unit Share of SubCategory Year Ago</th>\n",
       "      <th>Price per Unit</th>\n",
       "      <th>Price per Unit % Change vs YA</th>\n",
       "      <th>Category Name</th>\n",
       "      <th>Sub-Category Name</th>\n",
       "      <th>Brand Name</th>\n",
       "      <th>REPORT</th>\n",
       "    </tr>\n",
       "  </thead>\n",
       "  <tbody>\n",
       "    <tr>\n",
       "      <th>224</th>\n",
       "      <td>AD445_PACK2.jpg</td>\n",
       "      <td>PACK2</td>\n",
       "      <td>14.0</td>\n",
       "      <td>AD445</td>\n",
       "      <td>22200954419</td>\n",
       "      <td>2220095441</td>\n",
       "      <td>2220095441</td>\n",
       "      <td>MENNEN LADY SPEED STICK INVISIBLE DRY ANTIPERS...</td>\n",
       "      <td>41869.335142</td>\n",
       "      <td>-0.708961</td>\n",
       "      <td>...</td>\n",
       "      <td>0.148267</td>\n",
       "      <td>0.316656</td>\n",
       "      <td>0.148267</td>\n",
       "      <td>0.316656</td>\n",
       "      <td>2.164863</td>\n",
       "      <td>-0.091645</td>\n",
       "      <td>DEODORANT</td>\n",
       "      <td>DEODORANTS</td>\n",
       "      <td>MENNEN LADY SPEED STICK INVISIBLE DRY</td>\n",
       "      <td>103</td>\n",
       "    </tr>\n",
       "  </tbody>\n",
       "</table>\n",
       "<p>1 rows × 22 columns</p>\n",
       "</div>"
      ],
      "text/plain": [
       "          Image Name Image ID  Raw ONS Line and Pack job_number          upc  \\\n",
       "224  AD445_PACK2.jpg    PACK2                   14.0      AD445  22200954419   \n",
       "\n",
       "         upc_10 UPC 10 digit  \\\n",
       "224  2220095441   2220095441   \n",
       "\n",
       "                                               Product  Dollar Sales  \\\n",
       "224  MENNEN LADY SPEED STICK INVISIBLE DRY ANTIPERS...  41869.335142   \n",
       "\n",
       "     Dollar Sales % Change vs YA  ...  Unit Share of Category  \\\n",
       "224                    -0.708961  ...                0.148267   \n",
       "\n",
       "     Unit Share of Category Year Ago  Unit Share of SubCategory  \\\n",
       "224                         0.316656                   0.148267   \n",
       "\n",
       "     Unit Share of SubCategory Year Ago  Price per Unit  \\\n",
       "224                            0.316656        2.164863   \n",
       "\n",
       "     Price per Unit % Change vs YA  Category Name  Sub-Category Name  \\\n",
       "224                      -0.091645      DEODORANT         DEODORANTS   \n",
       "\n",
       "                                Brand Name REPORT  \n",
       "224  MENNEN LADY SPEED STICK INVISIBLE DRY    103  \n",
       "\n",
       "[1 rows x 22 columns]"
      ]
     },
     "execution_count": 42,
     "metadata": {},
     "output_type": "execute_result"
    }
   ],
   "source": [
    "df_.sample(1)"
   ]
  },
  {
   "cell_type": "code",
   "execution_count": 43,
   "metadata": {},
   "outputs": [],
   "source": [
    "# report = processors.sample_behaviorally_reports(doc_1)\n",
    "# report = report.drop(report['Dollar Sales'].idxmax())"
   ]
  },
  {
   "cell_type": "markdown",
   "metadata": {},
   "source": [
    "Here I must discuss one of our foundational decisions for this model.\n",
    "For this data, we're ignoring any temporal effects, largely because we don't really have great insights into the times a particular image was displayed.\n",
    "Given this, here I am going to drop the `\"REPORT\"` column, as that's what provided at least the sequence of the observations.\n",
    "Instead, we are to treat them as independent.   "
   ]
  },
  {
   "cell_type": "code",
   "execution_count": 44,
   "metadata": {},
   "outputs": [],
   "source": [
    "# reports.drop(axis=1, labels='REPORT', inplace=True) \n",
    "# reports.head()"
   ]
  },
  {
   "cell_type": "markdown",
   "metadata": {},
   "source": [
    "### Correlations"
   ]
  },
  {
   "cell_type": "markdown",
   "metadata": {},
   "source": [
    "Now we get to the ultimate question: What are we correlating?\n",
    "\n",
    "> ONS vs. ???\n",
    "\n",
    "Obviously the \"independent\" variable will be the ONS scores, and I believe the \"dependent\" variable will be the the \"Dollar Sales\".\n",
    "I believe the results will need to be aggregated in order to make any sense, seeing as we have multiple variations on sales \n"
   ]
  },
  {
   "cell_type": "markdown",
   "metadata": {},
   "source": [
    "#### Aggregation"
   ]
  },
  {
   "cell_type": "code",
   "execution_count": 45,
   "metadata": {},
   "outputs": [],
   "source": [
    "# reports = processors.behaviorally_reports(doc_1)\n",
    "# reports_agg = reports.groupby('UPC 10 digit')['Dollar Sales'].mean()\n",
    "# reports_agg = reports.groupby('UPC 10 digit').mean()\n",
    "\n",
    "# reports_agg"
   ]
  },
  {
   "cell_type": "markdown",
   "metadata": {},
   "source": [
    "##### ONS Scores"
   ]
  },
  {
   "cell_type": "markdown",
   "metadata": {},
   "source": [
    "Here I am going to get the mean ONS score by item first, as this is the easiest way to look into this."
   ]
  },
  {
   "cell_type": "code",
   "execution_count": 46,
   "metadata": {},
   "outputs": [
    {
     "data": {
      "text/html": [
       "<div>\n",
       "<style scoped>\n",
       "    .dataframe tbody tr th:only-of-type {\n",
       "        vertical-align: middle;\n",
       "    }\n",
       "\n",
       "    .dataframe tbody tr th {\n",
       "        vertical-align: top;\n",
       "    }\n",
       "\n",
       "    .dataframe thead th {\n",
       "        text-align: right;\n",
       "    }\n",
       "</style>\n",
       "<table border=\"1\" class=\"dataframe\">\n",
       "  <thead>\n",
       "    <tr style=\"text-align: right;\">\n",
       "      <th></th>\n",
       "      <th>Image Name</th>\n",
       "      <th>Image ID</th>\n",
       "      <th>Raw ONS Line and Pack</th>\n",
       "      <th>job_number</th>\n",
       "      <th>upc</th>\n",
       "      <th>upc_10</th>\n",
       "      <th>UPC 10 digit</th>\n",
       "      <th>Product</th>\n",
       "      <th>Dollar Sales</th>\n",
       "      <th>Dollar Sales % Change vs YA</th>\n",
       "      <th>...</th>\n",
       "      <th>Unit Share of Category</th>\n",
       "      <th>Unit Share of Category Year Ago</th>\n",
       "      <th>Unit Share of SubCategory</th>\n",
       "      <th>Unit Share of SubCategory Year Ago</th>\n",
       "      <th>Price per Unit</th>\n",
       "      <th>Price per Unit % Change vs YA</th>\n",
       "      <th>Category Name</th>\n",
       "      <th>Sub-Category Name</th>\n",
       "      <th>Brand Name</th>\n",
       "      <th>REPORT</th>\n",
       "    </tr>\n",
       "  </thead>\n",
       "  <tbody>\n",
       "    <tr>\n",
       "      <th>0</th>\n",
       "      <td>AB031_LINE1.jpg</td>\n",
       "      <td>LINE1</td>\n",
       "      <td>42.0</td>\n",
       "      <td>AB031</td>\n",
       "      <td>12000012754</td>\n",
       "      <td>1200001275</td>\n",
       "      <td>1200001275</td>\n",
       "      <td>LIPTON CITRUS GREEN TEA LIQUID PREPARED TEA PL...</td>\n",
       "      <td>637651.530263</td>\n",
       "      <td>-0.00381</td>\n",
       "      <td>...</td>\n",
       "      <td>0.688945</td>\n",
       "      <td>0.679966</td>\n",
       "      <td>1.092425</td>\n",
       "      <td>0.994317</td>\n",
       "      <td>1.614852</td>\n",
       "      <td>0.005614</td>\n",
       "      <td>TEA/COFFEE - READY-TO-DRINK</td>\n",
       "      <td>CANNED AND BOTTLED TEA</td>\n",
       "      <td>LIPTON</td>\n",
       "      <td>103</td>\n",
       "    </tr>\n",
       "    <tr>\n",
       "      <th>1</th>\n",
       "      <td>AB031_LINE2.jpg</td>\n",
       "      <td>LINE2</td>\n",
       "      <td>48.0</td>\n",
       "      <td>AB031</td>\n",
       "      <td>12000012754</td>\n",
       "      <td>1200001275</td>\n",
       "      <td>1200001275</td>\n",
       "      <td>LIPTON CITRUS GREEN TEA LIQUID PREPARED TEA PL...</td>\n",
       "      <td>637651.530263</td>\n",
       "      <td>-0.00381</td>\n",
       "      <td>...</td>\n",
       "      <td>0.688945</td>\n",
       "      <td>0.679966</td>\n",
       "      <td>1.092425</td>\n",
       "      <td>0.994317</td>\n",
       "      <td>1.614852</td>\n",
       "      <td>0.005614</td>\n",
       "      <td>TEA/COFFEE - READY-TO-DRINK</td>\n",
       "      <td>CANNED AND BOTTLED TEA</td>\n",
       "      <td>LIPTON</td>\n",
       "      <td>103</td>\n",
       "    </tr>\n",
       "  </tbody>\n",
       "</table>\n",
       "<p>2 rows × 22 columns</p>\n",
       "</div>"
      ],
      "text/plain": [
       "        Image Name Image ID  Raw ONS Line and Pack job_number          upc  \\\n",
       "0  AB031_LINE1.jpg    LINE1                   42.0      AB031  12000012754   \n",
       "1  AB031_LINE2.jpg    LINE2                   48.0      AB031  12000012754   \n",
       "\n",
       "       upc_10 UPC 10 digit                                            Product  \\\n",
       "0  1200001275   1200001275  LIPTON CITRUS GREEN TEA LIQUID PREPARED TEA PL...   \n",
       "1  1200001275   1200001275  LIPTON CITRUS GREEN TEA LIQUID PREPARED TEA PL...   \n",
       "\n",
       "    Dollar Sales  Dollar Sales % Change vs YA  ...  Unit Share of Category  \\\n",
       "0  637651.530263                     -0.00381  ...                0.688945   \n",
       "1  637651.530263                     -0.00381  ...                0.688945   \n",
       "\n",
       "   Unit Share of Category Year Ago  Unit Share of SubCategory  \\\n",
       "0                         0.679966                   1.092425   \n",
       "1                         0.679966                   1.092425   \n",
       "\n",
       "   Unit Share of SubCategory Year Ago  Price per Unit  \\\n",
       "0                            0.994317        1.614852   \n",
       "1                            0.994317        1.614852   \n",
       "\n",
       "   Price per Unit % Change vs YA                Category Name  \\\n",
       "0                       0.005614  TEA/COFFEE - READY-TO-DRINK   \n",
       "1                       0.005614  TEA/COFFEE - READY-TO-DRINK   \n",
       "\n",
       "        Sub-Category Name Brand Name REPORT  \n",
       "0  CANNED AND BOTTLED TEA     LIPTON    103  \n",
       "1  CANNED AND BOTTLED TEA     LIPTON    103  \n",
       "\n",
       "[2 rows x 22 columns]"
      ]
     },
     "execution_count": 46,
     "metadata": {},
     "output_type": "execute_result"
    }
   ],
   "source": [
    "df_.head(2)"
   ]
  },
  {
   "cell_type": "markdown",
   "metadata": {},
   "source": [
    "I'm kind of just taking a stab here..."
   ]
  },
  {
   "cell_type": "markdown",
   "metadata": {},
   "source": [
    "#### Main Plotting Loop\n",
    "\n",
    "The first thing I'm going to do is go across all of the reports."
   ]
  },
  {
   "cell_type": "code",
   "execution_count": 47,
   "metadata": {},
   "outputs": [
    {
     "data": {
      "application/vnd.jupyter.widget-view+json": {
       "model_id": "48ffb82970be4d25a91ffacf0d6a9f13",
       "version_major": 2,
       "version_minor": 0
      },
      "text/plain": [
       "  0%|          | 0/156 [00:00<?, ?it/s]"
      ]
     },
     "metadata": {},
     "output_type": "display_data"
    },
    {
     "data": {
      "text/plain": [
       "<Figure size 432x288 with 0 Axes>"
      ]
     },
     "metadata": {},
     "output_type": "display_data"
    }
   ],
   "source": [
    "reports = processors.behaviorally_reports(doc_1, as_dicts=True)  # TODO fix this name, 'as_dicts' makes no sense \n",
    "\n",
    "# sneak sneak\n",
    "# reports = [processors.behaviorally_reports(doc_1)]  # HACK just so I can also get the \"totals\" as well\n",
    "\n",
    "OUTPUT_DIR = \"/Users/chrismessier/work/behaviorally/outputs\"\n",
    "\n",
    "OVERWRITE = False\n",
    "\n",
    "\n",
    "corr_coefs = []  # dist across all relations\n",
    "\n",
    "corr_coefs = defaultdict(list)\n",
    "\n",
    "frmt = lambda s: '-'.join(s.upper().split()).replace('%', 'PCT')\n",
    "\n",
    "\n",
    "pbar = tqdm(enumerate(reports, start=1), total=len(reports))  # HACK using their own report-numbering scheme against them!\n",
    "\n",
    "all_dfs = []\n",
    "\n",
    "\n",
    "for i, report in pbar:  \n",
    "    df_ = df.merge(report, how='left', on='UPC 10 digit')\n",
    "    df_ = df_.infer_objects()  # this here attempts to coerce objects to floats, leaving the strings untouched.\n",
    "    results_agg = df_.groupby('job_number').mean()\n",
    "\n",
    "    all_dfs.append(df_)\n",
    "\n",
    "    x, *columns = results_agg.columns\n",
    "\n",
    "    for c in columns:\n",
    "        \n",
    "        ro = results_agg[x].corr(results_agg[c])  # NOTE I believe this is returning a null-value, so need to dig into this more.\n",
    "        title = f\"Report ${i}$\\n{x} vs. {c}\\n$R={ro:.3f}$\"\n",
    "\n",
    "        image_name = f\"{i}_{frmt(x)}_v_{frmt(c)}.png\"\n",
    "\n",
    "        save_dir = os.path.join(OUTPUT_DIR, 'reports', f'report_{i}')\n",
    "\n",
    "        os.makedirs(save_dir, exist_ok=True)\n",
    "\n",
    "        output_path = os.path.join(save_dir, image_name)\n",
    "\n",
    "        if not os.path.exists(output_path) or OVERWRITE:\n",
    "\n",
    "            plt.title(title)\n",
    "            plt.scatter(results_agg[x], results_agg[c])\n",
    "            plt.xlabel(x)\n",
    "            plt.xlim((0, 100))\n",
    "            plt.ylabel(c)\n",
    "            plt.tight_layout()\n",
    "            # plt.show()\n",
    "\n",
    "            plt.savefig(output_path)\n",
    "\n",
    "            plt.clf()  # clear canvas for reuse\n",
    "\n",
    "        corr_coefs[i].append(ro)\n"
   ]
  },
  {
   "cell_type": "code",
   "execution_count": 48,
   "metadata": {},
   "outputs": [],
   "source": [
    "DF = pd.concat(all_dfs)"
   ]
  },
  {
   "cell_type": "markdown",
   "metadata": {},
   "source": [
    "Now to super charge it:"
   ]
  },
  {
   "cell_type": "markdown",
   "metadata": {},
   "source": [
    "#### Distribution of Correlation Coefficients"
   ]
  },
  {
   "cell_type": "markdown",
   "metadata": {},
   "source": [
    "Looking now across all of the correlation coefs:"
   ]
  },
  {
   "cell_type": "code",
   "execution_count": 62,
   "metadata": {},
   "outputs": [
    {
     "data": {
      "application/vnd.jupyter.widget-view+json": {
       "model_id": "6a196a36a6c84b0eb76906f87889bd81",
       "version_major": 2,
       "version_minor": 0
      },
      "text/plain": [
       "  0%|          | 0/156 [00:00<?, ?it/s]"
      ]
     },
     "metadata": {},
     "output_type": "display_data"
    }
   ],
   "source": [
    "import tools.plotting  # went ahead and moved the plotting func here\n",
    "\n",
    "\n",
    "all_coefs = []\n",
    "\n",
    "l = list(corr_coefs.items())\n",
    "\n",
    "pbar = tqdm(l)\n",
    "\n",
    "for (k, v) in pbar:\n",
    "    _ = tools.plotting.coef_dist_plot(v, tag=str(k))  # HACK because k is coming in as an int\n",
    "    for x in v:\n",
    "        all_coefs.append(x)\n",
    "\n",
    "tools.plotting.coef_dist_plot(all_coefs)"
   ]
  },
  {
   "cell_type": "code",
   "execution_count": null,
   "metadata": {},
   "outputs": [],
   "source": [
    "sns.displot()"
   ]
  },
  {
   "cell_type": "code",
   "execution_count": 67,
   "metadata": {},
   "outputs": [
    {
     "data": {
      "text/plain": [
       "array([-0.11662538])"
      ]
     },
     "execution_count": 67,
     "metadata": {},
     "output_type": "execute_result"
    }
   ],
   "source": []
  },
  {
   "cell_type": "code",
   "execution_count": 71,
   "metadata": {},
   "outputs": [
    {
     "data": {
      "image/png": "[encoded data removed]",
      "text/plain": [
       "<Figure size 432x288 with 1 Axes>"
      ]
     },
     "metadata": {},
     "output_type": "display_data"
    }
   ],
   "source": [
    "import scipy\n",
    "\n",
    "ks = []\n",
    "vs = []\n",
    "\n",
    "for k, v in corr_coefs.items():\n",
    "    ks.append(k)\n",
    "    vs.append(scipy.stats.mode(v).mode[0])\n",
    "\n",
    "plt.scatter(ks, vs)\n",
    "plt.title('Mode Value Across Reports')\n",
    "plt.xlabel('Weekly Reports')\n",
    "plt.savefig('outputs/analysis/modes.png')"
   ]
  },
  {
   "cell_type": "markdown",
   "metadata": {},
   "source": [
    "### Tuesday, April 26th"
   ]
  },
  {
   "cell_type": "markdown",
   "metadata": {},
   "source": [
    "Understanding the data better will require looking into the conditional distributions of the correlations coefficients.\n",
    "As in, what is the difference in the distributions of the coefficients between different products, product categories, sub categories, or between pack/line images. Really, any other way to subdivide the data should be explored.\n",
    "\n",
    "Normalize `\"Dollar Sales\"` by sampling for a specific product across periods.\n",
    "\n",
    "It would be good to see these correlation plots by product."
   ]
  },
  {
   "cell_type": "code",
   "execution_count": 50,
   "metadata": {},
   "outputs": [
    {
     "data": {
      "text/html": [
       "<div>\n",
       "<style scoped>\n",
       "    .dataframe tbody tr th:only-of-type {\n",
       "        vertical-align: middle;\n",
       "    }\n",
       "\n",
       "    .dataframe tbody tr th {\n",
       "        vertical-align: top;\n",
       "    }\n",
       "\n",
       "    .dataframe thead th {\n",
       "        text-align: right;\n",
       "    }\n",
       "</style>\n",
       "<table border=\"1\" class=\"dataframe\">\n",
       "  <thead>\n",
       "    <tr style=\"text-align: right;\">\n",
       "      <th></th>\n",
       "      <th>Image Name</th>\n",
       "      <th>Image ID</th>\n",
       "      <th>Raw ONS Line and Pack</th>\n",
       "      <th>job_number</th>\n",
       "      <th>upc</th>\n",
       "      <th>upc_10</th>\n",
       "      <th>UPC 10 digit</th>\n",
       "      <th>Product</th>\n",
       "      <th>Dollar Sales</th>\n",
       "      <th>Dollar Sales % Change vs YA</th>\n",
       "      <th>...</th>\n",
       "      <th>Unit Share of Category</th>\n",
       "      <th>Unit Share of Category Year Ago</th>\n",
       "      <th>Unit Share of SubCategory</th>\n",
       "      <th>Unit Share of SubCategory Year Ago</th>\n",
       "      <th>Price per Unit</th>\n",
       "      <th>Price per Unit % Change vs YA</th>\n",
       "      <th>Category Name</th>\n",
       "      <th>Sub-Category Name</th>\n",
       "      <th>Brand Name</th>\n",
       "      <th>REPORT</th>\n",
       "    </tr>\n",
       "  </thead>\n",
       "  <tbody>\n",
       "    <tr>\n",
       "      <th>0</th>\n",
       "      <td>AB031_LINE1.jpg</td>\n",
       "      <td>LINE1</td>\n",
       "      <td>42.0</td>\n",
       "      <td>AB031</td>\n",
       "      <td>12000012754</td>\n",
       "      <td>1200001275</td>\n",
       "      <td>1200001275</td>\n",
       "      <td>LIPTON CITRUS GREEN TEA LIQUID PREPARED TEA PL...</td>\n",
       "      <td>559818.372886</td>\n",
       "      <td>-0.129208</td>\n",
       "      <td>...</td>\n",
       "      <td>0.634297</td>\n",
       "      <td>0.687771</td>\n",
       "      <td>1.023347</td>\n",
       "      <td>1.11394</td>\n",
       "      <td>1.688259</td>\n",
       "      <td>0.044037</td>\n",
       "      <td>TEA/COFFEE - READY-TO-DRINK</td>\n",
       "      <td>CANNED AND BOTTLED TEA</td>\n",
       "      <td>LIPTON</td>\n",
       "      <td>156</td>\n",
       "    </tr>\n",
       "    <tr>\n",
       "      <th>1</th>\n",
       "      <td>AB031_LINE2.jpg</td>\n",
       "      <td>LINE2</td>\n",
       "      <td>48.0</td>\n",
       "      <td>AB031</td>\n",
       "      <td>12000012754</td>\n",
       "      <td>1200001275</td>\n",
       "      <td>1200001275</td>\n",
       "      <td>LIPTON CITRUS GREEN TEA LIQUID PREPARED TEA PL...</td>\n",
       "      <td>559818.372886</td>\n",
       "      <td>-0.129208</td>\n",
       "      <td>...</td>\n",
       "      <td>0.634297</td>\n",
       "      <td>0.687771</td>\n",
       "      <td>1.023347</td>\n",
       "      <td>1.11394</td>\n",
       "      <td>1.688259</td>\n",
       "      <td>0.044037</td>\n",
       "      <td>TEA/COFFEE - READY-TO-DRINK</td>\n",
       "      <td>CANNED AND BOTTLED TEA</td>\n",
       "      <td>LIPTON</td>\n",
       "      <td>156</td>\n",
       "    </tr>\n",
       "    <tr>\n",
       "      <th>2</th>\n",
       "      <td>AB031_LINE3.jpg</td>\n",
       "      <td>LINE3</td>\n",
       "      <td>42.0</td>\n",
       "      <td>AB031</td>\n",
       "      <td>12000012754</td>\n",
       "      <td>1200001275</td>\n",
       "      <td>1200001275</td>\n",
       "      <td>LIPTON CITRUS GREEN TEA LIQUID PREPARED TEA PL...</td>\n",
       "      <td>559818.372886</td>\n",
       "      <td>-0.129208</td>\n",
       "      <td>...</td>\n",
       "      <td>0.634297</td>\n",
       "      <td>0.687771</td>\n",
       "      <td>1.023347</td>\n",
       "      <td>1.11394</td>\n",
       "      <td>1.688259</td>\n",
       "      <td>0.044037</td>\n",
       "      <td>TEA/COFFEE - READY-TO-DRINK</td>\n",
       "      <td>CANNED AND BOTTLED TEA</td>\n",
       "      <td>LIPTON</td>\n",
       "      <td>156</td>\n",
       "    </tr>\n",
       "    <tr>\n",
       "      <th>3</th>\n",
       "      <td>AB031_LINE4.jpg</td>\n",
       "      <td>LINE4</td>\n",
       "      <td>40.0</td>\n",
       "      <td>AB031</td>\n",
       "      <td>12000012754</td>\n",
       "      <td>1200001275</td>\n",
       "      <td>1200001275</td>\n",
       "      <td>LIPTON CITRUS GREEN TEA LIQUID PREPARED TEA PL...</td>\n",
       "      <td>559818.372886</td>\n",
       "      <td>-0.129208</td>\n",
       "      <td>...</td>\n",
       "      <td>0.634297</td>\n",
       "      <td>0.687771</td>\n",
       "      <td>1.023347</td>\n",
       "      <td>1.11394</td>\n",
       "      <td>1.688259</td>\n",
       "      <td>0.044037</td>\n",
       "      <td>TEA/COFFEE - READY-TO-DRINK</td>\n",
       "      <td>CANNED AND BOTTLED TEA</td>\n",
       "      <td>LIPTON</td>\n",
       "      <td>156</td>\n",
       "    </tr>\n",
       "    <tr>\n",
       "      <th>4</th>\n",
       "      <td>AB111_LINE1.jpg</td>\n",
       "      <td>LINE1</td>\n",
       "      <td>45.0</td>\n",
       "      <td>AB111</td>\n",
       "      <td>70462035964</td>\n",
       "      <td>0462035964</td>\n",
       "      <td>0462035964</td>\n",
       "      <td>SOUR PATCH KIDS ASSORTED SOUR CHEWY CANDY PIEC...</td>\n",
       "      <td>NaN</td>\n",
       "      <td>NaN</td>\n",
       "      <td>...</td>\n",
       "      <td>NaN</td>\n",
       "      <td>NaN</td>\n",
       "      <td>NaN</td>\n",
       "      <td>NaN</td>\n",
       "      <td>NaN</td>\n",
       "      <td>NaN</td>\n",
       "      <td>NON-CHOCOLATE CANDY</td>\n",
       "      <td>NON CHOCOLATE CHEWY CANDY</td>\n",
       "      <td>SOUR PATCH KIDS</td>\n",
       "      <td>156</td>\n",
       "    </tr>\n",
       "  </tbody>\n",
       "</table>\n",
       "<p>5 rows × 22 columns</p>\n",
       "</div>"
      ],
      "text/plain": [
       "        Image Name Image ID  Raw ONS Line and Pack job_number          upc  \\\n",
       "0  AB031_LINE1.jpg    LINE1                   42.0      AB031  12000012754   \n",
       "1  AB031_LINE2.jpg    LINE2                   48.0      AB031  12000012754   \n",
       "2  AB031_LINE3.jpg    LINE3                   42.0      AB031  12000012754   \n",
       "3  AB031_LINE4.jpg    LINE4                   40.0      AB031  12000012754   \n",
       "4  AB111_LINE1.jpg    LINE1                   45.0      AB111  70462035964   \n",
       "\n",
       "       upc_10 UPC 10 digit                                            Product  \\\n",
       "0  1200001275   1200001275  LIPTON CITRUS GREEN TEA LIQUID PREPARED TEA PL...   \n",
       "1  1200001275   1200001275  LIPTON CITRUS GREEN TEA LIQUID PREPARED TEA PL...   \n",
       "2  1200001275   1200001275  LIPTON CITRUS GREEN TEA LIQUID PREPARED TEA PL...   \n",
       "3  1200001275   1200001275  LIPTON CITRUS GREEN TEA LIQUID PREPARED TEA PL...   \n",
       "4  0462035964   0462035964  SOUR PATCH KIDS ASSORTED SOUR CHEWY CANDY PIEC...   \n",
       "\n",
       "    Dollar Sales  Dollar Sales % Change vs YA  ...  Unit Share of Category  \\\n",
       "0  559818.372886                    -0.129208  ...                0.634297   \n",
       "1  559818.372886                    -0.129208  ...                0.634297   \n",
       "2  559818.372886                    -0.129208  ...                0.634297   \n",
       "3  559818.372886                    -0.129208  ...                0.634297   \n",
       "4            NaN                          NaN  ...                     NaN   \n",
       "\n",
       "   Unit Share of Category Year Ago  Unit Share of SubCategory  \\\n",
       "0                         0.687771                   1.023347   \n",
       "1                         0.687771                   1.023347   \n",
       "2                         0.687771                   1.023347   \n",
       "3                         0.687771                   1.023347   \n",
       "4                              NaN                        NaN   \n",
       "\n",
       "   Unit Share of SubCategory Year Ago  Price per Unit  \\\n",
       "0                             1.11394        1.688259   \n",
       "1                             1.11394        1.688259   \n",
       "2                             1.11394        1.688259   \n",
       "3                             1.11394        1.688259   \n",
       "4                                 NaN             NaN   \n",
       "\n",
       "   Price per Unit % Change vs YA                Category Name  \\\n",
       "0                       0.044037  TEA/COFFEE - READY-TO-DRINK   \n",
       "1                       0.044037  TEA/COFFEE - READY-TO-DRINK   \n",
       "2                       0.044037  TEA/COFFEE - READY-TO-DRINK   \n",
       "3                       0.044037  TEA/COFFEE - READY-TO-DRINK   \n",
       "4                            NaN          NON-CHOCOLATE CANDY   \n",
       "\n",
       "           Sub-Category Name       Brand Name REPORT  \n",
       "0     CANNED AND BOTTLED TEA           LIPTON    156  \n",
       "1     CANNED AND BOTTLED TEA           LIPTON    156  \n",
       "2     CANNED AND BOTTLED TEA           LIPTON    156  \n",
       "3     CANNED AND BOTTLED TEA           LIPTON    156  \n",
       "4  NON CHOCOLATE CHEWY CANDY  SOUR PATCH KIDS    156  \n",
       "\n",
       "[5 rows x 22 columns]"
      ]
     },
     "execution_count": 50,
     "metadata": {},
     "output_type": "execute_result"
    }
   ],
   "source": [
    "df_.head()"
   ]
  },
  {
   "cell_type": "code",
   "execution_count": null,
   "metadata": {},
   "outputs": [],
   "source": []
  },
  {
   "cell_type": "code",
   "execution_count": 51,
   "metadata": {},
   "outputs": [
    {
     "data": {
      "image/png": "[encoded data removed]",
      "text/plain": [
       "<Figure size 432x288 with 1 Axes>"
      ]
     },
     "metadata": {},
     "output_type": "display_data"
    }
   ],
   "source": [
    "x_col = 'Raw ONS Line and Pack'\n",
    "\n",
    "for upc in df_['upc'].unique():\n",
    "    df__ = df_.loc[df_['upc'] == upc, :]\n",
    "\n",
    "\n",
    "    plt.title(f\"Product UPC: {upc}\")\n",
    "    plt.xlabel('Raw ONS Line and Pack')\n",
    "    plt.ylabel('Dollar Sales')\n",
    "    plt.scatter(df__[x_col], df__['Dollar Sales'])\n",
    "    plt.xlim((0, 100))\n",
    "    plt.show() \n",
    "    break"
   ]
  },
  {
   "cell_type": "code",
   "execution_count": 52,
   "metadata": {},
   "outputs": [
    {
     "data": {
      "text/plain": [
       "(352, 7)"
      ]
     },
     "execution_count": 52,
     "metadata": {},
     "output_type": "execute_result"
    }
   ],
   "source": [
    "df.shape"
   ]
  },
  {
   "cell_type": "code",
   "execution_count": 53,
   "metadata": {},
   "outputs": [
    {
     "data": {
      "text/html": [
       "<div>\n",
       "<style scoped>\n",
       "    .dataframe tbody tr th:only-of-type {\n",
       "        vertical-align: middle;\n",
       "    }\n",
       "\n",
       "    .dataframe tbody tr th {\n",
       "        vertical-align: top;\n",
       "    }\n",
       "\n",
       "    .dataframe thead th {\n",
       "        text-align: right;\n",
       "    }\n",
       "</style>\n",
       "<table border=\"1\" class=\"dataframe\">\n",
       "  <thead>\n",
       "    <tr style=\"text-align: right;\">\n",
       "      <th></th>\n",
       "      <th>Image Name</th>\n",
       "      <th>Image ID</th>\n",
       "      <th>Raw ONS Line and Pack</th>\n",
       "      <th>job_number</th>\n",
       "      <th>upc</th>\n",
       "      <th>upc_10</th>\n",
       "      <th>UPC 10 digit</th>\n",
       "      <th>Product</th>\n",
       "      <th>Dollar Sales</th>\n",
       "      <th>Dollar Sales % Change vs YA</th>\n",
       "      <th>...</th>\n",
       "      <th>Unit Share of Category</th>\n",
       "      <th>Unit Share of Category Year Ago</th>\n",
       "      <th>Unit Share of SubCategory</th>\n",
       "      <th>Unit Share of SubCategory Year Ago</th>\n",
       "      <th>Price per Unit</th>\n",
       "      <th>Price per Unit % Change vs YA</th>\n",
       "      <th>Category Name</th>\n",
       "      <th>Sub-Category Name</th>\n",
       "      <th>Brand Name</th>\n",
       "      <th>REPORT</th>\n",
       "    </tr>\n",
       "  </thead>\n",
       "  <tbody>\n",
       "    <tr>\n",
       "      <th>count</th>\n",
       "      <td>358</td>\n",
       "      <td>358</td>\n",
       "      <td>358.000000</td>\n",
       "      <td>358</td>\n",
       "      <td>358</td>\n",
       "      <td>318</td>\n",
       "      <td>318</td>\n",
       "      <td>318</td>\n",
       "      <td>2.760000e+02</td>\n",
       "      <td>276.000000</td>\n",
       "      <td>...</td>\n",
       "      <td>276.000000</td>\n",
       "      <td>276.000000</td>\n",
       "      <td>276.000000</td>\n",
       "      <td>276.000000</td>\n",
       "      <td>276.000000</td>\n",
       "      <td>276.000000</td>\n",
       "      <td>318</td>\n",
       "      <td>318</td>\n",
       "      <td>318</td>\n",
       "      <td>318</td>\n",
       "    </tr>\n",
       "    <tr>\n",
       "      <th>unique</th>\n",
       "      <td>352</td>\n",
       "      <td>56</td>\n",
       "      <td>NaN</td>\n",
       "      <td>50</td>\n",
       "      <td>50</td>\n",
       "      <td>41</td>\n",
       "      <td>41</td>\n",
       "      <td>42</td>\n",
       "      <td>NaN</td>\n",
       "      <td>NaN</td>\n",
       "      <td>...</td>\n",
       "      <td>NaN</td>\n",
       "      <td>NaN</td>\n",
       "      <td>NaN</td>\n",
       "      <td>NaN</td>\n",
       "      <td>NaN</td>\n",
       "      <td>NaN</td>\n",
       "      <td>37</td>\n",
       "      <td>39</td>\n",
       "      <td>41</td>\n",
       "      <td>1</td>\n",
       "    </tr>\n",
       "    <tr>\n",
       "      <th>top</th>\n",
       "      <td>AD216_PACK3.jpg</td>\n",
       "      <td>LINE1</td>\n",
       "      <td>NaN</td>\n",
       "      <td>AD324</td>\n",
       "      <td>300672039248</td>\n",
       "      <td>0067203924</td>\n",
       "      <td>0067203924</td>\n",
       "      <td>EXCEDRIN MIGRAINE ACETMPHEN/ASPIRIN EXTRA STRE...</td>\n",
       "      <td>NaN</td>\n",
       "      <td>NaN</td>\n",
       "      <td>...</td>\n",
       "      <td>NaN</td>\n",
       "      <td>NaN</td>\n",
       "      <td>NaN</td>\n",
       "      <td>NaN</td>\n",
       "      <td>NaN</td>\n",
       "      <td>NaN</td>\n",
       "      <td>FOOD &amp; TRASH BAGS</td>\n",
       "      <td>ADULT INTERNAL ANALGESICS</td>\n",
       "      <td>EXCEDRIN MIGRAINE</td>\n",
       "      <td>156</td>\n",
       "    </tr>\n",
       "    <tr>\n",
       "      <th>freq</th>\n",
       "      <td>2</td>\n",
       "      <td>38</td>\n",
       "      <td>NaN</td>\n",
       "      <td>18</td>\n",
       "      <td>18</td>\n",
       "      <td>18</td>\n",
       "      <td>18</td>\n",
       "      <td>18</td>\n",
       "      <td>NaN</td>\n",
       "      <td>NaN</td>\n",
       "      <td>...</td>\n",
       "      <td>NaN</td>\n",
       "      <td>NaN</td>\n",
       "      <td>NaN</td>\n",
       "      <td>NaN</td>\n",
       "      <td>NaN</td>\n",
       "      <td>NaN</td>\n",
       "      <td>18</td>\n",
       "      <td>18</td>\n",
       "      <td>18</td>\n",
       "      <td>318</td>\n",
       "    </tr>\n",
       "    <tr>\n",
       "      <th>mean</th>\n",
       "      <td>NaN</td>\n",
       "      <td>NaN</td>\n",
       "      <td>45.667598</td>\n",
       "      <td>NaN</td>\n",
       "      <td>NaN</td>\n",
       "      <td>NaN</td>\n",
       "      <td>NaN</td>\n",
       "      <td>NaN</td>\n",
       "      <td>5.752580e+05</td>\n",
       "      <td>1.993625</td>\n",
       "      <td>...</td>\n",
       "      <td>0.819157</td>\n",
       "      <td>0.822572</td>\n",
       "      <td>2.284151</td>\n",
       "      <td>2.299381</td>\n",
       "      <td>6.474707</td>\n",
       "      <td>0.114153</td>\n",
       "      <td>NaN</td>\n",
       "      <td>NaN</td>\n",
       "      <td>NaN</td>\n",
       "      <td>NaN</td>\n",
       "    </tr>\n",
       "    <tr>\n",
       "      <th>std</th>\n",
       "      <td>NaN</td>\n",
       "      <td>NaN</td>\n",
       "      <td>24.798654</td>\n",
       "      <td>NaN</td>\n",
       "      <td>NaN</td>\n",
       "      <td>NaN</td>\n",
       "      <td>NaN</td>\n",
       "      <td>NaN</td>\n",
       "      <td>6.902461e+05</td>\n",
       "      <td>16.746749</td>\n",
       "      <td>...</td>\n",
       "      <td>2.197396</td>\n",
       "      <td>2.098864</td>\n",
       "      <td>5.195900</td>\n",
       "      <td>5.117805</td>\n",
       "      <td>4.021096</td>\n",
       "      <td>0.165332</td>\n",
       "      <td>NaN</td>\n",
       "      <td>NaN</td>\n",
       "      <td>NaN</td>\n",
       "      <td>NaN</td>\n",
       "    </tr>\n",
       "    <tr>\n",
       "      <th>min</th>\n",
       "      <td>NaN</td>\n",
       "      <td>NaN</td>\n",
       "      <td>1.000000</td>\n",
       "      <td>NaN</td>\n",
       "      <td>NaN</td>\n",
       "      <td>NaN</td>\n",
       "      <td>NaN</td>\n",
       "      <td>NaN</td>\n",
       "      <td>3.399497e+01</td>\n",
       "      <td>-0.999605</td>\n",
       "      <td>...</td>\n",
       "      <td>0.000018</td>\n",
       "      <td>0.000053</td>\n",
       "      <td>0.000023</td>\n",
       "      <td>0.000073</td>\n",
       "      <td>1.195454</td>\n",
       "      <td>-0.258934</td>\n",
       "      <td>NaN</td>\n",
       "      <td>NaN</td>\n",
       "      <td>NaN</td>\n",
       "      <td>NaN</td>\n",
       "    </tr>\n",
       "    <tr>\n",
       "      <th>25%</th>\n",
       "      <td>NaN</td>\n",
       "      <td>NaN</td>\n",
       "      <td>22.000000</td>\n",
       "      <td>NaN</td>\n",
       "      <td>NaN</td>\n",
       "      <td>NaN</td>\n",
       "      <td>NaN</td>\n",
       "      <td>NaN</td>\n",
       "      <td>9.782403e+04</td>\n",
       "      <td>-0.203306</td>\n",
       "      <td>...</td>\n",
       "      <td>0.065237</td>\n",
       "      <td>0.065243</td>\n",
       "      <td>0.154082</td>\n",
       "      <td>0.130703</td>\n",
       "      <td>3.496861</td>\n",
       "      <td>0.024476</td>\n",
       "      <td>NaN</td>\n",
       "      <td>NaN</td>\n",
       "      <td>NaN</td>\n",
       "      <td>NaN</td>\n",
       "    </tr>\n",
       "    <tr>\n",
       "      <th>50%</th>\n",
       "      <td>NaN</td>\n",
       "      <td>NaN</td>\n",
       "      <td>45.000000</td>\n",
       "      <td>NaN</td>\n",
       "      <td>NaN</td>\n",
       "      <td>NaN</td>\n",
       "      <td>NaN</td>\n",
       "      <td>NaN</td>\n",
       "      <td>2.520924e+05</td>\n",
       "      <td>-0.050232</td>\n",
       "      <td>...</td>\n",
       "      <td>0.240828</td>\n",
       "      <td>0.187252</td>\n",
       "      <td>0.549024</td>\n",
       "      <td>0.487925</td>\n",
       "      <td>5.412488</td>\n",
       "      <td>0.088287</td>\n",
       "      <td>NaN</td>\n",
       "      <td>NaN</td>\n",
       "      <td>NaN</td>\n",
       "      <td>NaN</td>\n",
       "    </tr>\n",
       "    <tr>\n",
       "      <th>75%</th>\n",
       "      <td>NaN</td>\n",
       "      <td>NaN</td>\n",
       "      <td>70.000000</td>\n",
       "      <td>NaN</td>\n",
       "      <td>NaN</td>\n",
       "      <td>NaN</td>\n",
       "      <td>NaN</td>\n",
       "      <td>NaN</td>\n",
       "      <td>8.510316e+05</td>\n",
       "      <td>0.186942</td>\n",
       "      <td>...</td>\n",
       "      <td>0.583336</td>\n",
       "      <td>0.689523</td>\n",
       "      <td>1.329114</td>\n",
       "      <td>1.698544</td>\n",
       "      <td>7.952598</td>\n",
       "      <td>0.168099</td>\n",
       "      <td>NaN</td>\n",
       "      <td>NaN</td>\n",
       "      <td>NaN</td>\n",
       "      <td>NaN</td>\n",
       "    </tr>\n",
       "    <tr>\n",
       "      <th>max</th>\n",
       "      <td>NaN</td>\n",
       "      <td>NaN</td>\n",
       "      <td>91.000000</td>\n",
       "      <td>NaN</td>\n",
       "      <td>NaN</td>\n",
       "      <td>NaN</td>\n",
       "      <td>NaN</td>\n",
       "      <td>NaN</td>\n",
       "      <td>3.124821e+06</td>\n",
       "      <td>139.781182</td>\n",
       "      <td>...</td>\n",
       "      <td>12.906553</td>\n",
       "      <td>13.451361</td>\n",
       "      <td>22.327696</td>\n",
       "      <td>22.752860</td>\n",
       "      <td>22.005845</td>\n",
       "      <td>0.837162</td>\n",
       "      <td>NaN</td>\n",
       "      <td>NaN</td>\n",
       "      <td>NaN</td>\n",
       "      <td>NaN</td>\n",
       "    </tr>\n",
       "  </tbody>\n",
       "</table>\n",
       "<p>11 rows × 22 columns</p>\n",
       "</div>"
      ],
      "text/plain": [
       "             Image Name Image ID  Raw ONS Line and Pack job_number  \\\n",
       "count               358      358             358.000000        358   \n",
       "unique              352       56                    NaN         50   \n",
       "top     AD216_PACK3.jpg    LINE1                    NaN      AD324   \n",
       "freq                  2       38                    NaN         18   \n",
       "mean                NaN      NaN              45.667598        NaN   \n",
       "std                 NaN      NaN              24.798654        NaN   \n",
       "min                 NaN      NaN               1.000000        NaN   \n",
       "25%                 NaN      NaN              22.000000        NaN   \n",
       "50%                 NaN      NaN              45.000000        NaN   \n",
       "75%                 NaN      NaN              70.000000        NaN   \n",
       "max                 NaN      NaN              91.000000        NaN   \n",
       "\n",
       "                 upc      upc_10 UPC 10 digit  \\\n",
       "count            358         318          318   \n",
       "unique            50          41           41   \n",
       "top     300672039248  0067203924   0067203924   \n",
       "freq              18          18           18   \n",
       "mean             NaN         NaN          NaN   \n",
       "std              NaN         NaN          NaN   \n",
       "min              NaN         NaN          NaN   \n",
       "25%              NaN         NaN          NaN   \n",
       "50%              NaN         NaN          NaN   \n",
       "75%              NaN         NaN          NaN   \n",
       "max              NaN         NaN          NaN   \n",
       "\n",
       "                                                  Product  Dollar Sales  \\\n",
       "count                                                 318  2.760000e+02   \n",
       "unique                                                 42           NaN   \n",
       "top     EXCEDRIN MIGRAINE ACETMPHEN/ASPIRIN EXTRA STRE...           NaN   \n",
       "freq                                                   18           NaN   \n",
       "mean                                                  NaN  5.752580e+05   \n",
       "std                                                   NaN  6.902461e+05   \n",
       "min                                                   NaN  3.399497e+01   \n",
       "25%                                                   NaN  9.782403e+04   \n",
       "50%                                                   NaN  2.520924e+05   \n",
       "75%                                                   NaN  8.510316e+05   \n",
       "max                                                   NaN  3.124821e+06   \n",
       "\n",
       "        Dollar Sales % Change vs YA  ...  Unit Share of Category  \\\n",
       "count                    276.000000  ...              276.000000   \n",
       "unique                          NaN  ...                     NaN   \n",
       "top                             NaN  ...                     NaN   \n",
       "freq                            NaN  ...                     NaN   \n",
       "mean                       1.993625  ...                0.819157   \n",
       "std                       16.746749  ...                2.197396   \n",
       "min                       -0.999605  ...                0.000018   \n",
       "25%                       -0.203306  ...                0.065237   \n",
       "50%                       -0.050232  ...                0.240828   \n",
       "75%                        0.186942  ...                0.583336   \n",
       "max                      139.781182  ...               12.906553   \n",
       "\n",
       "        Unit Share of Category Year Ago  Unit Share of SubCategory  \\\n",
       "count                        276.000000                 276.000000   \n",
       "unique                              NaN                        NaN   \n",
       "top                                 NaN                        NaN   \n",
       "freq                                NaN                        NaN   \n",
       "mean                           0.822572                   2.284151   \n",
       "std                            2.098864                   5.195900   \n",
       "min                            0.000053                   0.000023   \n",
       "25%                            0.065243                   0.154082   \n",
       "50%                            0.187252                   0.549024   \n",
       "75%                            0.689523                   1.329114   \n",
       "max                           13.451361                  22.327696   \n",
       "\n",
       "        Unit Share of SubCategory Year Ago  Price per Unit  \\\n",
       "count                           276.000000      276.000000   \n",
       "unique                                 NaN             NaN   \n",
       "top                                    NaN             NaN   \n",
       "freq                                   NaN             NaN   \n",
       "mean                              2.299381        6.474707   \n",
       "std                               5.117805        4.021096   \n",
       "min                               0.000073        1.195454   \n",
       "25%                               0.130703        3.496861   \n",
       "50%                               0.487925        5.412488   \n",
       "75%                               1.698544        7.952598   \n",
       "max                              22.752860       22.005845   \n",
       "\n",
       "        Price per Unit % Change vs YA      Category Name  \\\n",
       "count                      276.000000                318   \n",
       "unique                            NaN                 37   \n",
       "top                               NaN  FOOD & TRASH BAGS   \n",
       "freq                              NaN                 18   \n",
       "mean                         0.114153                NaN   \n",
       "std                          0.165332                NaN   \n",
       "min                         -0.258934                NaN   \n",
       "25%                          0.024476                NaN   \n",
       "50%                          0.088287                NaN   \n",
       "75%                          0.168099                NaN   \n",
       "max                          0.837162                NaN   \n",
       "\n",
       "                Sub-Category Name         Brand Name REPORT  \n",
       "count                         318                318    318  \n",
       "unique                         39                 41      1  \n",
       "top     ADULT INTERNAL ANALGESICS  EXCEDRIN MIGRAINE    156  \n",
       "freq                           18                 18    318  \n",
       "mean                          NaN                NaN    NaN  \n",
       "std                           NaN                NaN    NaN  \n",
       "min                           NaN                NaN    NaN  \n",
       "25%                           NaN                NaN    NaN  \n",
       "50%                           NaN                NaN    NaN  \n",
       "75%                           NaN                NaN    NaN  \n",
       "max                           NaN                NaN    NaN  \n",
       "\n",
       "[11 rows x 22 columns]"
      ]
     },
     "execution_count": 53,
     "metadata": {},
     "output_type": "execute_result"
    }
   ],
   "source": [
    "df_.describe(include='all')"
   ]
  },
  {
   "cell_type": "code",
   "execution_count": 54,
   "metadata": {},
   "outputs": [
    {
     "data": {
      "text/plain": [
       "(55848, 22)"
      ]
     },
     "execution_count": 54,
     "metadata": {},
     "output_type": "execute_result"
    }
   ],
   "source": [
    "DF.shape"
   ]
  },
  {
   "cell_type": "code",
   "execution_count": 55,
   "metadata": {},
   "outputs": [],
   "source": [
    "DF.to_csv('data/behaviorally_merged_sales_data.csv')"
   ]
  },
  {
   "cell_type": "code",
   "execution_count": 56,
   "metadata": {},
   "outputs": [
    {
     "data": {
      "text/plain": [
       "Index(['Image Name', 'Image ID', 'Raw ONS Line and Pack', 'job_number', 'upc',\n",
       "       'upc_10', 'UPC 10 digit', 'Product', 'Dollar Sales',\n",
       "       'Dollar Sales % Change vs YA', 'Unit Sales',\n",
       "       'Unit Sales % Change vs YA', 'Unit Share of Category',\n",
       "       'Unit Share of Category Year Ago', 'Unit Share of SubCategory',\n",
       "       'Unit Share of SubCategory Year Ago', 'Price per Unit',\n",
       "       'Price per Unit % Change vs YA', 'Category Name', 'Sub-Category Name',\n",
       "       'Brand Name', 'REPORT'],\n",
       "      dtype='object')"
      ]
     },
     "execution_count": 56,
     "metadata": {},
     "output_type": "execute_result"
    }
   ],
   "source": [
    "DF.columns"
   ]
  },
  {
   "cell_type": "code",
   "execution_count": 57,
   "metadata": {},
   "outputs": [
    {
     "data": {
      "text/html": [
       "<div>\n",
       "<style scoped>\n",
       "    .dataframe tbody tr th:only-of-type {\n",
       "        vertical-align: middle;\n",
       "    }\n",
       "\n",
       "    .dataframe tbody tr th {\n",
       "        vertical-align: top;\n",
       "    }\n",
       "\n",
       "    .dataframe thead th {\n",
       "        text-align: right;\n",
       "    }\n",
       "</style>\n",
       "<table border=\"1\" class=\"dataframe\">\n",
       "  <thead>\n",
       "    <tr style=\"text-align: right;\">\n",
       "      <th></th>\n",
       "      <th>Image Name</th>\n",
       "      <th>Image ID</th>\n",
       "      <th>Raw ONS Line and Pack</th>\n",
       "      <th>job_number</th>\n",
       "      <th>upc</th>\n",
       "      <th>upc_10</th>\n",
       "      <th>UPC 10 digit</th>\n",
       "      <th>Product</th>\n",
       "      <th>Dollar Sales</th>\n",
       "      <th>Dollar Sales % Change vs YA</th>\n",
       "      <th>...</th>\n",
       "      <th>Unit Share of Category</th>\n",
       "      <th>Unit Share of Category Year Ago</th>\n",
       "      <th>Unit Share of SubCategory</th>\n",
       "      <th>Unit Share of SubCategory Year Ago</th>\n",
       "      <th>Price per Unit</th>\n",
       "      <th>Price per Unit % Change vs YA</th>\n",
       "      <th>Category Name</th>\n",
       "      <th>Sub-Category Name</th>\n",
       "      <th>Brand Name</th>\n",
       "      <th>REPORT</th>\n",
       "    </tr>\n",
       "  </thead>\n",
       "  <tbody>\n",
       "    <tr>\n",
       "      <th>0</th>\n",
       "      <td>AB031_LINE1.jpg</td>\n",
       "      <td>LINE1</td>\n",
       "      <td>42.0</td>\n",
       "      <td>AB031</td>\n",
       "      <td>12000012754</td>\n",
       "      <td>1200001275</td>\n",
       "      <td>1200001275</td>\n",
       "      <td>LIPTON CITRUS GREEN TEA LIQUID PREPARED TEA PL...</td>\n",
       "      <td>754888.359249</td>\n",
       "      <td>-0.015202</td>\n",
       "      <td>...</td>\n",
       "      <td>0.835315</td>\n",
       "      <td>0.906572</td>\n",
       "      <td>1.230062</td>\n",
       "      <td>1.303955</td>\n",
       "      <td>1.603665</td>\n",
       "      <td>0.101032</td>\n",
       "      <td>TEA/COFFEE - READY-TO-DRINK</td>\n",
       "      <td>CANNED AND BOTTLED TEA</td>\n",
       "      <td>LIPTON</td>\n",
       "      <td>1</td>\n",
       "    </tr>\n",
       "    <tr>\n",
       "      <th>1</th>\n",
       "      <td>AB031_LINE2.jpg</td>\n",
       "      <td>LINE2</td>\n",
       "      <td>48.0</td>\n",
       "      <td>AB031</td>\n",
       "      <td>12000012754</td>\n",
       "      <td>1200001275</td>\n",
       "      <td>1200001275</td>\n",
       "      <td>LIPTON CITRUS GREEN TEA LIQUID PREPARED TEA PL...</td>\n",
       "      <td>754888.359249</td>\n",
       "      <td>-0.015202</td>\n",
       "      <td>...</td>\n",
       "      <td>0.835315</td>\n",
       "      <td>0.906572</td>\n",
       "      <td>1.230062</td>\n",
       "      <td>1.303955</td>\n",
       "      <td>1.603665</td>\n",
       "      <td>0.101032</td>\n",
       "      <td>TEA/COFFEE - READY-TO-DRINK</td>\n",
       "      <td>CANNED AND BOTTLED TEA</td>\n",
       "      <td>LIPTON</td>\n",
       "      <td>1</td>\n",
       "    </tr>\n",
       "    <tr>\n",
       "      <th>2</th>\n",
       "      <td>AB031_LINE3.jpg</td>\n",
       "      <td>LINE3</td>\n",
       "      <td>42.0</td>\n",
       "      <td>AB031</td>\n",
       "      <td>12000012754</td>\n",
       "      <td>1200001275</td>\n",
       "      <td>1200001275</td>\n",
       "      <td>LIPTON CITRUS GREEN TEA LIQUID PREPARED TEA PL...</td>\n",
       "      <td>754888.359249</td>\n",
       "      <td>-0.015202</td>\n",
       "      <td>...</td>\n",
       "      <td>0.835315</td>\n",
       "      <td>0.906572</td>\n",
       "      <td>1.230062</td>\n",
       "      <td>1.303955</td>\n",
       "      <td>1.603665</td>\n",
       "      <td>0.101032</td>\n",
       "      <td>TEA/COFFEE - READY-TO-DRINK</td>\n",
       "      <td>CANNED AND BOTTLED TEA</td>\n",
       "      <td>LIPTON</td>\n",
       "      <td>1</td>\n",
       "    </tr>\n",
       "    <tr>\n",
       "      <th>3</th>\n",
       "      <td>AB031_LINE4.jpg</td>\n",
       "      <td>LINE4</td>\n",
       "      <td>40.0</td>\n",
       "      <td>AB031</td>\n",
       "      <td>12000012754</td>\n",
       "      <td>1200001275</td>\n",
       "      <td>1200001275</td>\n",
       "      <td>LIPTON CITRUS GREEN TEA LIQUID PREPARED TEA PL...</td>\n",
       "      <td>754888.359249</td>\n",
       "      <td>-0.015202</td>\n",
       "      <td>...</td>\n",
       "      <td>0.835315</td>\n",
       "      <td>0.906572</td>\n",
       "      <td>1.230062</td>\n",
       "      <td>1.303955</td>\n",
       "      <td>1.603665</td>\n",
       "      <td>0.101032</td>\n",
       "      <td>TEA/COFFEE - READY-TO-DRINK</td>\n",
       "      <td>CANNED AND BOTTLED TEA</td>\n",
       "      <td>LIPTON</td>\n",
       "      <td>1</td>\n",
       "    </tr>\n",
       "    <tr>\n",
       "      <th>4</th>\n",
       "      <td>AB111_LINE1.jpg</td>\n",
       "      <td>LINE1</td>\n",
       "      <td>45.0</td>\n",
       "      <td>AB111</td>\n",
       "      <td>70462035964</td>\n",
       "      <td>0462035964</td>\n",
       "      <td>0462035964</td>\n",
       "      <td>SOUR PATCH KIDS ASSORTED SOUR CHEWY CANDY PIEC...</td>\n",
       "      <td>NaN</td>\n",
       "      <td>NaN</td>\n",
       "      <td>...</td>\n",
       "      <td>NaN</td>\n",
       "      <td>NaN</td>\n",
       "      <td>NaN</td>\n",
       "      <td>NaN</td>\n",
       "      <td>NaN</td>\n",
       "      <td>NaN</td>\n",
       "      <td>NON-CHOCOLATE CANDY</td>\n",
       "      <td>NON CHOCOLATE CHEWY CANDY</td>\n",
       "      <td>SOUR PATCH KIDS</td>\n",
       "      <td>1</td>\n",
       "    </tr>\n",
       "  </tbody>\n",
       "</table>\n",
       "<p>5 rows × 22 columns</p>\n",
       "</div>"
      ],
      "text/plain": [
       "        Image Name Image ID  Raw ONS Line and Pack job_number          upc  \\\n",
       "0  AB031_LINE1.jpg    LINE1                   42.0      AB031  12000012754   \n",
       "1  AB031_LINE2.jpg    LINE2                   48.0      AB031  12000012754   \n",
       "2  AB031_LINE3.jpg    LINE3                   42.0      AB031  12000012754   \n",
       "3  AB031_LINE4.jpg    LINE4                   40.0      AB031  12000012754   \n",
       "4  AB111_LINE1.jpg    LINE1                   45.0      AB111  70462035964   \n",
       "\n",
       "       upc_10 UPC 10 digit                                            Product  \\\n",
       "0  1200001275   1200001275  LIPTON CITRUS GREEN TEA LIQUID PREPARED TEA PL...   \n",
       "1  1200001275   1200001275  LIPTON CITRUS GREEN TEA LIQUID PREPARED TEA PL...   \n",
       "2  1200001275   1200001275  LIPTON CITRUS GREEN TEA LIQUID PREPARED TEA PL...   \n",
       "3  1200001275   1200001275  LIPTON CITRUS GREEN TEA LIQUID PREPARED TEA PL...   \n",
       "4  0462035964   0462035964  SOUR PATCH KIDS ASSORTED SOUR CHEWY CANDY PIEC...   \n",
       "\n",
       "    Dollar Sales  Dollar Sales % Change vs YA  ...  Unit Share of Category  \\\n",
       "0  754888.359249                    -0.015202  ...                0.835315   \n",
       "1  754888.359249                    -0.015202  ...                0.835315   \n",
       "2  754888.359249                    -0.015202  ...                0.835315   \n",
       "3  754888.359249                    -0.015202  ...                0.835315   \n",
       "4            NaN                          NaN  ...                     NaN   \n",
       "\n",
       "   Unit Share of Category Year Ago  Unit Share of SubCategory  \\\n",
       "0                         0.906572                   1.230062   \n",
       "1                         0.906572                   1.230062   \n",
       "2                         0.906572                   1.230062   \n",
       "3                         0.906572                   1.230062   \n",
       "4                              NaN                        NaN   \n",
       "\n",
       "   Unit Share of SubCategory Year Ago  Price per Unit  \\\n",
       "0                            1.303955        1.603665   \n",
       "1                            1.303955        1.603665   \n",
       "2                            1.303955        1.603665   \n",
       "3                            1.303955        1.603665   \n",
       "4                                 NaN             NaN   \n",
       "\n",
       "   Price per Unit % Change vs YA                Category Name  \\\n",
       "0                       0.101032  TEA/COFFEE - READY-TO-DRINK   \n",
       "1                       0.101032  TEA/COFFEE - READY-TO-DRINK   \n",
       "2                       0.101032  TEA/COFFEE - READY-TO-DRINK   \n",
       "3                       0.101032  TEA/COFFEE - READY-TO-DRINK   \n",
       "4                            NaN          NON-CHOCOLATE CANDY   \n",
       "\n",
       "           Sub-Category Name       Brand Name REPORT  \n",
       "0     CANNED AND BOTTLED TEA           LIPTON      1  \n",
       "1     CANNED AND BOTTLED TEA           LIPTON      1  \n",
       "2     CANNED AND BOTTLED TEA           LIPTON      1  \n",
       "3     CANNED AND BOTTLED TEA           LIPTON      1  \n",
       "4  NON CHOCOLATE CHEWY CANDY  SOUR PATCH KIDS      1  \n",
       "\n",
       "[5 rows x 22 columns]"
      ]
     },
     "execution_count": 57,
     "metadata": {},
     "output_type": "execute_result"
    }
   ],
   "source": [
    "DF.head()"
   ]
  },
  {
   "cell_type": "markdown",
   "metadata": {},
   "source": []
  }
 ],
 "metadata": {
  "interpreter": {
   "hash": "5989d0768d935c7ff7e4731f453a8814b618c97145c1a2ccb8e17767eb008288"
  },
  "kernelspec": {
   "display_name": "Python 3.7.9 64-bit",
   "name": "python3"
  },
  "language_info": {
   "codemirror_mode": {
    "name": "ipython",
    "version": 3
   },
   "file_extension": ".py",
   "mimetype": "text/x-python",
   "name": "python",
   "nbconvert_exporter": "python",
   "pygments_lexer": "ipython3",
   "version": "3.7.9"
  },
  "orig_nbformat": 4
 },
 "nbformat": 4,
 "nbformat_minor": 2
}
