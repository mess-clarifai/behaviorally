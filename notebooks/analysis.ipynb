{
 "cells": [
  {
   "cell_type": "markdown",
   "metadata": {},
   "source": [
    "# Analysis\n",
    "\n",
    "---"
   ]
  },
  {
   "cell_type": "markdown",
   "metadata": {},
   "source": [
    "## Overview\n",
    "\n",
    "While the work that was done in the [correlations.ipynb](notebooks/correlations.ipynb) was good, it's important to summarize an present it in a clean manner to the customers.\n",
    "In addition there were some other results that @bryan and I wanted to see.\n",
    "This notebook will provide a clean, succint, means of doing this subsequent analysis and presentation.\n"
   ]
  },
  {
   "cell_type": "markdown",
   "metadata": {},
   "source": [
    "## Setup\n"
   ]
  },
  {
   "cell_type": "markdown",
   "metadata": {},
   "source": [
    "### Working Directory\n",
    "\n",
    "This just helps with using local imports from the larger project to the notebook."
   ]
  },
  {
   "cell_type": "code",
   "execution_count": 1,
   "metadata": {},
   "outputs": [
    {
     "name": "stdout",
     "output_type": "stream",
     "text": [
      "/Users/chrismessier/work/behaviorally\n"
     ]
    }
   ],
   "source": [
    "cd ../"
   ]
  },
  {
   "cell_type": "markdown",
   "metadata": {},
   "source": [
    "### Imports"
   ]
  },
  {
   "cell_type": "code",
   "execution_count": 2,
   "metadata": {},
   "outputs": [],
   "source": [
    "import os\n",
    "\n",
    "import numpy as np\n",
    "import pandas as pd\n",
    "import seaborn as sns\n",
    "from tqdm.notebook import tqdm\n",
    "from numpy import random as rng\n",
    "from matplotlib import pyplot as plt\n",
    "from google.protobuf.struct_pb2 import Struct\n",
    "from clarifai_grpc.channel.clarifai_channel import ClarifaiChannel\n",
    "from clarifai_grpc.grpc.api import resources_pb2, service_pb2, service_pb2_grpc\n",
    "from clarifai_grpc.grpc.api.status import status_pb2, status_code_pb2\n",
    "\n",
    "import processors\n",
    "import tools"
   ]
  },
  {
   "cell_type": "markdown",
   "metadata": {},
   "source": [
    "#### Plotting Config"
   ]
  },
  {
   "cell_type": "code",
   "execution_count": 3,
   "metadata": {},
   "outputs": [],
   "source": [
    "%matplotlib inline\n",
    "sns.set(\n",
    "    style='darkgrid'\n",
    ")"
   ]
  },
  {
   "cell_type": "code",
   "execution_count": 4,
   "metadata": {},
   "outputs": [],
   "source": [
    "from config import ONS_ANALYSIS_JOB_NUMBERS  # Job Numbers of interest for this"
   ]
  },
  {
   "cell_type": "markdown",
   "metadata": {},
   "source": [
    "## Analysis"
   ]
  },
  {
   "cell_type": "markdown",
   "metadata": {},
   "source": [
    "### Background"
   ]
  },
  {
   "cell_type": "markdown",
   "metadata": {},
   "source": [
    "Now that I have all of the information that I need for this analysis, I can finally string things together in a sensible manner; cleaning up was I had initially done in the [project-forensics.ipynb](./project-forensics.ipynb) file."
   ]
  },
  {
   "cell_type": "code",
   "execution_count": 5,
   "metadata": {},
   "outputs": [],
   "source": [
    "CLEANED_DATA = \"/Users/chrismessier/work/behaviorally/data/behaviorally_merged_sales_data.csv\""
   ]
  },
  {
   "cell_type": "code",
   "execution_count": 6,
   "metadata": {},
   "outputs": [],
   "source": [
    "df = pd.read_csv(CLEANED_DATA, index_col=0)"
   ]
  },
  {
   "cell_type": "code",
   "execution_count": 7,
   "metadata": {},
   "outputs": [],
   "source": [
    "df = df.infer_objects()"
   ]
  },
  {
   "cell_type": "code",
   "execution_count": 8,
   "metadata": {},
   "outputs": [
    {
     "name": "stdout",
     "output_type": "stream",
     "text": [
      "Image Name\n",
      "Image ID\n",
      "Raw ONS Line and Pack\n",
      "job_number\n",
      "upc\n",
      "upc_10\n",
      "UPC 10 digit\n",
      "Product\n",
      "Dollar Sales\n",
      "Dollar Sales % Change vs YA\n",
      "Unit Sales\n",
      "Unit Sales % Change vs YA\n",
      "Unit Share of Category\n",
      "Unit Share of Category Year Ago\n",
      "Unit Share of SubCategory\n",
      "Unit Share of SubCategory Year Ago\n",
      "Price per Unit\n",
      "Price per Unit % Change vs YA\n",
      "Category Name\n",
      "Sub-Category Name\n",
      "Brand Name\n",
      "REPORT\n"
     ]
    }
   ],
   "source": [
    "for c in df.columns:\n",
    "    print(c)"
   ]
  },
  {
   "cell_type": "code",
   "execution_count": 9,
   "metadata": {},
   "outputs": [
    {
     "data": {
      "text/html": [
       "<div>\n",
       "<style scoped>\n",
       "    .dataframe tbody tr th:only-of-type {\n",
       "        vertical-align: middle;\n",
       "    }\n",
       "\n",
       "    .dataframe tbody tr th {\n",
       "        vertical-align: top;\n",
       "    }\n",
       "\n",
       "    .dataframe thead th {\n",
       "        text-align: right;\n",
       "    }\n",
       "</style>\n",
       "<table border=\"1\" class=\"dataframe\">\n",
       "  <thead>\n",
       "    <tr style=\"text-align: right;\">\n",
       "      <th></th>\n",
       "      <th>Image Name</th>\n",
       "      <th>Image ID</th>\n",
       "      <th>Raw ONS Line and Pack</th>\n",
       "      <th>job_number</th>\n",
       "      <th>upc</th>\n",
       "      <th>upc_10</th>\n",
       "      <th>UPC 10 digit</th>\n",
       "      <th>Product</th>\n",
       "      <th>Dollar Sales</th>\n",
       "      <th>Dollar Sales % Change vs YA</th>\n",
       "      <th>...</th>\n",
       "      <th>Unit Share of Category</th>\n",
       "      <th>Unit Share of Category Year Ago</th>\n",
       "      <th>Unit Share of SubCategory</th>\n",
       "      <th>Unit Share of SubCategory Year Ago</th>\n",
       "      <th>Price per Unit</th>\n",
       "      <th>Price per Unit % Change vs YA</th>\n",
       "      <th>Category Name</th>\n",
       "      <th>Sub-Category Name</th>\n",
       "      <th>Brand Name</th>\n",
       "      <th>REPORT</th>\n",
       "    </tr>\n",
       "  </thead>\n",
       "  <tbody>\n",
       "    <tr>\n",
       "      <th>0</th>\n",
       "      <td>AB031_LINE1.jpg</td>\n",
       "      <td>LINE1</td>\n",
       "      <td>42.0</td>\n",
       "      <td>AB031</td>\n",
       "      <td>12000012754</td>\n",
       "      <td>1.200001e+09</td>\n",
       "      <td>1.200001e+09</td>\n",
       "      <td>LIPTON CITRUS GREEN TEA LIQUID PREPARED TEA PL...</td>\n",
       "      <td>754888.359249</td>\n",
       "      <td>-0.015202</td>\n",
       "      <td>...</td>\n",
       "      <td>0.835315</td>\n",
       "      <td>0.906572</td>\n",
       "      <td>1.230062</td>\n",
       "      <td>1.303955</td>\n",
       "      <td>1.603665</td>\n",
       "      <td>0.101032</td>\n",
       "      <td>TEA/COFFEE - READY-TO-DRINK</td>\n",
       "      <td>CANNED AND BOTTLED TEA</td>\n",
       "      <td>LIPTON</td>\n",
       "      <td>1.0</td>\n",
       "    </tr>\n",
       "    <tr>\n",
       "      <th>1</th>\n",
       "      <td>AB031_LINE2.jpg</td>\n",
       "      <td>LINE2</td>\n",
       "      <td>48.0</td>\n",
       "      <td>AB031</td>\n",
       "      <td>12000012754</td>\n",
       "      <td>1.200001e+09</td>\n",
       "      <td>1.200001e+09</td>\n",
       "      <td>LIPTON CITRUS GREEN TEA LIQUID PREPARED TEA PL...</td>\n",
       "      <td>754888.359249</td>\n",
       "      <td>-0.015202</td>\n",
       "      <td>...</td>\n",
       "      <td>0.835315</td>\n",
       "      <td>0.906572</td>\n",
       "      <td>1.230062</td>\n",
       "      <td>1.303955</td>\n",
       "      <td>1.603665</td>\n",
       "      <td>0.101032</td>\n",
       "      <td>TEA/COFFEE - READY-TO-DRINK</td>\n",
       "      <td>CANNED AND BOTTLED TEA</td>\n",
       "      <td>LIPTON</td>\n",
       "      <td>1.0</td>\n",
       "    </tr>\n",
       "  </tbody>\n",
       "</table>\n",
       "<p>2 rows × 22 columns</p>\n",
       "</div>"
      ],
      "text/plain": [
       "        Image Name Image ID  Raw ONS Line and Pack job_number          upc  \\\n",
       "0  AB031_LINE1.jpg    LINE1                   42.0      AB031  12000012754   \n",
       "1  AB031_LINE2.jpg    LINE2                   48.0      AB031  12000012754   \n",
       "\n",
       "         upc_10  UPC 10 digit  \\\n",
       "0  1.200001e+09  1.200001e+09   \n",
       "1  1.200001e+09  1.200001e+09   \n",
       "\n",
       "                                             Product   Dollar Sales  \\\n",
       "0  LIPTON CITRUS GREEN TEA LIQUID PREPARED TEA PL...  754888.359249   \n",
       "1  LIPTON CITRUS GREEN TEA LIQUID PREPARED TEA PL...  754888.359249   \n",
       "\n",
       "   Dollar Sales % Change vs YA  ...  Unit Share of Category  \\\n",
       "0                    -0.015202  ...                0.835315   \n",
       "1                    -0.015202  ...                0.835315   \n",
       "\n",
       "   Unit Share of Category Year Ago  Unit Share of SubCategory  \\\n",
       "0                         0.906572                   1.230062   \n",
       "1                         0.906572                   1.230062   \n",
       "\n",
       "   Unit Share of SubCategory Year Ago  Price per Unit  \\\n",
       "0                            1.303955        1.603665   \n",
       "1                            1.303955        1.603665   \n",
       "\n",
       "   Price per Unit % Change vs YA                Category Name  \\\n",
       "0                       0.101032  TEA/COFFEE - READY-TO-DRINK   \n",
       "1                       0.101032  TEA/COFFEE - READY-TO-DRINK   \n",
       "\n",
       "        Sub-Category Name Brand Name REPORT  \n",
       "0  CANNED AND BOTTLED TEA     LIPTON    1.0  \n",
       "1  CANNED AND BOTTLED TEA     LIPTON    1.0  \n",
       "\n",
       "[2 rows x 22 columns]"
      ]
     },
     "execution_count": 9,
     "metadata": {},
     "output_type": "execute_result"
    }
   ],
   "source": [
    "df.head(2)"
   ]
  },
  {
   "cell_type": "markdown",
   "metadata": {},
   "source": [
    "ONe key thing that was noted in my review with @bryan was that there were issues with some of the  variables of interest provided by Behaviorally.\n",
    "There are a couple where correlations just don't make causal sense: the \"price-per-unit\" columns.\n",
    "Decisions made that impact the price per unit will impact the packaging/aesthetics; it's not that the package suddenly changes and the price per unit then changes to reflect this difference.\n",
    "Also, there may be issues with colinearity between predictors: for instance, Dollar Sales is just a linear combination of unit sales, and unit price.\n",
    "Aberrent values should be dropped post haste, but these offending values should be dropped with notes as to why.\n",
    "\n",
    "One more thing: note those columns you want to see the conditional distributions of with the data!\n"
   ]
  },
  {
   "cell_type": "code",
   "execution_count": 10,
   "metadata": {},
   "outputs": [
    {
     "name": "stdout",
     "output_type": "stream",
     "text": [
      "'Image Name',\n",
      "'Image ID',\n",
      "'Raw ONS Line and Pack',\n",
      "'job_number',\n",
      "'upc',\n",
      "'upc_10',\n",
      "'UPC 10 digit',\n",
      "'Product',\n",
      "'Dollar Sales',\n",
      "'Dollar Sales % Change vs YA',\n",
      "'Unit Sales',\n",
      "'Unit Sales % Change vs YA',\n",
      "'Unit Share of Category',\n",
      "'Unit Share of Category Year Ago',\n",
      "'Unit Share of SubCategory',\n",
      "'Unit Share of SubCategory Year Ago',\n",
      "'Price per Unit',\n",
      "'Price per Unit % Change vs YA',\n",
      "'Category Name',\n",
      "'Sub-Category Name',\n",
      "'Brand Name',\n",
      "'REPORT',\n"
     ]
    }
   ],
   "source": [
    "for c in df.columns:\n",
    "    print(f\"'{c}',\")"
   ]
  },
  {
   "cell_type": "code",
   "execution_count": 11,
   "metadata": {},
   "outputs": [],
   "source": [
    "COLUMNS = [\n",
    "    'Image Name',  # [CONDITION] can be used as as\n",
    "    'Image ID', # [CONDITION] this is the line/pack info. \n",
    "    'Raw ONS Line and Pack',  # this is our \"X\" value. ## NOTE fix the xlim to be 0-100!\n",
    "    # 'job_number',  # dropped in favor of 'Product'\n",
    "    # 'upc',  # should be repeat of 'job_number'\n",
    "    # 'upc_10',  # should be repeat of 'job_number'\n",
    "    # 'UPC 10 digit',  # should be repeat of 'job_number'\n",
    "    'Product',  # [CONDITION] keeping this for viz labeling purposes\n",
    "    'Dollar Sales',  # using this as the key analytical category, given the price effects\n",
    "    'Dollar Sales % Change vs YA',  # removing the 'temporal' categories for now to simplify the analysis\n",
    "    'Unit Sales',\n",
    "    'Unit Sales % Change vs YA',\n",
    "    'Unit Share of Category',\n",
    "    'Unit Share of Category Year Ago',\n",
    "    'Unit Share of SubCategory',\n",
    "    'Unit Share of SubCategory Year Ago',\n",
    "    'Price per Unit',  # correlation simpy doesn't make sense here\n",
    "    'Price per Unit % Change vs YA',  # correlation simply doesn't make sense here.\n",
    "    'Category Name',  # [CONDITION]\n",
    "    'Sub-Category Name',  # [CONDITION]\n",
    "    # 'Brand Name',  # [CONDITION]\n",
    "    'REPORT',  # [CONDITION]\n",
    "]"
   ]
  },
  {
   "cell_type": "code",
   "execution_count": 12,
   "metadata": {},
   "outputs": [
    {
     "data": {
      "text/plain": [
       "['Image Name',\n",
       " 'Image ID',\n",
       " 'Raw ONS Line and Pack',\n",
       " 'Product',\n",
       " 'Dollar Sales',\n",
       " 'Unit Sales',\n",
       " 'Unit Share of Category',\n",
       " 'Unit Share of SubCategory',\n",
       " 'Category Name',\n",
       " 'Sub-Category Name',\n",
       " 'REPORT']"
      ]
     },
     "execution_count": 12,
     "metadata": {},
     "output_type": "execute_result"
    }
   ],
   "source": [
    "COLUMNS"
   ]
  },
  {
   "cell_type": "markdown",
   "metadata": {},
   "source": [
    "I'm simply going to drop all of the columns that are of no interest for analysis."
   ]
  },
  {
   "cell_type": "code",
   "execution_count": 13,
   "metadata": {},
   "outputs": [],
   "source": [
    "df.drop(columns=[c for c in df.columns if c not in COLUMNS], inplace=True)"
   ]
  },
  {
   "cell_type": "code",
   "execution_count": 14,
   "metadata": {},
   "outputs": [
    {
     "data": {
      "text/html": [
       "<div>\n",
       "<style scoped>\n",
       "    .dataframe tbody tr th:only-of-type {\n",
       "        vertical-align: middle;\n",
       "    }\n",
       "\n",
       "    .dataframe tbody tr th {\n",
       "        vertical-align: top;\n",
       "    }\n",
       "\n",
       "    .dataframe thead th {\n",
       "        text-align: right;\n",
       "    }\n",
       "</style>\n",
       "<table border=\"1\" class=\"dataframe\">\n",
       "  <thead>\n",
       "    <tr style=\"text-align: right;\">\n",
       "      <th></th>\n",
       "      <th>Image Name</th>\n",
       "      <th>Image ID</th>\n",
       "      <th>Raw ONS Line and Pack</th>\n",
       "      <th>Product</th>\n",
       "      <th>Dollar Sales</th>\n",
       "      <th>Unit Sales</th>\n",
       "      <th>Unit Share of Category</th>\n",
       "      <th>Unit Share of SubCategory</th>\n",
       "      <th>Category Name</th>\n",
       "      <th>Sub-Category Name</th>\n",
       "      <th>REPORT</th>\n",
       "    </tr>\n",
       "  </thead>\n",
       "  <tbody>\n",
       "    <tr>\n",
       "      <th>0</th>\n",
       "      <td>AB031_LINE1.jpg</td>\n",
       "      <td>LINE1</td>\n",
       "      <td>42.0</td>\n",
       "      <td>LIPTON CITRUS GREEN TEA LIQUID PREPARED TEA PL...</td>\n",
       "      <td>754888.359249</td>\n",
       "      <td>470727.082124</td>\n",
       "      <td>0.835315</td>\n",
       "      <td>1.230062</td>\n",
       "      <td>TEA/COFFEE - READY-TO-DRINK</td>\n",
       "      <td>CANNED AND BOTTLED TEA</td>\n",
       "      <td>1.0</td>\n",
       "    </tr>\n",
       "    <tr>\n",
       "      <th>1</th>\n",
       "      <td>AB031_LINE2.jpg</td>\n",
       "      <td>LINE2</td>\n",
       "      <td>48.0</td>\n",
       "      <td>LIPTON CITRUS GREEN TEA LIQUID PREPARED TEA PL...</td>\n",
       "      <td>754888.359249</td>\n",
       "      <td>470727.082124</td>\n",
       "      <td>0.835315</td>\n",
       "      <td>1.230062</td>\n",
       "      <td>TEA/COFFEE - READY-TO-DRINK</td>\n",
       "      <td>CANNED AND BOTTLED TEA</td>\n",
       "      <td>1.0</td>\n",
       "    </tr>\n",
       "    <tr>\n",
       "      <th>2</th>\n",
       "      <td>AB031_LINE3.jpg</td>\n",
       "      <td>LINE3</td>\n",
       "      <td>42.0</td>\n",
       "      <td>LIPTON CITRUS GREEN TEA LIQUID PREPARED TEA PL...</td>\n",
       "      <td>754888.359249</td>\n",
       "      <td>470727.082124</td>\n",
       "      <td>0.835315</td>\n",
       "      <td>1.230062</td>\n",
       "      <td>TEA/COFFEE - READY-TO-DRINK</td>\n",
       "      <td>CANNED AND BOTTLED TEA</td>\n",
       "      <td>1.0</td>\n",
       "    </tr>\n",
       "    <tr>\n",
       "      <th>3</th>\n",
       "      <td>AB031_LINE4.jpg</td>\n",
       "      <td>LINE4</td>\n",
       "      <td>40.0</td>\n",
       "      <td>LIPTON CITRUS GREEN TEA LIQUID PREPARED TEA PL...</td>\n",
       "      <td>754888.359249</td>\n",
       "      <td>470727.082124</td>\n",
       "      <td>0.835315</td>\n",
       "      <td>1.230062</td>\n",
       "      <td>TEA/COFFEE - READY-TO-DRINK</td>\n",
       "      <td>CANNED AND BOTTLED TEA</td>\n",
       "      <td>1.0</td>\n",
       "    </tr>\n",
       "    <tr>\n",
       "      <th>4</th>\n",
       "      <td>AB111_LINE1.jpg</td>\n",
       "      <td>LINE1</td>\n",
       "      <td>45.0</td>\n",
       "      <td>SOUR PATCH KIDS ASSORTED SOUR CHEWY CANDY PIEC...</td>\n",
       "      <td>NaN</td>\n",
       "      <td>NaN</td>\n",
       "      <td>NaN</td>\n",
       "      <td>NaN</td>\n",
       "      <td>NON-CHOCOLATE CANDY</td>\n",
       "      <td>NON CHOCOLATE CHEWY CANDY</td>\n",
       "      <td>1.0</td>\n",
       "    </tr>\n",
       "  </tbody>\n",
       "</table>\n",
       "</div>"
      ],
      "text/plain": [
       "        Image Name Image ID  Raw ONS Line and Pack  \\\n",
       "0  AB031_LINE1.jpg    LINE1                   42.0   \n",
       "1  AB031_LINE2.jpg    LINE2                   48.0   \n",
       "2  AB031_LINE3.jpg    LINE3                   42.0   \n",
       "3  AB031_LINE4.jpg    LINE4                   40.0   \n",
       "4  AB111_LINE1.jpg    LINE1                   45.0   \n",
       "\n",
       "                                             Product   Dollar Sales  \\\n",
       "0  LIPTON CITRUS GREEN TEA LIQUID PREPARED TEA PL...  754888.359249   \n",
       "1  LIPTON CITRUS GREEN TEA LIQUID PREPARED TEA PL...  754888.359249   \n",
       "2  LIPTON CITRUS GREEN TEA LIQUID PREPARED TEA PL...  754888.359249   \n",
       "3  LIPTON CITRUS GREEN TEA LIQUID PREPARED TEA PL...  754888.359249   \n",
       "4  SOUR PATCH KIDS ASSORTED SOUR CHEWY CANDY PIEC...            NaN   \n",
       "\n",
       "      Unit Sales  Unit Share of Category  Unit Share of SubCategory  \\\n",
       "0  470727.082124                0.835315                   1.230062   \n",
       "1  470727.082124                0.835315                   1.230062   \n",
       "2  470727.082124                0.835315                   1.230062   \n",
       "3  470727.082124                0.835315                   1.230062   \n",
       "4            NaN                     NaN                        NaN   \n",
       "\n",
       "                 Category Name          Sub-Category Name  REPORT  \n",
       "0  TEA/COFFEE - READY-TO-DRINK     CANNED AND BOTTLED TEA     1.0  \n",
       "1  TEA/COFFEE - READY-TO-DRINK     CANNED AND BOTTLED TEA     1.0  \n",
       "2  TEA/COFFEE - READY-TO-DRINK     CANNED AND BOTTLED TEA     1.0  \n",
       "3  TEA/COFFEE - READY-TO-DRINK     CANNED AND BOTTLED TEA     1.0  \n",
       "4          NON-CHOCOLATE CANDY  NON CHOCOLATE CHEWY CANDY     1.0  "
      ]
     },
     "execution_count": 14,
     "metadata": {},
     "output_type": "execute_result"
    }
   ],
   "source": [
    "df.head()"
   ]
  },
  {
   "cell_type": "code",
   "execution_count": 15,
   "metadata": {},
   "outputs": [],
   "source": [
    "conditions = [\n",
    "    'Image Name',\n",
    "    'Image ID',\n",
    "    'Product',  \n",
    "    'Category Name',\n",
    "    'Sub-Category Name',\n",
    "    'REPORT',\n",
    "]\n",
    "metrics = [\n",
    "    # 'Product',  # for normalization\n",
    "    'Raw ONS Line and Pack',  # x, all else y's\n",
    "    'Dollar Sales',\n",
    "    'Unit Sales',\n",
    "    'Unit Share of Category',\n",
    "    'Unit Share of SubCategory'\n",
    "]"
   ]
  },
  {
   "cell_type": "markdown",
   "metadata": {},
   "source": [
    "The amount of missing values might present a problem.\n",
    "However for this, I'm simply going to drop the missing values."
   ]
  },
  {
   "cell_type": "code",
   "execution_count": 16,
   "metadata": {},
   "outputs": [],
   "source": [
    "df.dropna(inplace=True)"
   ]
  },
  {
   "cell_type": "code",
   "execution_count": 17,
   "metadata": {},
   "outputs": [
    {
     "data": {
      "text/plain": [
       "(39808, 11)"
      ]
     },
     "execution_count": 17,
     "metadata": {},
     "output_type": "execute_result"
    }
   ],
   "source": [
    "df.shape"
   ]
  },
  {
   "cell_type": "code",
   "execution_count": 18,
   "metadata": {},
   "outputs": [],
   "source": [
    "df_conditions = df[conditions].copy()\n",
    "df_metrics = df[metrics].copy()"
   ]
  },
  {
   "cell_type": "markdown",
   "metadata": {},
   "source": [
    "I'm going to just grab the plotting from [correlations.ipynb](notebooks/correlations.ipynb)"
   ]
  },
  {
   "cell_type": "markdown",
   "metadata": {},
   "source": [
    "I can't get the normalization to work, and there's no time to reapproach, just tackling graphs now."
   ]
  },
  {
   "cell_type": "code",
   "execution_count": 19,
   "metadata": {},
   "outputs": [],
   "source": [
    "# h/t https://stackoverflow.com/a/35828995\n",
    "# grouping = 'Product'\n",
    "# filt_df = df_y.loc[:, df_y.columns != grouping]\n",
    "# low = .05\n",
    "# high = .95\n",
    "# quant_df = filt_df.quantile([low, high])\n",
    "# print(quant_df)\n",
    "# out_df = filt_df.apply(lambda x: x[(x > quant_df.loc[low, x.name]) & (x < quant_df.loc[high, x.name])], axis=0)\n",
    "# pu = pd.concat([df.loc[:, grouping], filt_df], axis=1)\n"
   ]
  },
  {
   "cell_type": "code",
   "execution_count": 20,
   "metadata": {},
   "outputs": [],
   "source": [
    "from scipy import stats\n",
    "OVERWRITE = True\n",
    "OUTPUT_DIR = \"/Users/chrismessier/work/behaviorally/outputs/analysis\"\n",
    "\n",
    "x, *Y = df_metrics.columns\n",
    "df_ = df.copy()\n",
    "# df_y = df_[Y].copy()  # HACK indexing here\n",
    "df_ = df_[(np.abs(stats.zscore(df_[Y])) < 3).all(axis=1)]\n",
    "\n",
    "# df_ = pd.concat([df.loc[:, x], df_y], axis=1)"
   ]
  },
  {
   "cell_type": "code",
   "execution_count": 21,
   "metadata": {},
   "outputs": [],
   "source": [
    "frmt = lambda s: '-'.join(s.upper().split()).replace('%', 'PCT')"
   ]
  },
  {
   "cell_type": "code",
   "execution_count": 25,
   "metadata": {},
   "outputs": [
    {
     "name": "stdout",
     "output_type": "stream",
     "text": [
      "Raw ONS Line and Pack VS. Dollar Sales\n",
      "Raw ONS Line and Pack VS. Unit Sales\n",
      "Raw ONS Line and Pack VS. Unit Share of Category\n",
      "Raw ONS Line and Pack VS. Unit Share of SubCategory\n"
     ]
    },
    {
     "data": {
      "text/plain": [
       "<Figure size 432x288 with 0 Axes>"
      ]
     },
     "metadata": {},
     "output_type": "display_data"
    }
   ],
   "source": [
    "for y in Y:\n",
    "    print(f\"{x} VS. {y}\")\n",
    "\n",
    "    R = df_[x].corr(df_[y])\n",
    "\n",
    "    title = f\"{x} vs. {y}\\n$R={R:.3f}$\"\n",
    "\n",
    "    image_name = f\"{frmt(x)}_v_{frmt(y)}.png\"\n",
    "\n",
    "    save_dir = os.path.join(OUTPUT_DIR)\n",
    "\n",
    "    os.makedirs(save_dir, exist_ok=True)\n",
    "\n",
    "    output_path = os.path.join(save_dir, image_name)\n",
    "\n",
    "    if not os.path.exists(output_path) or OVERWRITE:\n",
    "\n",
    "        plt.title(title)\n",
    "        plt.scatter(df_[x], df_[y])\n",
    "        plt.xlabel(x)\n",
    "        plt.xlim((0, 100))  # once normalized this makes no sense\n",
    "        plt.ylabel(c)\n",
    "        plt.tight_layout()\n",
    "\n",
    "        plt.savefig(output_path)\n",
    "\n",
    "        plt.clf()  # \n"
   ]
  },
  {
   "cell_type": "code",
   "execution_count": 23,
   "metadata": {},
   "outputs": [],
   "source": [
    "def quick_plot(a, b, title=None):\n",
    "    \n",
    "    plt.scatter(a, b)\n",
    "    if title: plt.title(title)\n",
    "    "
   ]
  },
  {
   "cell_type": "markdown",
   "metadata": {},
   "source": [
    "Looking at the data, it's pretty obvious that I need to be doing some more \"intelligent\" outlier filtering, but really, I think this might be a moot point once this is normalized."
   ]
  },
  {
   "cell_type": "code",
   "execution_count": null,
   "metadata": {},
   "outputs": [],
   "source": [
    "df_y = df_y.drop(columns='Product')"
   ]
  },
  {
   "cell_type": "code",
   "execution_count": null,
   "metadata": {},
   "outputs": [],
   "source": [
    "df_.head()"
   ]
  },
  {
   "cell_type": "code",
   "execution_count": null,
   "metadata": {},
   "outputs": [],
   "source": [
    "df_"
   ]
  },
  {
   "cell_type": "markdown",
   "metadata": {},
   "source": [
    "4/26 Debrief\n",
    "\n",
    "It turns out there are only 51 images of interest to Behaviorally.\n",
    "This changes the analysis substantially.\n",
    "Choosing to see this as something positive; narrowing things down this much allows us to really focus in on things."
   ]
  },
  {
   "cell_type": "markdown",
   "metadata": {},
   "source": [
    "Starting with narrowing the predicted ONS values Tony had set up, this presents a much more focused approach to the rest of the data, and will make it much easier to drill down into specifics.\n"
   ]
  },
  {
   "cell_type": "markdown",
   "metadata": {},
   "source": []
  }
 ],
 "metadata": {
  "interpreter": {
   "hash": "5989d0768d935c7ff7e4731f453a8814b618c97145c1a2ccb8e17767eb008288"
  },
  "kernelspec": {
   "display_name": "Python 3.7.9 64-bit",
   "name": "python3"
  },
  "language_info": {
   "codemirror_mode": {
    "name": "ipython",
    "version": 3
   },
   "file_extension": ".py",
   "mimetype": "text/x-python",
   "name": "python",
   "nbconvert_exporter": "python",
   "pygments_lexer": "ipython3",
   "version": "3.7.9"
  },
  "orig_nbformat": 4
 },
 "nbformat": 4,
 "nbformat_minor": 2
}
